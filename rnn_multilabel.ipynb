{
  "nbformat": 4,
  "nbformat_minor": 0,
  "metadata": {
    "colab": {
      "name": "rnn_multilabel.ipynb",
      "version": "0.3.2",
      "provenance": [],
      "collapsed_sections": [
        "fHyvqK57sE2T",
        "eBGtsIZCshtK",
        "MJIfgIcKvIYh",
        "x-UCczAxvKPF",
        "HtE6nacc7BKY"
      ],
      "toc_visible": true,
      "include_colab_link": true
    },
    "kernelspec": {
      "name": "python3",
      "display_name": "Python 3"
    },
    "accelerator": "GPU"
  },
  "cells": [
    {
      "cell_type": "markdown",
      "metadata": {
        "id": "view-in-github",
        "colab_type": "text"
      },
      "source": [
        "<a href=\"https://colab.research.google.com/github/rizkyfalih/Hadist-Multilabel/blob/master/rnn_multilabel.ipynb\" target=\"_parent\"><img src=\"https://colab.research.google.com/assets/colab-badge.svg\" alt=\"Open In Colab\"/></a>"
      ]
    },
    {
      "metadata": {
        "id": "9twKZcKWqZmC",
        "colab_type": "text"
      },
      "cell_type": "markdown",
      "source": [
        "# Hadist Multilabel RNN"
      ]
    },
    {
      "metadata": {
        "id": "zcx-vv1yOAah",
        "colab_type": "text"
      },
      "cell_type": "markdown",
      "source": [
        "## Import the libraries"
      ]
    },
    {
      "metadata": {
        "id": "nfpFCE9eLzaz",
        "colab_type": "code",
        "outputId": "c9d44ebc-0601-4feb-b0d8-f1b7b2dc02aa",
        "colab": {
          "base_uri": "https://localhost:8080/",
          "height": 34
        }
      },
      "cell_type": "code",
      "source": [
        "import pandas as pd\n",
        "import numpy as np\n",
        "import matplotlib.pyplot as plt\n",
        "import seaborn as sns\n",
        "from sklearn.model_selection import train_test_split\n",
        "from sklearn.preprocessing import LabelEncoder\n",
        "from keras.models import Model\n",
        "from keras.layers import LSTM, Activation, Dense, Dropout, Input, Embedding, GRU,SimpleRNN\n",
        "from keras.optimizers import RMSprop\n",
        "from keras.preprocessing.text import Tokenizer\n",
        "from keras.preprocessing import sequence\n",
        "from keras.utils import to_categorical\n",
        "from keras.callbacks import EarlyStopping\n",
        "%matplotlib inline"
      ],
      "execution_count": 1,
      "outputs": [
        {
          "output_type": "stream",
          "text": [
            "Using TensorFlow backend.\n"
          ],
          "name": "stderr"
        }
      ]
    },
    {
      "metadata": {
        "id": "82qVDgbtsYru",
        "colab_type": "text"
      },
      "cell_type": "markdown",
      "source": [
        "## Processing the data"
      ]
    },
    {
      "metadata": {
        "id": "C32ZQzpcObXE",
        "colab_type": "code",
        "outputId": "00ab2832-f283-45f7-e539-dd2eaa8aa74b",
        "colab": {
          "base_uri": "https://localhost:8080/",
          "height": 343
        }
      },
      "cell_type": "code",
      "source": [
        "# reading data\n",
        "df = pd.read_excel('Multilabel.xlsx')\n",
        "df[:10]"
      ],
      "execution_count": 2,
      "outputs": [
        {
          "output_type": "execute_result",
          "data": {
            "text/html": [
              "<div>\n",
              "<style scoped>\n",
              "    .dataframe tbody tr th:only-of-type {\n",
              "        vertical-align: middle;\n",
              "    }\n",
              "\n",
              "    .dataframe tbody tr th {\n",
              "        vertical-align: top;\n",
              "    }\n",
              "\n",
              "    .dataframe thead th {\n",
              "        text-align: right;\n",
              "    }\n",
              "</style>\n",
              "<table border=\"1\" class=\"dataframe\">\n",
              "  <thead>\n",
              "    <tr style=\"text-align: right;\">\n",
              "      <th></th>\n",
              "      <th>Data</th>\n",
              "      <th>Anjuran</th>\n",
              "      <th>Larangan</th>\n",
              "      <th>Informasi</th>\n",
              "      <th>Bab Kitab</th>\n",
              "    </tr>\n",
              "  </thead>\n",
              "  <tbody>\n",
              "    <tr>\n",
              "      <th>0</th>\n",
              "      <td>Semua perbuatan tergantung niatnya, dan (balas...</td>\n",
              "      <td>0</td>\n",
              "      <td>0</td>\n",
              "      <td>1</td>\n",
              "      <td>1</td>\n",
              "    </tr>\n",
              "    <tr>\n",
              "      <th>1</th>\n",
              "      <td>Terkadang datang kepadaku seperti suara gemeri...</td>\n",
              "      <td>0</td>\n",
              "      <td>0</td>\n",
              "      <td>1</td>\n",
              "      <td>1</td>\n",
              "    </tr>\n",
              "    <tr>\n",
              "      <th>2</th>\n",
              "      <td>Bacalah? Beliau menjawab: Aku tidak bisa baca....</td>\n",
              "      <td>0</td>\n",
              "      <td>0</td>\n",
              "      <td>1</td>\n",
              "      <td>1</td>\n",
              "    </tr>\n",
              "    <tr>\n",
              "      <th>3</th>\n",
              "      <td>sangat kuat keinginannya untuk menghafalkan ap...</td>\n",
              "      <td>0</td>\n",
              "      <td>1</td>\n",
              "      <td>1</td>\n",
              "      <td>1</td>\n",
              "    </tr>\n",
              "    <tr>\n",
              "      <th>4</th>\n",
              "      <td>manusia yang paling lembut terutama pada bulan...</td>\n",
              "      <td>0</td>\n",
              "      <td>0</td>\n",
              "      <td>1</td>\n",
              "      <td>1</td>\n",
              "    </tr>\n",
              "    <tr>\n",
              "      <th>5</th>\n",
              "      <td>Dari Muhammad, hamba Allah dan Rasul-Nya untuk...</td>\n",
              "      <td>1</td>\n",
              "      <td>1</td>\n",
              "      <td>1</td>\n",
              "      <td>1</td>\n",
              "    </tr>\n",
              "    <tr>\n",
              "      <th>6</th>\n",
              "      <td>Islam dibangun diatas lima (landasan); persaks...</td>\n",
              "      <td>0</td>\n",
              "      <td>0</td>\n",
              "      <td>1</td>\n",
              "      <td>2</td>\n",
              "    </tr>\n",
              "    <tr>\n",
              "      <th>7</th>\n",
              "      <td>Iman memiliki lebih dari enam puluh cabang, da...</td>\n",
              "      <td>0</td>\n",
              "      <td>0</td>\n",
              "      <td>1</td>\n",
              "      <td>2</td>\n",
              "    </tr>\n",
              "    <tr>\n",
              "      <th>8</th>\n",
              "      <td>Seorang muslim adalah orang yang Kaum Muslimin...</td>\n",
              "      <td>0</td>\n",
              "      <td>1</td>\n",
              "      <td>1</td>\n",
              "      <td>2</td>\n",
              "    </tr>\n",
              "    <tr>\n",
              "      <th>9</th>\n",
              "      <td>Siapa yang Kaum Muslimin selamat dari lisan da...</td>\n",
              "      <td>0</td>\n",
              "      <td>0</td>\n",
              "      <td>1</td>\n",
              "      <td>2</td>\n",
              "    </tr>\n",
              "  </tbody>\n",
              "</table>\n",
              "</div>"
            ],
            "text/plain": [
              "                                                Data  Anjuran  Larangan  \\\n",
              "0  Semua perbuatan tergantung niatnya, dan (balas...        0         0   \n",
              "1  Terkadang datang kepadaku seperti suara gemeri...        0         0   \n",
              "2  Bacalah? Beliau menjawab: Aku tidak bisa baca....        0         0   \n",
              "3  sangat kuat keinginannya untuk menghafalkan ap...        0         1   \n",
              "4  manusia yang paling lembut terutama pada bulan...        0         0   \n",
              "5  Dari Muhammad, hamba Allah dan Rasul-Nya untuk...        1         1   \n",
              "6  Islam dibangun diatas lima (landasan); persaks...        0         0   \n",
              "7  Iman memiliki lebih dari enam puluh cabang, da...        0         0   \n",
              "8  Seorang muslim adalah orang yang Kaum Muslimin...        0         1   \n",
              "9  Siapa yang Kaum Muslimin selamat dari lisan da...        0         0   \n",
              "\n",
              "   Informasi  Bab Kitab  \n",
              "0          1          1  \n",
              "1          1          1  \n",
              "2          1          1  \n",
              "3          1          1  \n",
              "4          1          1  \n",
              "5          1          1  \n",
              "6          1          2  \n",
              "7          1          2  \n",
              "8          1          2  \n",
              "9          1          2  "
            ]
          },
          "metadata": {
            "tags": []
          },
          "execution_count": 2
        }
      ]
    },
    {
      "metadata": {
        "id": "1xmTFY52VOqW",
        "colab_type": "code",
        "outputId": "9b4cfbd4-b356-4585-d99f-29a1ff9283f6",
        "colab": {
          "base_uri": "https://localhost:8080/",
          "height": 185
        }
      },
      "cell_type": "code",
      "source": [
        "df.info()"
      ],
      "execution_count": 3,
      "outputs": [
        {
          "output_type": "stream",
          "text": [
            "<class 'pandas.core.frame.DataFrame'>\n",
            "RangeIndex: 1064 entries, 0 to 1063\n",
            "Data columns (total 5 columns):\n",
            "Data         1064 non-null object\n",
            "Anjuran      1064 non-null int64\n",
            "Larangan     1064 non-null int64\n",
            "Informasi    1064 non-null int64\n",
            "Bab Kitab    1064 non-null int64\n",
            "dtypes: int64(4), object(1)\n",
            "memory usage: 41.6+ KB\n"
          ],
          "name": "stdout"
        }
      ]
    },
    {
      "metadata": {
        "id": "jMtNxA0wXcTV",
        "colab_type": "code",
        "outputId": "535c10de-6b5b-4ab1-b43c-69aa529ef88c",
        "colab": {
          "base_uri": "https://localhost:8080/",
          "height": 364
        }
      },
      "cell_type": "code",
      "source": [
        "sns.countplot(df.Larangan)\n",
        "plt.xlabel('Label')\n",
        "plt.title('Number of false and true anjuran information')"
      ],
      "execution_count": 4,
      "outputs": [
        {
          "output_type": "stream",
          "text": [
            "/usr/local/lib/python3.6/dist-packages/seaborn/categorical.py:1428: FutureWarning: remove_na is deprecated and is a private function. Do not use.\n",
            "  stat_data = remove_na(group_data)\n"
          ],
          "name": "stderr"
        },
        {
          "output_type": "execute_result",
          "data": {
            "text/plain": [
              "Text(0.5, 1.0, 'Number of false and true anjuran information')"
            ]
          },
          "metadata": {
            "tags": []
          },
          "execution_count": 4
        },
        {
          "output_type": "display_data",
          "data": {
            "image/png": "[encoded data removed]",
            "text/plain": [
              "<Figure size 432x288 with 1 Axes>"
            ]
          },
          "metadata": {
            "tags": []
          }
        }
      ]
    },
    {
      "metadata": {
        "id": "mmuc12QMs2MX",
        "colab_type": "text"
      },
      "cell_type": "markdown",
      "source": [
        "### Initialize the data\n"
      ]
    },
    {
      "metadata": {
        "id": "sB6sYr7jzPJh",
        "colab_type": "code",
        "outputId": "55ffef60-97bb-4264-da5a-d96533ae3adb",
        "colab": {
          "base_uri": "https://localhost:8080/",
          "height": 34
        }
      },
      "cell_type": "code",
      "source": [
        "X = df.Data.str.lower()\n",
        "\n",
        "X.shape"
      ],
      "execution_count": 5,
      "outputs": [
        {
          "output_type": "execute_result",
          "data": {
            "text/plain": [
              "(1064,)"
            ]
          },
          "metadata": {
            "tags": []
          },
          "execution_count": 5
        }
      ]
    },
    {
      "metadata": {
        "id": "YotRPswWzgOq",
        "colab_type": "code",
        "outputId": "d733b66a-705d-4d35-c4b5-7643a9f2609c",
        "colab": {
          "base_uri": "https://localhost:8080/",
          "height": 34
        }
      },
      "cell_type": "code",
      "source": [
        "Y1 = df.Anjuran\n",
        "\n",
        "Y1.shape"
      ],
      "execution_count": 6,
      "outputs": [
        {
          "output_type": "execute_result",
          "data": {
            "text/plain": [
              "(1064,)"
            ]
          },
          "metadata": {
            "tags": []
          },
          "execution_count": 6
        }
      ]
    },
    {
      "metadata": {
        "id": "n-lZJ6pgU5M9",
        "colab_type": "code",
        "colab": {}
      },
      "cell_type": "code",
      "source": [
        "X = df.Data.str.lower()\n",
        "Y1 = df.Anjuran\n",
        "Y2 = df.Larangan\n",
        "Y3 = df.Informasi\n",
        "le = LabelEncoder()\n",
        "\n",
        "# Y1 = le.fit_transform(Y1)\n",
        "# Y1 = Y1.reshape(-1,1)\n",
        "Y1 = Y1.values.reshape([-1,1])\n",
        "\n",
        "# Y2 = le.fit_transform(Y2)\n",
        "# Y2 = Y2.reshape(-1,1)\n",
        "Y2 = Y2.values.reshape([-1,1])\n",
        "\n",
        "# Y3 = le.fit_transform(Y3)\n",
        "# Y3 = Y3.reshape(-1,1)\n",
        "Y3 = Y3.values.reshape([-1,1])"
      ],
      "execution_count": 0,
      "outputs": []
    },
    {
      "metadata": {
        "id": "JiIYvliJzwsF",
        "colab_type": "code",
        "outputId": "29ea6289-cb5e-472a-dafe-c78fd3439920",
        "colab": {
          "base_uri": "https://localhost:8080/",
          "height": 34
        }
      },
      "cell_type": "code",
      "source": [
        "Y1.shape"
      ],
      "execution_count": 8,
      "outputs": [
        {
          "output_type": "execute_result",
          "data": {
            "text/plain": [
              "(1064, 1)"
            ]
          },
          "metadata": {
            "tags": []
          },
          "execution_count": 8
        }
      ]
    },
    {
      "metadata": {
        "id": "c78cz19btFvA",
        "colab_type": "text"
      },
      "cell_type": "markdown",
      "source": [
        "### Split the data"
      ]
    },
    {
      "metadata": {
        "id": "O0HMpSV1WK_m",
        "colab_type": "code",
        "colab": {}
      },
      "cell_type": "code",
      "source": [
        "X1_train,X1_test,Y1_train,Y1_test = train_test_split(X,Y1,test_size=0.20,shuffle=False)\n",
        "X2_train,X2_test,Y2_train,Y2_test = train_test_split(X,Y2,test_size=0.20,shuffle=False)\n",
        "X3_train,X3_test,Y3_train,Y3_test = train_test_split(X,Y3,test_size=0.20,shuffle=False)"
      ],
      "execution_count": 0,
      "outputs": []
    },
    {
      "metadata": {
        "id": "Yyg9N4_nwaRO",
        "colab_type": "text"
      },
      "cell_type": "markdown",
      "source": [
        "### Preprocess data"
      ]
    },
    {
      "metadata": {
        "id": "hNi_qeqSz1TO",
        "colab_type": "text"
      },
      "cell_type": "markdown",
      "source": [
        "#### Without preprocess data"
      ]
    },
    {
      "metadata": {
        "id": "3xNUHPOnatMg",
        "colab_type": "code",
        "colab": {}
      },
      "cell_type": "code",
      "source": [
        "# Ajuran\n",
        "max_words = 5000\n",
        "max_len = 5000\n",
        "tok = Tokenizer(num_words=max_words, lower=False, filters='\"\\t\\n')\n",
        "tok.fit_on_texts(X1_train)\n",
        "sequences = tok.texts_to_sequences(X1_train)\n",
        "sequences_matrix1 = sequence.pad_sequences(sequences,maxlen=max_len)"
      ],
      "execution_count": 0,
      "outputs": []
    },
    {
      "metadata": {
        "id": "AitMM9cFza1A",
        "colab_type": "code",
        "colab": {}
      },
      "cell_type": "code",
      "source": [
        "# larangan\n",
        "max_words = 5000\n",
        "max_len = 5000\n",
        "tok = Tokenizer(num_words=max_words, lower=False, filters='\"\\t\\n')\n",
        "tok.fit_on_texts(X2_train)\n",
        "sequences = tok.texts_to_sequences(X2_train)\n",
        "sequences_matrix2 = sequence.pad_sequences(sequences,maxlen=max_len)"
      ],
      "execution_count": 0,
      "outputs": []
    },
    {
      "metadata": {
        "id": "IYJq6_bnzbb5",
        "colab_type": "code",
        "colab": {}
      },
      "cell_type": "code",
      "source": [
        "# Informasi\n",
        "max_words = 5000\n",
        "max_len = 5000\n",
        "tok = Tokenizer(num_words=max_words, lower=False, filters='\"\\t\\n')\n",
        "tok.fit_on_texts(X3_train)\n",
        "sequences = tok.texts_to_sequences(X3_train)\n",
        "sequences_matrix3 = sequence.pad_sequences(sequences,maxlen=max_len)"
      ],
      "execution_count": 0,
      "outputs": []
    },
    {
      "metadata": {
        "id": "a-MWAHZw1K8a",
        "colab_type": "code",
        "outputId": "3b1aa8c0-cf30-4b9d-a9dd-deaf0d97f5af",
        "colab": {
          "base_uri": "https://localhost:8080/",
          "height": 34
        }
      },
      "cell_type": "code",
      "source": [
        "sequences_matrix3[1]"
      ],
      "execution_count": 13,
      "outputs": [
        {
          "output_type": "execute_result",
          "data": {
            "text/plain": [
              "array([   0,    0,    0, ...,    5, 2856, 1852], dtype=int32)"
            ]
          },
          "metadata": {
            "tags": []
          },
          "execution_count": 13
        }
      ]
    },
    {
      "metadata": {
        "id": "7E5ubKI8zQP_",
        "colab_type": "text"
      },
      "cell_type": "markdown",
      "source": [
        "## Build RNN"
      ]
    },
    {
      "metadata": {
        "colab_type": "text",
        "id": "uyuk38AbseKP"
      },
      "cell_type": "markdown",
      "source": [
        "### Simple RNN"
      ]
    },
    {
      "metadata": {
        "colab_type": "code",
        "id": "qIqVrtOMseKU",
        "colab": {}
      },
      "cell_type": "code",
      "source": [
        "from keras.models import Sequential\n",
        "def simpleRNN():\n",
        "    model = Sequential()\n",
        "    model.add(Embedding(max_words, 64, input_length=max_len))\n",
        "    model.add(SimpleRNN(64, init='uniform'))\n",
        "    model.add(Dense(1, init='uniform', activation='sigmoid'))\n",
        "    model.compile(loss='binary_crossentropy', optimizer='rmsprop', metrics=['accuracy'])\n",
        "#     inputs = Input(name='inputs',shape=[max_len])\n",
        "#     layer = Embedding(max_words,50,input_length=max_len)(inputs)\n",
        "#     layer = GRU(64)(layer)\n",
        "#     layer = Dense(256,name='FC1')(layer)\n",
        "#     layer = Activation('relu')(layer)\n",
        "#     layer = Dropout(0.5)(layer)\n",
        "#     layer = Dense(1,name='out_layer')(layer)\n",
        "#     layer = Activation('sigmoid')(layer)\n",
        "#     model = Model(inputs=inputs,outputs=layer)\n",
        "    return model"
      ],
      "execution_count": 0,
      "outputs": []
    },
    {
      "metadata": {
        "colab_type": "code",
        "outputId": "afe36cae-2371-4d61-fd9d-0e28d19fedf8",
        "id": "6lEfmDzyseKi",
        "colab": {
          "base_uri": "https://localhost:8080/",
          "height": 373
        }
      },
      "cell_type": "code",
      "source": [
        "modelSimple1 = simpleRNN()\n",
        "modelSimple1.summary()\n",
        "# model1.compile(loss='binary_crossentropy',optimizer=RMSprop(),metrics=['accuracy'])"
      ],
      "execution_count": 15,
      "outputs": [
        {
          "output_type": "stream",
          "text": [
            "WARNING:tensorflow:From /usr/local/lib/python3.6/dist-packages/tensorflow/python/framework/op_def_library.py:263: colocate_with (from tensorflow.python.framework.ops) is deprecated and will be removed in a future version.\n",
            "Instructions for updating:\n",
            "Colocations handled automatically by placer.\n"
          ],
          "name": "stdout"
        },
        {
          "output_type": "stream",
          "text": [
            "/usr/local/lib/python3.6/dist-packages/ipykernel_launcher.py:5: UserWarning: Update your `SimpleRNN` call to the Keras 2 API: `SimpleRNN(64, kernel_initializer=\"uniform\")`\n",
            "  \"\"\"\n",
            "/usr/local/lib/python3.6/dist-packages/ipykernel_launcher.py:6: UserWarning: Update your `Dense` call to the Keras 2 API: `Dense(1, activation=\"sigmoid\", kernel_initializer=\"uniform\")`\n",
            "  \n"
          ],
          "name": "stderr"
        },
        {
          "output_type": "stream",
          "text": [
            "_________________________________________________________________\n",
            "Layer (type)                 Output Shape              Param #   \n",
            "=================================================================\n",
            "embedding_1 (Embedding)      (None, 5000, 64)          320000    \n",
            "_________________________________________________________________\n",
            "simple_rnn_1 (SimpleRNN)     (None, 64)                8256      \n",
            "_________________________________________________________________\n",
            "dense_1 (Dense)              (None, 1)                 65        \n",
            "=================================================================\n",
            "Total params: 328,321\n",
            "Trainable params: 328,321\n",
            "Non-trainable params: 0\n",
            "_________________________________________________________________\n"
          ],
          "name": "stdout"
        }
      ]
    },
    {
      "metadata": {
        "colab_type": "code",
        "outputId": "6e0239ae-23d6-4a85-8a59-0aa6255a0d09",
        "id": "OX4hRPbvseKv",
        "colab": {
          "base_uri": "https://localhost:8080/",
          "height": 322
        }
      },
      "cell_type": "code",
      "source": [
        "modelSimple2 = simpleRNN()\n",
        "modelSimple2.summary()\n",
        "# model2.compile(loss='binary_crossentropy',optimizer=RMSprop(),metrics=['accuracy'])"
      ],
      "execution_count": 16,
      "outputs": [
        {
          "output_type": "stream",
          "text": [
            "/usr/local/lib/python3.6/dist-packages/ipykernel_launcher.py:5: UserWarning: Update your `SimpleRNN` call to the Keras 2 API: `SimpleRNN(64, kernel_initializer=\"uniform\")`\n",
            "  \"\"\"\n",
            "/usr/local/lib/python3.6/dist-packages/ipykernel_launcher.py:6: UserWarning: Update your `Dense` call to the Keras 2 API: `Dense(1, activation=\"sigmoid\", kernel_initializer=\"uniform\")`\n",
            "  \n"
          ],
          "name": "stderr"
        },
        {
          "output_type": "stream",
          "text": [
            "_________________________________________________________________\n",
            "Layer (type)                 Output Shape              Param #   \n",
            "=================================================================\n",
            "embedding_2 (Embedding)      (None, 5000, 64)          320000    \n",
            "_________________________________________________________________\n",
            "simple_rnn_2 (SimpleRNN)     (None, 64)                8256      \n",
            "_________________________________________________________________\n",
            "dense_2 (Dense)              (None, 1)                 65        \n",
            "=================================================================\n",
            "Total params: 328,321\n",
            "Trainable params: 328,321\n",
            "Non-trainable params: 0\n",
            "_________________________________________________________________\n"
          ],
          "name": "stdout"
        }
      ]
    },
    {
      "metadata": {
        "colab_type": "code",
        "outputId": "fa287a5f-45c9-4012-dfdc-661d2487b683",
        "id": "B-S7231mseK5",
        "colab": {
          "base_uri": "https://localhost:8080/",
          "height": 322
        }
      },
      "cell_type": "code",
      "source": [
        "modelSimple3 = simpleRNN()\n",
        "modelSimple3.summary()\n",
        "# model3.compile(loss='binary_crossentropy',optimizer=RMSprop(),metrics=['accuracy'])"
      ],
      "execution_count": 17,
      "outputs": [
        {
          "output_type": "stream",
          "text": [
            "_________________________________________________________________\n",
            "Layer (type)                 Output Shape              Param #   \n",
            "=================================================================\n",
            "embedding_3 (Embedding)      (None, 5000, 64)          320000    \n",
            "_________________________________________________________________\n",
            "simple_rnn_3 (SimpleRNN)     (None, 64)                8256      \n",
            "_________________________________________________________________\n",
            "dense_3 (Dense)              (None, 1)                 65        \n",
            "=================================================================\n",
            "Total params: 328,321\n",
            "Trainable params: 328,321\n",
            "Non-trainable params: 0\n",
            "_________________________________________________________________\n"
          ],
          "name": "stdout"
        },
        {
          "output_type": "stream",
          "text": [
            "/usr/local/lib/python3.6/dist-packages/ipykernel_launcher.py:5: UserWarning: Update your `SimpleRNN` call to the Keras 2 API: `SimpleRNN(64, kernel_initializer=\"uniform\")`\n",
            "  \"\"\"\n",
            "/usr/local/lib/python3.6/dist-packages/ipykernel_launcher.py:6: UserWarning: Update your `Dense` call to the Keras 2 API: `Dense(1, activation=\"sigmoid\", kernel_initializer=\"uniform\")`\n",
            "  \n"
          ],
          "name": "stderr"
        }
      ]
    },
    {
      "metadata": {
        "id": "fHyvqK57sE2T",
        "colab_type": "text"
      },
      "cell_type": "markdown",
      "source": [
        "### LSTM RNN"
      ]
    },
    {
      "metadata": {
        "id": "zhxiHKIwazKH",
        "colab_type": "code",
        "colab": {}
      },
      "cell_type": "code",
      "source": [
        "from keras.models import Sequential\n",
        "def lstmRNN():\n",
        "    model = Sequential()\n",
        "    model.add(Embedding(max_words, 50, input_length=max_len))\n",
        "    model.add(LSTM(64, init='uniform'))\n",
        "    model.add(Dense(1, init='uniform', activation='sigmoid'))\n",
        "    model.compile(loss='binary_crossentropy', optimizer='rmsprop', metrics=['accuracy'])\n",
        "#     inputs = Input(name='inputs',shape=[max_len])\n",
        "#     layer = Embedding(max_words,50,input_length=max_len)(inputs)\n",
        "#     layer = GRU(64)(layer)\n",
        "#     layer = Dense(256,name='FC1')(layer)\n",
        "#     layer = Activation('relu')(layer)\n",
        "#     layer = Dropout(0.5)(layer)\n",
        "#     layer = Dense(1,name='out_layer')(layer)\n",
        "#     layer = Activation('sigmoid')(layer)\n",
        "#     model = Model(inputs=inputs,outputs=layer)\n",
        "    return model"
      ],
      "execution_count": 0,
      "outputs": []
    },
    {
      "metadata": {
        "id": "GwmVOb0-a2Nw",
        "colab_type": "code",
        "outputId": "a4d228d4-be1a-4497-b40f-869c3bdc8c15",
        "colab": {
          "base_uri": "https://localhost:8080/",
          "height": 322
        }
      },
      "cell_type": "code",
      "source": [
        "modelLSTM1 = lstmRNN()\n",
        "modelLSTM1.summary()\n",
        "# model1.compile(loss='binary_crossentropy',optimizer=RMSprop(),metrics=['accuracy'])"
      ],
      "execution_count": 19,
      "outputs": [
        {
          "output_type": "stream",
          "text": [
            "/usr/local/lib/python3.6/dist-packages/ipykernel_launcher.py:5: UserWarning: Update your `LSTM` call to the Keras 2 API: `LSTM(64, kernel_initializer=\"uniform\")`\n",
            "  \"\"\"\n"
          ],
          "name": "stderr"
        },
        {
          "output_type": "stream",
          "text": [
            "_________________________________________________________________\n",
            "Layer (type)                 Output Shape              Param #   \n",
            "=================================================================\n",
            "embedding_4 (Embedding)      (None, 5000, 50)          250000    \n",
            "_________________________________________________________________\n",
            "lstm_1 (LSTM)                (None, 64)                29440     \n",
            "_________________________________________________________________\n",
            "dense_4 (Dense)              (None, 1)                 65        \n",
            "=================================================================\n",
            "Total params: 279,505\n",
            "Trainable params: 279,505\n",
            "Non-trainable params: 0\n",
            "_________________________________________________________________\n"
          ],
          "name": "stdout"
        },
        {
          "output_type": "stream",
          "text": [
            "/usr/local/lib/python3.6/dist-packages/ipykernel_launcher.py:6: UserWarning: Update your `Dense` call to the Keras 2 API: `Dense(1, activation=\"sigmoid\", kernel_initializer=\"uniform\")`\n",
            "  \n"
          ],
          "name": "stderr"
        }
      ]
    },
    {
      "metadata": {
        "id": "qW4Fwt5S0cav",
        "colab_type": "code",
        "outputId": "ca5cfb46-2613-4421-8a3a-5d49e02548e6",
        "colab": {
          "base_uri": "https://localhost:8080/",
          "height": 322
        }
      },
      "cell_type": "code",
      "source": [
        "modelLSTM2 = lstmRNN()\n",
        "modelLSTM2.summary()\n",
        "# model2.compile(loss='binary_crossentropy',optimizer=RMSprop(),metrics=['accuracy'])"
      ],
      "execution_count": 20,
      "outputs": [
        {
          "output_type": "stream",
          "text": [
            "/usr/local/lib/python3.6/dist-packages/ipykernel_launcher.py:5: UserWarning: Update your `LSTM` call to the Keras 2 API: `LSTM(64, kernel_initializer=\"uniform\")`\n",
            "  \"\"\"\n"
          ],
          "name": "stderr"
        },
        {
          "output_type": "stream",
          "text": [
            "_________________________________________________________________\n",
            "Layer (type)                 Output Shape              Param #   \n",
            "=================================================================\n",
            "embedding_5 (Embedding)      (None, 5000, 50)          250000    \n",
            "_________________________________________________________________\n",
            "lstm_2 (LSTM)                (None, 64)                29440     \n",
            "_________________________________________________________________\n",
            "dense_5 (Dense)              (None, 1)                 65        \n",
            "=================================================================\n",
            "Total params: 279,505\n",
            "Trainable params: 279,505\n",
            "Non-trainable params: 0\n",
            "_________________________________________________________________\n"
          ],
          "name": "stdout"
        },
        {
          "output_type": "stream",
          "text": [
            "/usr/local/lib/python3.6/dist-packages/ipykernel_launcher.py:6: UserWarning: Update your `Dense` call to the Keras 2 API: `Dense(1, activation=\"sigmoid\", kernel_initializer=\"uniform\")`\n",
            "  \n"
          ],
          "name": "stderr"
        }
      ]
    },
    {
      "metadata": {
        "id": "Y7i8OLL40fqm",
        "colab_type": "code",
        "outputId": "79f60298-ac00-4e7b-924d-cd0b834ae42e",
        "colab": {
          "base_uri": "https://localhost:8080/",
          "height": 322
        }
      },
      "cell_type": "code",
      "source": [
        "modelLSTM3 = lstmRNN()\n",
        "modelLSTM3.summary()\n",
        "# model3.compile(loss='binary_crossentropy',optimizer=RMSprop(),metrics=['accuracy'])"
      ],
      "execution_count": 21,
      "outputs": [
        {
          "output_type": "stream",
          "text": [
            "/usr/local/lib/python3.6/dist-packages/ipykernel_launcher.py:5: UserWarning: Update your `LSTM` call to the Keras 2 API: `LSTM(64, kernel_initializer=\"uniform\")`\n",
            "  \"\"\"\n"
          ],
          "name": "stderr"
        },
        {
          "output_type": "stream",
          "text": [
            "_________________________________________________________________\n",
            "Layer (type)                 Output Shape              Param #   \n",
            "=================================================================\n",
            "embedding_6 (Embedding)      (None, 5000, 50)          250000    \n",
            "_________________________________________________________________\n",
            "lstm_3 (LSTM)                (None, 64)                29440     \n",
            "_________________________________________________________________\n",
            "dense_6 (Dense)              (None, 1)                 65        \n",
            "=================================================================\n",
            "Total params: 279,505\n",
            "Trainable params: 279,505\n",
            "Non-trainable params: 0\n",
            "_________________________________________________________________\n"
          ],
          "name": "stdout"
        },
        {
          "output_type": "stream",
          "text": [
            "/usr/local/lib/python3.6/dist-packages/ipykernel_launcher.py:6: UserWarning: Update your `Dense` call to the Keras 2 API: `Dense(1, activation=\"sigmoid\", kernel_initializer=\"uniform\")`\n",
            "  \n"
          ],
          "name": "stderr"
        }
      ]
    },
    {
      "metadata": {
        "colab_type": "text",
        "id": "eBGtsIZCshtK"
      },
      "cell_type": "markdown",
      "source": [
        "### GRU RNN"
      ]
    },
    {
      "metadata": {
        "colab_type": "code",
        "id": "CxrHeHh4shtQ",
        "colab": {}
      },
      "cell_type": "code",
      "source": [
        "from keras.models import Sequential\n",
        "def gruRNN():\n",
        "    model = Sequential()\n",
        "    model.add(Embedding(max_words, 50, input_length=max_len))\n",
        "    model.add(GRU(64, init='uniform'))\n",
        "    model.add(Dense(1, init='uniform', activation='sigmoid'))\n",
        "    model.compile(loss='binary_crossentropy', optimizer='rmsprop', metrics=['accuracy'])\n",
        "#     inputs = Input(name='inputs',shape=[max_len])\n",
        "#     layer = Embedding(max_words,50,input_length=max_len)(inputs)\n",
        "#     layer = GRU(64)(layer)\n",
        "#     layer = Dense(256,name='FC1')(layer)\n",
        "#     layer = Activation('relu')(layer)\n",
        "#     layer = Dropout(0.5)(layer)\n",
        "#     layer = Dense(1,name='out_layer')(layer)\n",
        "#     layer = Activation('sigmoid')(layer)\n",
        "#     model = Model(inputs=inputs,outputs=layer)\n",
        "    return model"
      ],
      "execution_count": 0,
      "outputs": []
    },
    {
      "metadata": {
        "colab_type": "code",
        "outputId": "e6d4e251-4222-415f-ffa5-712b2fcce857",
        "id": "s3eC3Hw0shtd",
        "colab": {
          "base_uri": "https://localhost:8080/",
          "height": 322
        }
      },
      "cell_type": "code",
      "source": [
        "modelGRU1 = gruRNN()\n",
        "modelGRU1.summary()\n",
        "# model1.compile(loss='binary_crossentropy',optimizer=RMSprop(),metrics=['accuracy'])"
      ],
      "execution_count": 23,
      "outputs": [
        {
          "output_type": "stream",
          "text": [
            "/usr/local/lib/python3.6/dist-packages/ipykernel_launcher.py:5: UserWarning: Update your `GRU` call to the Keras 2 API: `GRU(64, kernel_initializer=\"uniform\")`\n",
            "  \"\"\"\n",
            "/usr/local/lib/python3.6/dist-packages/ipykernel_launcher.py:6: UserWarning: Update your `Dense` call to the Keras 2 API: `Dense(1, activation=\"sigmoid\", kernel_initializer=\"uniform\")`\n",
            "  \n"
          ],
          "name": "stderr"
        },
        {
          "output_type": "stream",
          "text": [
            "_________________________________________________________________\n",
            "Layer (type)                 Output Shape              Param #   \n",
            "=================================================================\n",
            "embedding_7 (Embedding)      (None, 5000, 50)          250000    \n",
            "_________________________________________________________________\n",
            "gru_1 (GRU)                  (None, 64)                22080     \n",
            "_________________________________________________________________\n",
            "dense_7 (Dense)              (None, 1)                 65        \n",
            "=================================================================\n",
            "Total params: 272,145\n",
            "Trainable params: 272,145\n",
            "Non-trainable params: 0\n",
            "_________________________________________________________________\n"
          ],
          "name": "stdout"
        }
      ]
    },
    {
      "metadata": {
        "colab_type": "code",
        "outputId": "54333684-14f5-43fd-aad8-657cacdbf27a",
        "id": "yUAGakd4shtw",
        "colab": {
          "base_uri": "https://localhost:8080/",
          "height": 322
        }
      },
      "cell_type": "code",
      "source": [
        "modelGRU2 = gruRNN()\n",
        "modelGRU2.summary()\n",
        "# model2.compile(loss='binary_crossentropy',optimizer=RMSprop(),metrics=['accuracy'])"
      ],
      "execution_count": 24,
      "outputs": [
        {
          "output_type": "stream",
          "text": [
            "/usr/local/lib/python3.6/dist-packages/ipykernel_launcher.py:5: UserWarning: Update your `GRU` call to the Keras 2 API: `GRU(64, kernel_initializer=\"uniform\")`\n",
            "  \"\"\"\n",
            "/usr/local/lib/python3.6/dist-packages/ipykernel_launcher.py:6: UserWarning: Update your `Dense` call to the Keras 2 API: `Dense(1, activation=\"sigmoid\", kernel_initializer=\"uniform\")`\n",
            "  \n"
          ],
          "name": "stderr"
        },
        {
          "output_type": "stream",
          "text": [
            "_________________________________________________________________\n",
            "Layer (type)                 Output Shape              Param #   \n",
            "=================================================================\n",
            "embedding_8 (Embedding)      (None, 5000, 50)          250000    \n",
            "_________________________________________________________________\n",
            "gru_2 (GRU)                  (None, 64)                22080     \n",
            "_________________________________________________________________\n",
            "dense_8 (Dense)              (None, 1)                 65        \n",
            "=================================================================\n",
            "Total params: 272,145\n",
            "Trainable params: 272,145\n",
            "Non-trainable params: 0\n",
            "_________________________________________________________________\n"
          ],
          "name": "stdout"
        }
      ]
    },
    {
      "metadata": {
        "colab_type": "code",
        "outputId": "8aacc8b4-efa8-4657-dfff-cf1cb1da08f0",
        "id": "K4Y8vwihshuB",
        "colab": {
          "base_uri": "https://localhost:8080/",
          "height": 322
        }
      },
      "cell_type": "code",
      "source": [
        "modelGRU3 = gruRNN()\n",
        "modelGRU3.summary()\n",
        "# model3.compile(loss='binary_crossentropy',optimizer=RMSprop(),metrics=['accuracy'])"
      ],
      "execution_count": 25,
      "outputs": [
        {
          "output_type": "stream",
          "text": [
            "/usr/local/lib/python3.6/dist-packages/ipykernel_launcher.py:5: UserWarning: Update your `GRU` call to the Keras 2 API: `GRU(64, kernel_initializer=\"uniform\")`\n",
            "  \"\"\"\n",
            "/usr/local/lib/python3.6/dist-packages/ipykernel_launcher.py:6: UserWarning: Update your `Dense` call to the Keras 2 API: `Dense(1, activation=\"sigmoid\", kernel_initializer=\"uniform\")`\n",
            "  \n"
          ],
          "name": "stderr"
        },
        {
          "output_type": "stream",
          "text": [
            "_________________________________________________________________\n",
            "Layer (type)                 Output Shape              Param #   \n",
            "=================================================================\n",
            "embedding_9 (Embedding)      (None, 5000, 50)          250000    \n",
            "_________________________________________________________________\n",
            "gru_3 (GRU)                  (None, 64)                22080     \n",
            "_________________________________________________________________\n",
            "dense_9 (Dense)              (None, 1)                 65        \n",
            "=================================================================\n",
            "Total params: 272,145\n",
            "Trainable params: 272,145\n",
            "Non-trainable params: 0\n",
            "_________________________________________________________________\n"
          ],
          "name": "stdout"
        }
      ]
    },
    {
      "metadata": {
        "id": "VhL1NLrx1VXB",
        "colab_type": "text"
      },
      "cell_type": "markdown",
      "source": [
        "## Build Model"
      ]
    },
    {
      "metadata": {
        "colab_type": "text",
        "id": "MJIfgIcKvIYh"
      },
      "cell_type": "markdown",
      "source": [
        "### Train the data with Simple RNN"
      ]
    },
    {
      "metadata": {
        "colab_type": "code",
        "outputId": "4d231760-9dae-4361-8290-22beab96a4cb",
        "id": "oZGGV9cqvIYj",
        "colab": {
          "base_uri": "https://localhost:8080/",
          "height": 457
        }
      },
      "cell_type": "code",
      "source": [
        "modelSimple1.fit(sequences_matrix1,Y1_train,batch_size=128,epochs=10,\n",
        "          validation_split=0.2)"
      ],
      "execution_count": 26,
      "outputs": [
        {
          "output_type": "stream",
          "text": [
            "WARNING:tensorflow:From /usr/local/lib/python3.6/dist-packages/tensorflow/python/ops/math_ops.py:3066: to_int32 (from tensorflow.python.ops.math_ops) is deprecated and will be removed in a future version.\n",
            "Instructions for updating:\n",
            "Use tf.cast instead.\n",
            "Train on 680 samples, validate on 171 samples\n",
            "Epoch 1/10\n",
            "680/680 [==============================] - 26s 39ms/step - loss: 0.6791 - acc: 0.6235 - val_loss: 0.6253 - val_acc: 0.8187\n",
            "Epoch 2/10\n",
            "680/680 [==============================] - 24s 35ms/step - loss: 0.6163 - acc: 0.7765 - val_loss: 0.5736 - val_acc: 0.8187\n",
            "Epoch 3/10\n",
            "680/680 [==============================] - 24s 35ms/step - loss: 0.5800 - acc: 0.7765 - val_loss: 0.5367 - val_acc: 0.8187\n",
            "Epoch 4/10\n",
            "680/680 [==============================] - 24s 35ms/step - loss: 0.5542 - acc: 0.7765 - val_loss: 0.5117 - val_acc: 0.8187\n",
            "Epoch 5/10\n",
            "680/680 [==============================] - 24s 35ms/step - loss: 0.5388 - acc: 0.7765 - val_loss: 0.4973 - val_acc: 0.8187\n",
            "Epoch 6/10\n",
            "680/680 [==============================] - 24s 35ms/step - loss: 0.5305 - acc: 0.7765 - val_loss: 0.4859 - val_acc: 0.8187\n",
            "Epoch 7/10\n",
            "680/680 [==============================] - 23s 34ms/step - loss: 0.5247 - acc: 0.7765 - val_loss: 0.4830 - val_acc: 0.8187\n",
            "Epoch 8/10\n",
            "680/680 [==============================] - 22s 33ms/step - loss: 0.5214 - acc: 0.7765 - val_loss: 0.4799 - val_acc: 0.8187\n",
            "Epoch 9/10\n",
            "680/680 [==============================] - 22s 32ms/step - loss: 0.5167 - acc: 0.7765 - val_loss: 0.4753 - val_acc: 0.8187\n",
            "Epoch 10/10\n",
            "680/680 [==============================] - 22s 32ms/step - loss: 0.5098 - acc: 0.7765 - val_loss: 0.4765 - val_acc: 0.8187\n"
          ],
          "name": "stdout"
        },
        {
          "output_type": "execute_result",
          "data": {
            "text/plain": [
              "<keras.callbacks.History at 0x7f6f83d197b8>"
            ]
          },
          "metadata": {
            "tags": []
          },
          "execution_count": 26
        }
      ]
    },
    {
      "metadata": {
        "colab_type": "code",
        "outputId": "13c11254-3090-4752-fe6a-0838dc6d0908",
        "id": "me3F8MAyvIYr",
        "colab": {
          "base_uri": "https://localhost:8080/",
          "height": 386
        }
      },
      "cell_type": "code",
      "source": [
        "modelSimple2.fit(sequences_matrix2,Y2_train,batch_size=128,epochs=10,\n",
        "          validation_split=0.2)"
      ],
      "execution_count": 27,
      "outputs": [
        {
          "output_type": "stream",
          "text": [
            "Train on 680 samples, validate on 171 samples\n",
            "Epoch 1/10\n",
            "680/680 [==============================] - 24s 35ms/step - loss: 0.6143 - acc: 0.8088 - val_loss: 0.4640 - val_acc: 0.9123\n",
            "Epoch 2/10\n",
            "680/680 [==============================] - 23s 34ms/step - loss: 0.4424 - acc: 0.8882 - val_loss: 0.3671 - val_acc: 0.9123\n",
            "Epoch 3/10\n",
            "680/680 [==============================] - 24s 35ms/step - loss: 0.3819 - acc: 0.8882 - val_loss: 0.3272 - val_acc: 0.9123\n",
            "Epoch 4/10\n",
            "680/680 [==============================] - 24s 35ms/step - loss: 0.3603 - acc: 0.8882 - val_loss: 0.3154 - val_acc: 0.9123\n",
            "Epoch 5/10\n",
            "680/680 [==============================] - 23s 34ms/step - loss: 0.3537 - acc: 0.8882 - val_loss: 0.3029 - val_acc: 0.9123\n",
            "Epoch 6/10\n",
            "680/680 [==============================] - 23s 34ms/step - loss: 0.3499 - acc: 0.8882 - val_loss: 0.2994 - val_acc: 0.9123\n",
            "Epoch 7/10\n",
            "680/680 [==============================] - 23s 34ms/step - loss: 0.3491 - acc: 0.8882 - val_loss: 0.3009 - val_acc: 0.9123\n",
            "Epoch 8/10\n",
            "680/680 [==============================] - 23s 34ms/step - loss: 0.3482 - acc: 0.8882 - val_loss: 0.2997 - val_acc: 0.9123\n",
            "Epoch 9/10\n",
            "680/680 [==============================] - 22s 33ms/step - loss: 0.3472 - acc: 0.8882 - val_loss: 0.2991 - val_acc: 0.9123\n",
            "Epoch 10/10\n",
            "680/680 [==============================] - 23s 34ms/step - loss: 0.3445 - acc: 0.8882 - val_loss: 0.2978 - val_acc: 0.9123\n"
          ],
          "name": "stdout"
        },
        {
          "output_type": "execute_result",
          "data": {
            "text/plain": [
              "<keras.callbacks.History at 0x7f6f6bfdf2e8>"
            ]
          },
          "metadata": {
            "tags": []
          },
          "execution_count": 27
        }
      ]
    },
    {
      "metadata": {
        "colab_type": "code",
        "outputId": "75cb08f5-dec3-45e6-cee5-df74ad793d19",
        "id": "nB4JOFUivIYy",
        "colab": {
          "base_uri": "https://localhost:8080/",
          "height": 386
        }
      },
      "cell_type": "code",
      "source": [
        "modelSimple3.fit(sequences_matrix3,Y3_train,batch_size=128,epochs=10,\n",
        "          validation_split=0.2)"
      ],
      "execution_count": 28,
      "outputs": [
        {
          "output_type": "stream",
          "text": [
            "Train on 680 samples, validate on 171 samples\n",
            "Epoch 1/10\n",
            "680/680 [==============================] - 24s 35ms/step - loss: 0.5483 - acc: 0.9691 - val_loss: 0.3650 - val_acc: 0.9883\n",
            "Epoch 2/10\n",
            "680/680 [==============================] - 24s 35ms/step - loss: 0.3190 - acc: 0.9779 - val_loss: 0.2291 - val_acc: 0.9883\n",
            "Epoch 3/10\n",
            "680/680 [==============================] - 23s 34ms/step - loss: 0.2181 - acc: 0.9779 - val_loss: 0.1622 - val_acc: 0.9883\n",
            "Epoch 4/10\n",
            "680/680 [==============================] - 24s 35ms/step - loss: 0.1689 - acc: 0.9779 - val_loss: 0.1277 - val_acc: 0.9883\n",
            "Epoch 5/10\n",
            "680/680 [==============================] - 22s 33ms/step - loss: 0.1435 - acc: 0.9779 - val_loss: 0.1077 - val_acc: 0.9883\n",
            "Epoch 6/10\n",
            "680/680 [==============================] - 23s 33ms/step - loss: 0.1289 - acc: 0.9779 - val_loss: 0.0936 - val_acc: 0.9883\n",
            "Epoch 7/10\n",
            "680/680 [==============================] - 22s 33ms/step - loss: 0.1190 - acc: 0.9779 - val_loss: 0.0831 - val_acc: 0.9883\n",
            "Epoch 8/10\n",
            "680/680 [==============================] - 23s 33ms/step - loss: 0.1127 - acc: 0.9779 - val_loss: 0.0773 - val_acc: 0.9883\n",
            "Epoch 9/10\n",
            "680/680 [==============================] - 23s 33ms/step - loss: 0.1093 - acc: 0.9779 - val_loss: 0.0724 - val_acc: 0.9883\n",
            "Epoch 10/10\n",
            "680/680 [==============================] - 22s 33ms/step - loss: 0.1072 - acc: 0.9779 - val_loss: 0.0695 - val_acc: 0.9883\n"
          ],
          "name": "stdout"
        },
        {
          "output_type": "execute_result",
          "data": {
            "text/plain": [
              "<keras.callbacks.History at 0x7f6f6b3e4f60>"
            ]
          },
          "metadata": {
            "tags": []
          },
          "execution_count": 28
        }
      ]
    },
    {
      "metadata": {
        "id": "STnWnNMAz5Ou",
        "colab_type": "text"
      },
      "cell_type": "markdown",
      "source": [
        "### Train the data with LSTM RNN"
      ]
    },
    {
      "metadata": {
        "id": "EniIroPva5UV",
        "colab_type": "code",
        "outputId": "ef1c0db3-11c1-4753-a785-f0f995139692",
        "colab": {
          "base_uri": "https://localhost:8080/",
          "height": 386
        }
      },
      "cell_type": "code",
      "source": [
        "modelLSTM1.fit(sequences_matrix1,Y1_train,batch_size=128,epochs=10,\n",
        "          validation_split=0.2)"
      ],
      "execution_count": 37,
      "outputs": [
        {
          "output_type": "stream",
          "text": [
            "Train on 680 samples, validate on 171 samples\n",
            "Epoch 1/10\n",
            "680/680 [==============================] - 62s 91ms/step - loss: 0.6815 - acc: 0.7176 - val_loss: 0.5061 - val_acc: 0.8187\n",
            "Epoch 2/10\n",
            "680/680 [==============================] - 60s 89ms/step - loss: 0.5345 - acc: 0.7765 - val_loss: 0.4956 - val_acc: 0.8187\n",
            "Epoch 3/10\n",
            "680/680 [==============================] - 61s 89ms/step - loss: 0.5301 - acc: 0.7765 - val_loss: 0.4732 - val_acc: 0.8187\n",
            "Epoch 4/10\n",
            "680/680 [==============================] - 61s 90ms/step - loss: 0.5269 - acc: 0.7765 - val_loss: 0.4800 - val_acc: 0.8187\n",
            "Epoch 5/10\n",
            "680/680 [==============================] - 60s 89ms/step - loss: 0.5160 - acc: 0.7765 - val_loss: 0.4812 - val_acc: 0.8187\n",
            "Epoch 6/10\n",
            "680/680 [==============================] - 60s 88ms/step - loss: 0.4846 - acc: 0.7779 - val_loss: 0.5138 - val_acc: 0.8363\n",
            "Epoch 7/10\n",
            "680/680 [==============================] - 60s 88ms/step - loss: 0.4473 - acc: 0.7897 - val_loss: 0.4916 - val_acc: 0.8363\n",
            "Epoch 8/10\n",
            "680/680 [==============================] - 59s 87ms/step - loss: 0.3958 - acc: 0.8118 - val_loss: 0.4383 - val_acc: 0.8363\n",
            "Epoch 9/10\n",
            "680/680 [==============================] - 60s 88ms/step - loss: 0.3480 - acc: 0.8456 - val_loss: 0.4384 - val_acc: 0.8363\n",
            "Epoch 10/10\n",
            "680/680 [==============================] - 59s 86ms/step - loss: 0.2854 - acc: 0.8618 - val_loss: 0.4642 - val_acc: 0.8363\n"
          ],
          "name": "stdout"
        },
        {
          "output_type": "execute_result",
          "data": {
            "text/plain": [
              "<keras.callbacks.History at 0x7f6f6af9ecc0>"
            ]
          },
          "metadata": {
            "tags": []
          },
          "execution_count": 37
        }
      ]
    },
    {
      "metadata": {
        "id": "BDwaryPn0_EO",
        "colab_type": "code",
        "outputId": "eb39bd48-2eb3-4550-ee0f-75054e769763",
        "colab": {
          "base_uri": "https://localhost:8080/",
          "height": 386
        }
      },
      "cell_type": "code",
      "source": [
        "modelLSTM2.fit(sequences_matrix2,Y2_train,batch_size=128,epochs=10,\n",
        "          validation_split=0.2)"
      ],
      "execution_count": 38,
      "outputs": [
        {
          "output_type": "stream",
          "text": [
            "Train on 680 samples, validate on 171 samples\n",
            "Epoch 1/10\n",
            "680/680 [==============================] - 62s 92ms/step - loss: 0.6814 - acc: 0.8074 - val_loss: 0.4477 - val_acc: 0.9123\n",
            "Epoch 2/10\n",
            "680/680 [==============================] - 61s 90ms/step - loss: 0.3864 - acc: 0.8882 - val_loss: 0.3085 - val_acc: 0.9123\n",
            "Epoch 3/10\n",
            "680/680 [==============================] - 61s 89ms/step - loss: 0.3514 - acc: 0.8882 - val_loss: 0.3076 - val_acc: 0.9123\n",
            "Epoch 4/10\n",
            "680/680 [==============================] - 60s 89ms/step - loss: 0.3505 - acc: 0.8882 - val_loss: 0.3012 - val_acc: 0.9123\n",
            "Epoch 5/10\n",
            "680/680 [==============================] - 60s 89ms/step - loss: 0.3481 - acc: 0.8882 - val_loss: 0.3018 - val_acc: 0.9123\n",
            "Epoch 6/10\n",
            "680/680 [==============================] - 60s 89ms/step - loss: 0.3474 - acc: 0.8882 - val_loss: 0.3047 - val_acc: 0.9123\n",
            "Epoch 7/10\n",
            "680/680 [==============================] - 60s 89ms/step - loss: 0.3333 - acc: 0.8882 - val_loss: 0.2990 - val_acc: 0.9123\n",
            "Epoch 8/10\n",
            "680/680 [==============================] - 60s 88ms/step - loss: 0.3330 - acc: 0.8912 - val_loss: 0.2939 - val_acc: 0.9123\n",
            "Epoch 9/10\n",
            "680/680 [==============================] - 59s 87ms/step - loss: 0.2768 - acc: 0.8941 - val_loss: 0.3001 - val_acc: 0.9123\n",
            "Epoch 10/10\n",
            "680/680 [==============================] - 59s 87ms/step - loss: 0.2328 - acc: 0.8971 - val_loss: 0.2926 - val_acc: 0.9123\n"
          ],
          "name": "stdout"
        },
        {
          "output_type": "execute_result",
          "data": {
            "text/plain": [
              "<keras.callbacks.History at 0x7f6f6a64d198>"
            ]
          },
          "metadata": {
            "tags": []
          },
          "execution_count": 38
        }
      ]
    },
    {
      "metadata": {
        "id": "6PPg4-a11KPR",
        "colab_type": "code",
        "outputId": "6fdd5bfb-b40c-4c75-b6c9-3a717b97b463",
        "colab": {
          "base_uri": "https://localhost:8080/",
          "height": 386
        }
      },
      "cell_type": "code",
      "source": [
        "modelLSTM3.fit(sequences_matrix3,Y3_train,batch_size=128,epochs=10,\n",
        "          validation_split=0.2)"
      ],
      "execution_count": 39,
      "outputs": [
        {
          "output_type": "stream",
          "text": [
            "Train on 680 samples, validate on 171 samples\n",
            "Epoch 1/10\n",
            "680/680 [==============================] - 62s 91ms/step - loss: 0.6691 - acc: 0.8868 - val_loss: 0.3206 - val_acc: 0.9883\n",
            "Epoch 2/10\n",
            "680/680 [==============================] - 61s 90ms/step - loss: 0.2427 - acc: 0.9779 - val_loss: 0.1480 - val_acc: 0.9883\n",
            "Epoch 3/10\n",
            "680/680 [==============================] - 60s 88ms/step - loss: 0.1529 - acc: 0.9779 - val_loss: 0.1052 - val_acc: 0.9883\n",
            "Epoch 4/10\n",
            "680/680 [==============================] - 60s 88ms/step - loss: 0.1245 - acc: 0.9779 - val_loss: 0.0837 - val_acc: 0.9883\n",
            "Epoch 5/10\n",
            "680/680 [==============================] - 59s 87ms/step - loss: 0.1117 - acc: 0.9779 - val_loss: 0.0732 - val_acc: 0.9883\n",
            "Epoch 6/10\n",
            "680/680 [==============================] - 59s 87ms/step - loss: 0.1072 - acc: 0.9779 - val_loss: 0.0704 - val_acc: 0.9883\n",
            "Epoch 7/10\n",
            "680/680 [==============================] - 60s 88ms/step - loss: 0.1059 - acc: 0.9779 - val_loss: 0.0687 - val_acc: 0.9883\n",
            "Epoch 8/10\n",
            "680/680 [==============================] - 59s 86ms/step - loss: 0.1057 - acc: 0.9779 - val_loss: 0.0671 - val_acc: 0.9883\n",
            "Epoch 9/10\n",
            "680/680 [==============================] - 59s 87ms/step - loss: 0.1052 - acc: 0.9779 - val_loss: 0.0674 - val_acc: 0.9883\n",
            "Epoch 10/10\n",
            "680/680 [==============================] - 58s 85ms/step - loss: 0.1041 - acc: 0.9779 - val_loss: 0.0655 - val_acc: 0.9883\n"
          ],
          "name": "stdout"
        },
        {
          "output_type": "execute_result",
          "data": {
            "text/plain": [
              "<keras.callbacks.History at 0x7f6f69d75978>"
            ]
          },
          "metadata": {
            "tags": []
          },
          "execution_count": 39
        }
      ]
    },
    {
      "metadata": {
        "colab_type": "text",
        "id": "x-UCczAxvKPF"
      },
      "cell_type": "markdown",
      "source": [
        "### Train the data with GRU RNN"
      ]
    },
    {
      "metadata": {
        "colab_type": "code",
        "outputId": "74320228-3b19-453e-eb9b-290de57a76f9",
        "id": "AK2WDNd_vKPH",
        "colab": {
          "base_uri": "https://localhost:8080/",
          "height": 406
        }
      },
      "cell_type": "code",
      "source": [
        "modelGRU1.fit(sequences_matrix1,Y1_train,batch_size=128,epochs=10,\n",
        "          validation_split=0.2)"
      ],
      "execution_count": 0,
      "outputs": [
        {
          "output_type": "stream",
          "text": [
            "Train on 680 samples, validate on 171 samples\n",
            "Epoch 1/10\n",
            "680/680 [==============================] - 2s 4ms/step - loss: 0.6868 - acc: 0.7118 - val_loss: 0.6639 - val_acc: 0.8187\n",
            "Epoch 2/10\n",
            "680/680 [==============================] - 1s 2ms/step - loss: 0.6042 - acc: 0.7765 - val_loss: 0.5678 - val_acc: 0.8187\n",
            "Epoch 3/10\n",
            "680/680 [==============================] - 1s 2ms/step - loss: 0.5140 - acc: 0.7765 - val_loss: 0.4615 - val_acc: 0.8187\n",
            "Epoch 4/10\n",
            "680/680 [==============================] - 1s 2ms/step - loss: 0.4695 - acc: 0.7765 - val_loss: 0.4953 - val_acc: 0.8187\n",
            "Epoch 5/10\n",
            "680/680 [==============================] - 1s 2ms/step - loss: 0.4383 - acc: 0.7794 - val_loss: 0.4430 - val_acc: 0.8246\n",
            "Epoch 6/10\n",
            "680/680 [==============================] - 1s 2ms/step - loss: 0.3789 - acc: 0.7971 - val_loss: 0.4485 - val_acc: 0.8363\n",
            "Epoch 7/10\n",
            "680/680 [==============================] - 1s 2ms/step - loss: 0.3341 - acc: 0.8324 - val_loss: 0.4779 - val_acc: 0.8304\n",
            "Epoch 8/10\n",
            "680/680 [==============================] - 1s 2ms/step - loss: 0.2928 - acc: 0.8838 - val_loss: 0.4516 - val_acc: 0.8363\n",
            "Epoch 9/10\n",
            "680/680 [==============================] - 1s 2ms/step - loss: 0.2302 - acc: 0.8941 - val_loss: 0.4271 - val_acc: 0.8129\n",
            "Epoch 10/10\n",
            "680/680 [==============================] - 1s 2ms/step - loss: 0.1934 - acc: 0.9456 - val_loss: 0.4307 - val_acc: 0.8246\n"
          ],
          "name": "stdout"
        },
        {
          "output_type": "execute_result",
          "data": {
            "text/plain": [
              "<keras.callbacks.History at 0x7f73f07e49e8>"
            ]
          },
          "metadata": {
            "tags": []
          },
          "execution_count": 29
        }
      ]
    },
    {
      "metadata": {
        "colab_type": "code",
        "outputId": "05705bcf-17b6-4099-b680-94087846dd02",
        "id": "Y1-sq9uFvKPP",
        "colab": {
          "base_uri": "https://localhost:8080/",
          "height": 406
        }
      },
      "cell_type": "code",
      "source": [
        "modelGRU2.fit(sequences_matrix2,Y2_train,batch_size=128,epochs=10,\n",
        "          validation_split=0.2)"
      ],
      "execution_count": 0,
      "outputs": [
        {
          "output_type": "stream",
          "text": [
            "Train on 680 samples, validate on 171 samples\n",
            "Epoch 1/10\n",
            "680/680 [==============================] - 3s 4ms/step - loss: 0.6836 - acc: 0.8250 - val_loss: 0.6490 - val_acc: 0.9123\n",
            "Epoch 2/10\n",
            "680/680 [==============================] - 1s 2ms/step - loss: 0.5382 - acc: 0.8882 - val_loss: 0.3201 - val_acc: 0.9123\n",
            "Epoch 3/10\n",
            "680/680 [==============================] - 1s 2ms/step - loss: 0.3486 - acc: 0.8882 - val_loss: 0.2969 - val_acc: 0.9123\n",
            "Epoch 4/10\n",
            "680/680 [==============================] - 1s 2ms/step - loss: 0.3337 - acc: 0.8882 - val_loss: 0.3049 - val_acc: 0.9123\n",
            "Epoch 5/10\n",
            "680/680 [==============================] - 1s 2ms/step - loss: 0.3242 - acc: 0.8882 - val_loss: 0.2897 - val_acc: 0.9123\n",
            "Epoch 6/10\n",
            "680/680 [==============================] - 1s 2ms/step - loss: 0.2690 - acc: 0.8912 - val_loss: 0.2831 - val_acc: 0.9123\n",
            "Epoch 7/10\n",
            "680/680 [==============================] - 1s 2ms/step - loss: 0.2576 - acc: 0.8956 - val_loss: 0.2939 - val_acc: 0.9123\n",
            "Epoch 8/10\n",
            "680/680 [==============================] - 1s 2ms/step - loss: 0.1929 - acc: 0.9118 - val_loss: 0.2897 - val_acc: 0.9123\n",
            "Epoch 9/10\n",
            "680/680 [==============================] - 1s 2ms/step - loss: 0.1776 - acc: 0.9250 - val_loss: 0.2716 - val_acc: 0.9064\n",
            "Epoch 10/10\n",
            "680/680 [==============================] - 1s 2ms/step - loss: 0.1270 - acc: 0.9500 - val_loss: 0.2785 - val_acc: 0.9064\n"
          ],
          "name": "stdout"
        },
        {
          "output_type": "execute_result",
          "data": {
            "text/plain": [
              "<keras.callbacks.History at 0x7f73df670518>"
            ]
          },
          "metadata": {
            "tags": []
          },
          "execution_count": 30
        }
      ]
    },
    {
      "metadata": {
        "colab_type": "code",
        "outputId": "27619fc9-e78d-4285-e08e-b7b7eb66003c",
        "id": "nZm1BtfevKPX",
        "colab": {
          "base_uri": "https://localhost:8080/",
          "height": 406
        }
      },
      "cell_type": "code",
      "source": [
        "modelGRU3.fit(sequences_matrix3,Y3_train,batch_size=128,epochs=10,\n",
        "          validation_split=0.2)"
      ],
      "execution_count": 0,
      "outputs": [
        {
          "output_type": "stream",
          "text": [
            "Train on 680 samples, validate on 171 samples\n",
            "Epoch 1/10\n",
            "680/680 [==============================] - 3s 4ms/step - loss: 0.6818 - acc: 0.8779 - val_loss: 0.6411 - val_acc: 0.9883\n",
            "Epoch 2/10\n",
            "680/680 [==============================] - 1s 2ms/step - loss: 0.4507 - acc: 0.9779 - val_loss: 0.1130 - val_acc: 0.9883\n",
            "Epoch 3/10\n",
            "680/680 [==============================] - 1s 2ms/step - loss: 0.1272 - acc: 0.9779 - val_loss: 0.0844 - val_acc: 0.9883\n",
            "Epoch 4/10\n",
            "680/680 [==============================] - 1s 2ms/step - loss: 0.1125 - acc: 0.9779 - val_loss: 0.0749 - val_acc: 0.9883\n",
            "Epoch 5/10\n",
            "680/680 [==============================] - 1s 2ms/step - loss: 0.1079 - acc: 0.9779 - val_loss: 0.0714 - val_acc: 0.9883\n",
            "Epoch 6/10\n",
            "680/680 [==============================] - 1s 2ms/step - loss: 0.1067 - acc: 0.9779 - val_loss: 0.0685 - val_acc: 0.9883\n",
            "Epoch 7/10\n",
            "680/680 [==============================] - 1s 2ms/step - loss: 0.1060 - acc: 0.9779 - val_loss: 0.0692 - val_acc: 0.9883\n",
            "Epoch 8/10\n",
            "680/680 [==============================] - 1s 2ms/step - loss: 0.1061 - acc: 0.9779 - val_loss: 0.0686 - val_acc: 0.9883\n",
            "Epoch 9/10\n",
            "680/680 [==============================] - 1s 2ms/step - loss: 0.1053 - acc: 0.9779 - val_loss: 0.0676 - val_acc: 0.9883\n",
            "Epoch 10/10\n",
            "680/680 [==============================] - 1s 2ms/step - loss: 0.1047 - acc: 0.9779 - val_loss: 0.0703 - val_acc: 0.9883\n"
          ],
          "name": "stdout"
        },
        {
          "output_type": "execute_result",
          "data": {
            "text/plain": [
              "<keras.callbacks.History at 0x7f73dee0f080>"
            ]
          },
          "metadata": {
            "tags": []
          },
          "execution_count": 31
        }
      ]
    },
    {
      "metadata": {
        "id": "-rzSncte1kE5",
        "colab_type": "text"
      },
      "cell_type": "markdown",
      "source": [
        "## Accuracy Data"
      ]
    },
    {
      "metadata": {
        "colab_type": "text",
        "id": "HtE6nacc7BKY"
      },
      "cell_type": "markdown",
      "source": [
        "### Accuracy with Simple RNN"
      ]
    },
    {
      "metadata": {
        "colab_type": "code",
        "id": "ua8S53Ne7BKZ",
        "colab": {}
      },
      "cell_type": "code",
      "source": [
        "test_sequences = tok.texts_to_sequences(X1_test)\n",
        "test_sequences_matrix1 = sequence.pad_sequences(test_sequences,maxlen=max_len)"
      ],
      "execution_count": 0,
      "outputs": []
    },
    {
      "metadata": {
        "colab_type": "code",
        "outputId": "35855198-325b-4bfa-fae4-249bacb9c229",
        "id": "lIIM0X8q7BKd",
        "colab": {
          "base_uri": "https://localhost:8080/",
          "height": 134
        }
      },
      "cell_type": "code",
      "source": [
        "test_sequences_matrix1"
      ],
      "execution_count": 30,
      "outputs": [
        {
          "output_type": "execute_result",
          "data": {
            "text/plain": [
              "array([[   0,    0,    0, ...,  195,  736, 1773],\n",
              "       [   0,    0,    0, ...,  249,   14,    6],\n",
              "       [   0,    0,    0, ...,   19,  151,  300],\n",
              "       ...,\n",
              "       [   0,    0,    0, ...,  591,    9,   91],\n",
              "       [   0,    0,    0, ...,   36,   14,   90],\n",
              "       [   0,    0,    0, ...,  226,  183,  907]], dtype=int32)"
            ]
          },
          "metadata": {
            "tags": []
          },
          "execution_count": 30
        }
      ]
    },
    {
      "metadata": {
        "colab_type": "code",
        "id": "AozF45Nc7BKh",
        "colab": {}
      },
      "cell_type": "code",
      "source": [
        "test_sequences = tok.texts_to_sequences(X2_test)\n",
        "test_sequences_matrix2 = sequence.pad_sequences(test_sequences,maxlen=max_len)"
      ],
      "execution_count": 0,
      "outputs": []
    },
    {
      "metadata": {
        "colab_type": "code",
        "id": "sxZjaVWQ7BKk",
        "colab": {}
      },
      "cell_type": "code",
      "source": [
        "test_sequences = tok.texts_to_sequences(X3_test)\n",
        "test_sequences_matrix3 = sequence.pad_sequences(test_sequences,maxlen=max_len)"
      ],
      "execution_count": 0,
      "outputs": []
    },
    {
      "metadata": {
        "colab_type": "code",
        "id": "6oPzRYaZ7BKp",
        "colab": {}
      },
      "cell_type": "code",
      "source": [
        "y1_predict = modelSimple1.predict_classes(test_sequences_matrix1)\n",
        "y2_predict = modelSimple2.predict_classes(test_sequences_matrix2)\n",
        "y3_predict = modelSimple3.predict_classes(test_sequences_matrix3)"
      ],
      "execution_count": 0,
      "outputs": []
    },
    {
      "metadata": {
        "colab_type": "code",
        "outputId": "bdd46b8e-1964-41de-a28b-7e9cb8f4dafe",
        "id": "-OaEsop77BKt",
        "colab": {
          "base_uri": "https://localhost:8080/",
          "height": 3595
        }
      },
      "cell_type": "code",
      "source": [
        "y1_predict"
      ],
      "execution_count": 0,
      "outputs": [
        {
          "output_type": "execute_result",
          "data": {
            "text/plain": [
              "array([[0],\n",
              "       [0],\n",
              "       [0],\n",
              "       [0],\n",
              "       [0],\n",
              "       [0],\n",
              "       [0],\n",
              "       [0],\n",
              "       [0],\n",
              "       [0],\n",
              "       [0],\n",
              "       [0],\n",
              "       [0],\n",
              "       [0],\n",
              "       [0],\n",
              "       [0],\n",
              "       [0],\n",
              "       [0],\n",
              "       [0],\n",
              "       [0],\n",
              "       [0],\n",
              "       [0],\n",
              "       [0],\n",
              "       [0],\n",
              "       [0],\n",
              "       [0],\n",
              "       [0],\n",
              "       [0],\n",
              "       [0],\n",
              "       [0],\n",
              "       [0],\n",
              "       [0],\n",
              "       [0],\n",
              "       [0],\n",
              "       [0],\n",
              "       [0],\n",
              "       [0],\n",
              "       [0],\n",
              "       [0],\n",
              "       [0],\n",
              "       [0],\n",
              "       [0],\n",
              "       [0],\n",
              "       [0],\n",
              "       [0],\n",
              "       [0],\n",
              "       [0],\n",
              "       [0],\n",
              "       [0],\n",
              "       [0],\n",
              "       [0],\n",
              "       [0],\n",
              "       [0],\n",
              "       [0],\n",
              "       [0],\n",
              "       [0],\n",
              "       [0],\n",
              "       [0],\n",
              "       [0],\n",
              "       [0],\n",
              "       [0],\n",
              "       [0],\n",
              "       [0],\n",
              "       [0],\n",
              "       [0],\n",
              "       [0],\n",
              "       [0],\n",
              "       [0],\n",
              "       [0],\n",
              "       [0],\n",
              "       [0],\n",
              "       [0],\n",
              "       [0],\n",
              "       [0],\n",
              "       [0],\n",
              "       [0],\n",
              "       [0],\n",
              "       [0],\n",
              "       [0],\n",
              "       [0],\n",
              "       [0],\n",
              "       [0],\n",
              "       [0],\n",
              "       [0],\n",
              "       [0],\n",
              "       [0],\n",
              "       [0],\n",
              "       [0],\n",
              "       [0],\n",
              "       [0],\n",
              "       [0],\n",
              "       [0],\n",
              "       [0],\n",
              "       [0],\n",
              "       [0],\n",
              "       [0],\n",
              "       [0],\n",
              "       [0],\n",
              "       [0],\n",
              "       [0],\n",
              "       [0],\n",
              "       [0],\n",
              "       [0],\n",
              "       [0],\n",
              "       [0],\n",
              "       [0],\n",
              "       [0],\n",
              "       [0],\n",
              "       [0],\n",
              "       [0],\n",
              "       [0],\n",
              "       [0],\n",
              "       [0],\n",
              "       [0],\n",
              "       [0],\n",
              "       [0],\n",
              "       [0],\n",
              "       [0],\n",
              "       [0],\n",
              "       [0],\n",
              "       [0],\n",
              "       [0],\n",
              "       [0],\n",
              "       [0],\n",
              "       [0],\n",
              "       [0],\n",
              "       [0],\n",
              "       [0],\n",
              "       [0],\n",
              "       [0],\n",
              "       [0],\n",
              "       [0],\n",
              "       [0],\n",
              "       [0],\n",
              "       [0],\n",
              "       [0],\n",
              "       [0],\n",
              "       [0],\n",
              "       [0],\n",
              "       [0],\n",
              "       [1],\n",
              "       [0],\n",
              "       [0],\n",
              "       [0],\n",
              "       [0],\n",
              "       [0],\n",
              "       [0],\n",
              "       [0],\n",
              "       [0],\n",
              "       [0],\n",
              "       [0],\n",
              "       [0],\n",
              "       [0],\n",
              "       [0],\n",
              "       [0],\n",
              "       [0],\n",
              "       [0],\n",
              "       [0],\n",
              "       [0],\n",
              "       [0],\n",
              "       [0],\n",
              "       [0],\n",
              "       [0],\n",
              "       [0],\n",
              "       [0],\n",
              "       [0],\n",
              "       [0],\n",
              "       [0],\n",
              "       [0],\n",
              "       [0],\n",
              "       [0],\n",
              "       [0],\n",
              "       [0],\n",
              "       [0],\n",
              "       [0],\n",
              "       [0],\n",
              "       [0],\n",
              "       [0],\n",
              "       [0],\n",
              "       [0],\n",
              "       [0],\n",
              "       [0],\n",
              "       [0],\n",
              "       [0],\n",
              "       [0],\n",
              "       [0],\n",
              "       [0],\n",
              "       [0],\n",
              "       [0],\n",
              "       [0],\n",
              "       [0],\n",
              "       [0],\n",
              "       [0],\n",
              "       [0],\n",
              "       [0],\n",
              "       [0],\n",
              "       [0],\n",
              "       [0],\n",
              "       [0],\n",
              "       [0],\n",
              "       [0],\n",
              "       [0],\n",
              "       [0],\n",
              "       [0],\n",
              "       [0],\n",
              "       [0],\n",
              "       [0],\n",
              "       [0],\n",
              "       [0],\n",
              "       [0],\n",
              "       [0],\n",
              "       [0],\n",
              "       [0]], dtype=int32)"
            ]
          },
          "metadata": {
            "tags": []
          },
          "execution_count": 37
        }
      ]
    },
    {
      "metadata": {
        "colab_type": "code",
        "id": "NK-93Y5E7BKy",
        "colab": {}
      },
      "cell_type": "code",
      "source": [
        "Y_pred = np.zeros((len(y3_predict),3))\n",
        "for i in range(len(Y_pred)):\n",
        "  for j in range(len(Y_pred[i])):\n",
        "    if j == 0:\n",
        "      Y_pred[i][j] = y1_predict[i]\n",
        "    elif j == 1:\n",
        "      Y_pred[i][j] = y2_predict[i]\n",
        "    elif j == 2:\n",
        "      Y_pred[i][j] = y3_predict[i]"
      ],
      "execution_count": 0,
      "outputs": []
    },
    {
      "metadata": {
        "colab_type": "code",
        "outputId": "d38a7d5c-4fc2-490a-f11c-c5c7e7dca986",
        "id": "BnlN9ADb7BK2",
        "colab": {
          "base_uri": "https://localhost:8080/",
          "height": 185
        }
      },
      "cell_type": "code",
      "source": [
        "Y_pred[:10]"
      ],
      "execution_count": 0,
      "outputs": [
        {
          "output_type": "execute_result",
          "data": {
            "text/plain": [
              "array([[0., 0., 1.],\n",
              "       [0., 0., 1.],\n",
              "       [0., 0., 1.],\n",
              "       [0., 0., 1.],\n",
              "       [0., 0., 1.],\n",
              "       [0., 0., 1.],\n",
              "       [0., 0., 1.],\n",
              "       [0., 0., 1.],\n",
              "       [0., 0., 1.],\n",
              "       [0., 0., 1.]])"
            ]
          },
          "metadata": {
            "tags": []
          },
          "execution_count": 39
        }
      ]
    },
    {
      "metadata": {
        "colab_type": "code",
        "id": "dr0JruRU7BK_",
        "colab": {}
      },
      "cell_type": "code",
      "source": [
        "Y_real = np.zeros((len(y3_predict),3))\n",
        "for i in range(len(Y_real)):\n",
        "  for j in range(len(Y_real[i])):\n",
        "    if j == 0:\n",
        "      Y_real[i][j] = Y1_test[i]\n",
        "    elif j == 1:\n",
        "      Y_real[i][j] = Y2_test[i]\n",
        "    elif j == 2:\n",
        "      Y_real[i][j] = Y3_test[i]"
      ],
      "execution_count": 0,
      "outputs": []
    },
    {
      "metadata": {
        "colab_type": "code",
        "outputId": "4e34c00d-db48-4a7d-e4b6-e46cf9bbb987",
        "id": "_XRHNOB67BLD",
        "colab": {
          "base_uri": "https://localhost:8080/",
          "height": 185
        }
      },
      "cell_type": "code",
      "source": [
        "Y_real[:10]"
      ],
      "execution_count": 0,
      "outputs": [
        {
          "output_type": "execute_result",
          "data": {
            "text/plain": [
              "array([[0., 0., 1.],\n",
              "       [0., 0., 1.],\n",
              "       [0., 0., 1.],\n",
              "       [1., 1., 1.],\n",
              "       [0., 1., 1.],\n",
              "       [0., 0., 1.],\n",
              "       [0., 1., 1.],\n",
              "       [0., 0., 1.],\n",
              "       [0., 0., 1.],\n",
              "       [0., 0., 1.]])"
            ]
          },
          "metadata": {
            "tags": []
          },
          "execution_count": 41
        }
      ]
    },
    {
      "metadata": {
        "colab_type": "code",
        "outputId": "78ba985f-65f5-4a7b-df6f-2b9337ebae49",
        "id": "8x8J-EHq7BLI",
        "colab": {
          "base_uri": "https://localhost:8080/",
          "height": 34
        }
      },
      "cell_type": "code",
      "source": [
        "from sklearn.metrics import hamming_loss\n",
        "hamming_loss(Y_real, Y_pred)"
      ],
      "execution_count": 36,
      "outputs": [
        {
          "output_type": "execute_result",
          "data": {
            "text/plain": [
              "0.09076682316118936"
            ]
          },
          "metadata": {
            "tags": []
          },
          "execution_count": 36
        }
      ]
    },
    {
      "metadata": {
        "id": "wmleQm_I6qIW",
        "colab_type": "text"
      },
      "cell_type": "markdown",
      "source": [
        "### Accuracy with LSTM RNN"
      ]
    },
    {
      "metadata": {
        "id": "aPJRMXuH1pAQ",
        "colab_type": "code",
        "colab": {}
      },
      "cell_type": "code",
      "source": [
        "test_sequences = tok.texts_to_sequences(X1_test)\n",
        "test_sequences_matrix1 = sequence.pad_sequences(test_sequences,maxlen=max_len)"
      ],
      "execution_count": 0,
      "outputs": []
    },
    {
      "metadata": {
        "id": "JVOOEv9N10_d",
        "colab_type": "code",
        "colab": {}
      },
      "cell_type": "code",
      "source": [
        "test_sequences = tok.texts_to_sequences(X2_test)\n",
        "test_sequences_matrix2 = sequence.pad_sequences(test_sequences,maxlen=max_len)"
      ],
      "execution_count": 0,
      "outputs": []
    },
    {
      "metadata": {
        "id": "EjUBcJGL10Oe",
        "colab_type": "code",
        "colab": {}
      },
      "cell_type": "code",
      "source": [
        "test_sequences = tok.texts_to_sequences(X3_test)\n",
        "test_sequences_matrix3 = sequence.pad_sequences(test_sequences,maxlen=max_len)"
      ],
      "execution_count": 0,
      "outputs": []
    },
    {
      "metadata": {
        "id": "jkyb5aAR2Fq-",
        "colab_type": "code",
        "colab": {}
      },
      "cell_type": "code",
      "source": [
        "y1_predict = modelLSTM1.predict_classes(test_sequences_matrix1)\n",
        "y2_predict = modelLSTM2.predict_classes(test_sequences_matrix2)\n",
        "y3_predict = modelLSTM3.predict_classes(test_sequences_matrix3)"
      ],
      "execution_count": 0,
      "outputs": []
    },
    {
      "metadata": {
        "id": "nv3SHnIK7M7-",
        "colab_type": "code",
        "colab": {}
      },
      "cell_type": "code",
      "source": [
        "Y_pred = np.zeros((len(y3_predict),3))\n",
        "for i in range(len(Y_pred)):\n",
        "  for j in range(len(Y_pred[i])):\n",
        "    if j == 0:\n",
        "      Y_pred[i][j] = y1_predict[i]\n",
        "    elif j == 1:\n",
        "      Y_pred[i][j] = y2_predict[i]\n",
        "    elif j == 2:\n",
        "      Y_pred[i][j] = y3_predict[i]"
      ],
      "execution_count": 0,
      "outputs": []
    },
    {
      "metadata": {
        "id": "xZN-wJEi_VhV",
        "colab_type": "code",
        "colab": {}
      },
      "cell_type": "code",
      "source": [
        "Y_real = np.zeros((len(y3_predict),3))\n",
        "for i in range(len(Y_real)):\n",
        "  for j in range(len(Y_real[i])):\n",
        "    if j == 0:\n",
        "      Y_real[i][j] = Y1_test[i]\n",
        "    elif j == 1:\n",
        "      Y_real[i][j] = Y2_test[i]\n",
        "    elif j == 2:\n",
        "      Y_real[i][j] = Y3_test[i]"
      ],
      "execution_count": 0,
      "outputs": []
    },
    {
      "metadata": {
        "id": "CM4jyHsW-pWO",
        "colab_type": "code",
        "outputId": "5b179ba9-f124-4bef-96cb-4cccabf12589",
        "colab": {
          "base_uri": "https://localhost:8080/",
          "height": 34
        }
      },
      "cell_type": "code",
      "source": [
        "from sklearn.metrics import hamming_loss\n",
        "hamming_loss(Y_real, Y_pred)"
      ],
      "execution_count": 46,
      "outputs": [
        {
          "output_type": "execute_result",
          "data": {
            "text/plain": [
              "0.0892018779342723"
            ]
          },
          "metadata": {
            "tags": []
          },
          "execution_count": 46
        }
      ]
    },
    {
      "metadata": {
        "colab_type": "text",
        "id": "82n7jSe2AfGM"
      },
      "cell_type": "markdown",
      "source": [
        "### Accuracy with GRU RNN"
      ]
    },
    {
      "metadata": {
        "colab_type": "code",
        "id": "pdOz2kKhAfGN",
        "colab": {}
      },
      "cell_type": "code",
      "source": [
        "test_sequences = tok.texts_to_sequences(X1_test)\n",
        "test_sequences_matrix1 = sequence.pad_sequences(test_sequences,maxlen=max_len)"
      ],
      "execution_count": 0,
      "outputs": []
    },
    {
      "metadata": {
        "colab_type": "code",
        "id": "SeCk7tXIAfGR",
        "colab": {}
      },
      "cell_type": "code",
      "source": [
        "test_sequences = tok.texts_to_sequences(X2_test)\n",
        "test_sequences_matrix2 = sequence.pad_sequences(test_sequences,maxlen=max_len)"
      ],
      "execution_count": 0,
      "outputs": []
    },
    {
      "metadata": {
        "colab_type": "code",
        "id": "K1tnGYs8AfGW",
        "colab": {}
      },
      "cell_type": "code",
      "source": [
        "test_sequences = tok.texts_to_sequences(X3_test)\n",
        "test_sequences_matrix3 = sequence.pad_sequences(test_sequences,maxlen=max_len)"
      ],
      "execution_count": 0,
      "outputs": []
    },
    {
      "metadata": {
        "colab_type": "code",
        "id": "2lkUDoIBAfGb",
        "colab": {}
      },
      "cell_type": "code",
      "source": [
        "y1_predict = modelGRU1.predict_classes(test_sequences_matrix1)\n",
        "y2_predict = modelGRU2.predict_classes(test_sequences_matrix2)\n",
        "y3_predict = modelGRU3.predict_classes(test_sequences_matrix3)"
      ],
      "execution_count": 0,
      "outputs": []
    },
    {
      "metadata": {
        "colab_type": "code",
        "id": "ckMGcP8aAfGr",
        "colab": {}
      },
      "cell_type": "code",
      "source": [
        "Y_pred = np.zeros((len(y3_predict),3))\n",
        "for i in range(len(Y_pred)):\n",
        "  for j in range(len(Y_pred[i])):\n",
        "    if j == 0:\n",
        "      Y_pred[i][j] = y1_predict[i]\n",
        "    elif j == 1:\n",
        "      Y_pred[i][j] = y2_predict[i]\n",
        "    elif j == 2:\n",
        "      Y_pred[i][j] = y3_predict[i]"
      ],
      "execution_count": 0,
      "outputs": []
    },
    {
      "metadata": {
        "colab_type": "code",
        "id": "_b2d3gynAfGx",
        "colab": {}
      },
      "cell_type": "code",
      "source": [
        "Y_real = np.zeros((len(y3_predict),3))\n",
        "for i in range(len(Y_real)):\n",
        "  for j in range(len(Y_real[i])):\n",
        "    if j == 0:\n",
        "      Y_real[i][j] = Y1_test[i]\n",
        "    elif j == 1:\n",
        "      Y_real[i][j] = Y2_test[i]\n",
        "    elif j == 2:\n",
        "      Y_real[i][j] = Y3_test[i]"
      ],
      "execution_count": 0,
      "outputs": []
    },
    {
      "metadata": {
        "colab_type": "code",
        "outputId": "e6e9a63e-a649-449b-b4a5-f092c19c82be",
        "id": "68oQEnA3AfG5",
        "colab": {
          "base_uri": "https://localhost:8080/",
          "height": 34
        }
      },
      "cell_type": "code",
      "source": [
        "from sklearn.metrics import hamming_loss\n",
        "hamming_loss(Y_real, Y_pred)"
      ],
      "execution_count": 0,
      "outputs": [
        {
          "output_type": "execute_result",
          "data": {
            "text/plain": [
              "0.081377151799687"
            ]
          },
          "metadata": {
            "tags": []
          },
          "execution_count": 56
        }
      ]
    }
  ]
}