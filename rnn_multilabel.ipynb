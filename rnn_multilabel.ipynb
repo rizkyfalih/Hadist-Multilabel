{
  "nbformat": 4,
  "nbformat_minor": 0,
  "metadata": {
    "colab": {
      "name": "rnn_multilabel.ipynb",
      "version": "0.3.2",
      "provenance": [],
      "collapsed_sections": [
        "7E5ubKI8zQP_",
        "uyuk38AbseKP",
        "fHyvqK57sE2T",
        "MJIfgIcKvIYh",
        "STnWnNMAz5Ou",
        "x-UCczAxvKPF",
        "-rzSncte1kE5"
      ],
      "toc_visible": true
    },
    "kernelspec": {
      "name": "python3",
      "display_name": "Python 3"
    },
    "accelerator": "GPU"
  },
  "cells": [
    {
      "metadata": {
        "id": "9twKZcKWqZmC",
        "colab_type": "text"
      },
      "cell_type": "markdown",
      "source": [
        "# Hadist Multilabel RNN"
      ]
    },
    {
      "metadata": {
        "id": "zcx-vv1yOAah",
        "colab_type": "text"
      },
      "cell_type": "markdown",
      "source": [
        "## Import the libraries"
      ]
    },
    {
      "metadata": {
        "id": "nfpFCE9eLzaz",
        "colab_type": "code",
        "outputId": "5ebf623f-7a2a-4262-ea7f-c8f1daba4391",
        "colab": {
          "base_uri": "https://localhost:8080/",
          "height": 34
        }
      },
      "cell_type": "code",
      "source": [
        "import pandas as pd\n",
        "import numpy as np\n",
        "import matplotlib.pyplot as plt\n",
        "import seaborn as sns\n",
        "from sklearn.model_selection import train_test_split\n",
        "from sklearn.preprocessing import LabelEncoder\n",
        "from keras.models import Model\n",
        "from keras.layers import LSTM, Activation, Dense, Dropout, Input, Embedding, GRU,SimpleRNN\n",
        "from keras.optimizers import RMSprop\n",
        "from keras.preprocessing.text import Tokenizer\n",
        "from keras.preprocessing import sequence\n",
        "from keras.utils import to_categorical\n",
        "from keras.callbacks import EarlyStopping\n",
        "%matplotlib inline"
      ],
      "execution_count": 0,
      "outputs": [
        {
          "output_type": "stream",
          "text": [
            "Using TensorFlow backend.\n"
          ],
          "name": "stderr"
        }
      ]
    },
    {
      "metadata": {
        "id": "82qVDgbtsYru",
        "colab_type": "text"
      },
      "cell_type": "markdown",
      "source": [
        "## Processing the data"
      ]
    },
    {
      "metadata": {
        "id": "C32ZQzpcObXE",
        "colab_type": "code",
        "outputId": "938a874c-44e4-42b9-e2c3-ae8b3b56f454",
        "colab": {
          "base_uri": "https://localhost:8080/",
          "height": 359
        }
      },
      "cell_type": "code",
      "source": [
        "# reading data\n",
        "df = pd.read_excel('Multilabel.xlsx')\n",
        "df[:10]"
      ],
      "execution_count": 0,
      "outputs": [
        {
          "output_type": "execute_result",
          "data": {
            "text/html": [
              "<div>\n",
              "<style scoped>\n",
              "    .dataframe tbody tr th:only-of-type {\n",
              "        vertical-align: middle;\n",
              "    }\n",
              "\n",
              "    .dataframe tbody tr th {\n",
              "        vertical-align: top;\n",
              "    }\n",
              "\n",
              "    .dataframe thead th {\n",
              "        text-align: right;\n",
              "    }\n",
              "</style>\n",
              "<table border=\"1\" class=\"dataframe\">\n",
              "  <thead>\n",
              "    <tr style=\"text-align: right;\">\n",
              "      <th></th>\n",
              "      <th>Data</th>\n",
              "      <th>Anjuran</th>\n",
              "      <th>Larangan</th>\n",
              "      <th>Informasi</th>\n",
              "      <th>Bab Kitab</th>\n",
              "    </tr>\n",
              "  </thead>\n",
              "  <tbody>\n",
              "    <tr>\n",
              "      <th>0</th>\n",
              "      <td>Semua perbuatan tergantung niatnya, dan (balas...</td>\n",
              "      <td>0</td>\n",
              "      <td>0</td>\n",
              "      <td>1</td>\n",
              "      <td>1</td>\n",
              "    </tr>\n",
              "    <tr>\n",
              "      <th>1</th>\n",
              "      <td>Terkadang datang kepadaku seperti suara gemeri...</td>\n",
              "      <td>0</td>\n",
              "      <td>0</td>\n",
              "      <td>1</td>\n",
              "      <td>1</td>\n",
              "    </tr>\n",
              "    <tr>\n",
              "      <th>2</th>\n",
              "      <td>Bacalah? Beliau menjawab: Aku tidak bisa baca....</td>\n",
              "      <td>0</td>\n",
              "      <td>0</td>\n",
              "      <td>1</td>\n",
              "      <td>1</td>\n",
              "    </tr>\n",
              "    <tr>\n",
              "      <th>3</th>\n",
              "      <td>sangat kuat keinginannya untuk menghafalkan ap...</td>\n",
              "      <td>0</td>\n",
              "      <td>1</td>\n",
              "      <td>1</td>\n",
              "      <td>1</td>\n",
              "    </tr>\n",
              "    <tr>\n",
              "      <th>4</th>\n",
              "      <td>manusia yang paling lembut terutama pada bulan...</td>\n",
              "      <td>0</td>\n",
              "      <td>0</td>\n",
              "      <td>1</td>\n",
              "      <td>1</td>\n",
              "    </tr>\n",
              "    <tr>\n",
              "      <th>5</th>\n",
              "      <td>Dari Muhammad, hamba Allah dan Rasul-Nya untuk...</td>\n",
              "      <td>1</td>\n",
              "      <td>1</td>\n",
              "      <td>1</td>\n",
              "      <td>1</td>\n",
              "    </tr>\n",
              "    <tr>\n",
              "      <th>6</th>\n",
              "      <td>Islam dibangun diatas lima (landasan); persaks...</td>\n",
              "      <td>0</td>\n",
              "      <td>0</td>\n",
              "      <td>1</td>\n",
              "      <td>2</td>\n",
              "    </tr>\n",
              "    <tr>\n",
              "      <th>7</th>\n",
              "      <td>Iman memiliki lebih dari enam puluh cabang, da...</td>\n",
              "      <td>0</td>\n",
              "      <td>0</td>\n",
              "      <td>1</td>\n",
              "      <td>2</td>\n",
              "    </tr>\n",
              "    <tr>\n",
              "      <th>8</th>\n",
              "      <td>Seorang muslim adalah orang yang Kaum Muslimin...</td>\n",
              "      <td>0</td>\n",
              "      <td>1</td>\n",
              "      <td>1</td>\n",
              "      <td>2</td>\n",
              "    </tr>\n",
              "    <tr>\n",
              "      <th>9</th>\n",
              "      <td>Siapa yang Kaum Muslimin selamat dari lisan da...</td>\n",
              "      <td>0</td>\n",
              "      <td>0</td>\n",
              "      <td>1</td>\n",
              "      <td>2</td>\n",
              "    </tr>\n",
              "  </tbody>\n",
              "</table>\n",
              "</div>"
            ],
            "text/plain": [
              "                                                Data  Anjuran  Larangan  \\\n",
              "0  Semua perbuatan tergantung niatnya, dan (balas...        0         0   \n",
              "1  Terkadang datang kepadaku seperti suara gemeri...        0         0   \n",
              "2  Bacalah? Beliau menjawab: Aku tidak bisa baca....        0         0   \n",
              "3  sangat kuat keinginannya untuk menghafalkan ap...        0         1   \n",
              "4  manusia yang paling lembut terutama pada bulan...        0         0   \n",
              "5  Dari Muhammad, hamba Allah dan Rasul-Nya untuk...        1         1   \n",
              "6  Islam dibangun diatas lima (landasan); persaks...        0         0   \n",
              "7  Iman memiliki lebih dari enam puluh cabang, da...        0         0   \n",
              "8  Seorang muslim adalah orang yang Kaum Muslimin...        0         1   \n",
              "9  Siapa yang Kaum Muslimin selamat dari lisan da...        0         0   \n",
              "\n",
              "   Informasi  Bab Kitab  \n",
              "0          1          1  \n",
              "1          1          1  \n",
              "2          1          1  \n",
              "3          1          1  \n",
              "4          1          1  \n",
              "5          1          1  \n",
              "6          1          2  \n",
              "7          1          2  \n",
              "8          1          2  \n",
              "9          1          2  "
            ]
          },
          "metadata": {
            "tags": []
          },
          "execution_count": 2
        }
      ]
    },
    {
      "metadata": {
        "id": "1xmTFY52VOqW",
        "colab_type": "code",
        "outputId": "599cb4a1-1102-42da-a98b-d08b7b7bfb32",
        "colab": {
          "base_uri": "https://localhost:8080/",
          "height": 187
        }
      },
      "cell_type": "code",
      "source": [
        "df.info()"
      ],
      "execution_count": 0,
      "outputs": [
        {
          "output_type": "stream",
          "text": [
            "<class 'pandas.core.frame.DataFrame'>\n",
            "RangeIndex: 1064 entries, 0 to 1063\n",
            "Data columns (total 5 columns):\n",
            "Data         1064 non-null object\n",
            "Anjuran      1064 non-null int64\n",
            "Larangan     1064 non-null int64\n",
            "Informasi    1064 non-null int64\n",
            "Bab Kitab    1064 non-null int64\n",
            "dtypes: int64(4), object(1)\n",
            "memory usage: 41.6+ KB\n"
          ],
          "name": "stdout"
        }
      ]
    },
    {
      "metadata": {
        "id": "jMtNxA0wXcTV",
        "colab_type": "code",
        "outputId": "002d260f-bab0-4fc6-c2cc-7dde887fe2c7",
        "colab": {
          "base_uri": "https://localhost:8080/",
          "height": 365
        }
      },
      "cell_type": "code",
      "source": [
        "sns.countplot(df.Larangan)\n",
        "plt.xlabel('Label')\n",
        "plt.title('Number of false and true anjuran information')"
      ],
      "execution_count": 0,
      "outputs": [
        {
          "output_type": "stream",
          "text": [
            "/usr/local/lib/python3.6/dist-packages/seaborn/categorical.py:1428: FutureWarning: remove_na is deprecated and is a private function. Do not use.\n",
            "  stat_data = remove_na(group_data)\n"
          ],
          "name": "stderr"
        },
        {
          "output_type": "execute_result",
          "data": {
            "text/plain": [
              "Text(0.5, 1.0, 'Number of false and true anjuran information')"
            ]
          },
          "metadata": {
            "tags": []
          },
          "execution_count": 4
        },
        {
          "output_type": "display_data",
          "data": {
            "image/png": "[encoded data removed]",
            "text/plain": [
              "<Figure size 432x288 with 1 Axes>"
            ]
          },
          "metadata": {
            "tags": []
          }
        }
      ]
    },
    {
      "metadata": {
        "id": "mmuc12QMs2MX",
        "colab_type": "text"
      },
      "cell_type": "markdown",
      "source": [
        "### Initialize the data\n"
      ]
    },
    {
      "metadata": {
        "id": "n-lZJ6pgU5M9",
        "colab_type": "code",
        "colab": {}
      },
      "cell_type": "code",
      "source": [
        "X = df.Data.str.lower()\n",
        "Y1 = df.Anjuran\n",
        "Y2 = df.Larangan\n",
        "Y3 = df.Informasi\n",
        "le = LabelEncoder()\n",
        "\n",
        "# Y1 = le.fit_transform(Y1)\n",
        "# Y1 = Y1.reshape(-1,1)\n",
        "Y1 = Y1.values.reshape([-1,1])\n",
        "\n",
        "# Y2 = le.fit_transform(Y2)\n",
        "# Y2 = Y2.reshape(-1,1)\n",
        "Y2 = Y2.values.reshape([-1,1])\n",
        "\n",
        "# Y3 = le.fit_transform(Y3)\n",
        "# Y3 = Y3.reshape(-1,1)\n",
        "Y3 = Y3.values.reshape([-1,1])"
      ],
      "execution_count": 0,
      "outputs": []
    },
    {
      "metadata": {
        "id": "c78cz19btFvA",
        "colab_type": "text"
      },
      "cell_type": "markdown",
      "source": [
        "### Split the data"
      ]
    },
    {
      "metadata": {
        "id": "O0HMpSV1WK_m",
        "colab_type": "code",
        "colab": {}
      },
      "cell_type": "code",
      "source": [
        "X1_train,X1_test,Y1_train,Y1_test = train_test_split(X,Y1,test_size=0.20,shuffle=False)\n",
        "X2_train,X2_test,Y2_train,Y2_test = train_test_split(X,Y2,test_size=0.20,shuffle=False)\n",
        "X3_train,X3_test,Y3_train,Y3_test = train_test_split(X,Y3,test_size=0.20,shuffle=False)"
      ],
      "execution_count": 0,
      "outputs": []
    },
    {
      "metadata": {
        "id": "Yyg9N4_nwaRO",
        "colab_type": "text"
      },
      "cell_type": "markdown",
      "source": [
        "### Preprocess data"
      ]
    },
    {
      "metadata": {
        "id": "hNi_qeqSz1TO",
        "colab_type": "text"
      },
      "cell_type": "markdown",
      "source": [
        "#### Without preprocess data"
      ]
    },
    {
      "metadata": {
        "id": "3xNUHPOnatMg",
        "colab_type": "code",
        "colab": {}
      },
      "cell_type": "code",
      "source": [
        "# Ajuran\n",
        "max_words = 5000\n",
        "max_len = 100\n",
        "tok = Tokenizer(num_words=max_words)\n",
        "tok.fit_on_texts(X1_train)\n",
        "sequences = tok.texts_to_sequences(X1_train)\n",
        "sequences_matrix1 = sequence.pad_sequences(sequences,maxlen=max_len)"
      ],
      "execution_count": 0,
      "outputs": []
    },
    {
      "metadata": {
        "id": "AitMM9cFza1A",
        "colab_type": "code",
        "colab": {}
      },
      "cell_type": "code",
      "source": [
        "# larangan\n",
        "max_words = 5000\n",
        "max_len = 100\n",
        "tok = Tokenizer(num_words=max_words)\n",
        "tok.fit_on_texts(X2_train)\n",
        "sequences = tok.texts_to_sequences(X2_train)\n",
        "sequences_matrix2 = sequence.pad_sequences(sequences,maxlen=max_len)"
      ],
      "execution_count": 0,
      "outputs": []
    },
    {
      "metadata": {
        "id": "IYJq6_bnzbb5",
        "colab_type": "code",
        "colab": {}
      },
      "cell_type": "code",
      "source": [
        "# Informasi\n",
        "max_words = 5000\n",
        "max_len = 100\n",
        "tok = Tokenizer(num_words=max_words)\n",
        "tok.fit_on_texts(X3_train)\n",
        "sequences = tok.texts_to_sequences(X3_train)\n",
        "sequences_matrix3 = sequence.pad_sequences(sequences,maxlen=max_len)"
      ],
      "execution_count": 0,
      "outputs": []
    },
    {
      "metadata": {
        "id": "a-MWAHZw1K8a",
        "colab_type": "code",
        "outputId": "56eb100b-a978-40d2-ee42-4f0f8e8a3988",
        "colab": {
          "base_uri": "https://localhost:8080/",
          "height": 187
        }
      },
      "cell_type": "code",
      "source": [
        "sequences_matrix3[1]"
      ],
      "execution_count": 0,
      "outputs": [
        {
          "output_type": "execute_result",
          "data": {
            "text/plain": [
              "array([   0,    0,    0,    0,    0,    0,    0,    0,    0,    0,    0,\n",
              "          0,    0,    0,    0,    0,    0,    0,    0,    0,    0,    0,\n",
              "          0,    0,    0,    0,    0,    0,    0,    0,    0,    0,    0,\n",
              "          0,    0,  543,   81,  111,   47,  259, 2424, 2425,    1,  272,\n",
              "         32,    2,  195,  654,  655,   10, 1311,  154,    3,  126,  929,\n",
              "         48,    2,  930,    1,  543,   81,  188, 1700,   40,   59,   59,\n",
              "         10,  498,  111,    7,    3, 1701,   48,    2, 1312,  499,   11,\n",
              "        100,    3,   49,   53, 2426,  597,   17,    5,   25,  120,   68,\n",
              "          2,  260,  598,   10, 1311,    1,    3,  376, 1313,    5, 2427,\n",
              "        931], dtype=int32)"
            ]
          },
          "metadata": {
            "tags": []
          },
          "execution_count": 10
        }
      ]
    },
    {
      "metadata": {
        "id": "7E5ubKI8zQP_",
        "colab_type": "text"
      },
      "cell_type": "markdown",
      "source": [
        "## Build RNN"
      ]
    },
    {
      "metadata": {
        "colab_type": "text",
        "id": "uyuk38AbseKP"
      },
      "cell_type": "markdown",
      "source": [
        "### Simple RNN"
      ]
    },
    {
      "metadata": {
        "colab_type": "code",
        "id": "qIqVrtOMseKU",
        "colab": {}
      },
      "cell_type": "code",
      "source": [
        "from keras.models import Sequential\n",
        "def simpleRNN():\n",
        "    model = Sequential()\n",
        "    model.add(Embedding(max_words, 50, input_length=max_len))\n",
        "    model.add(SimpleRNN(64, init='uniform'))\n",
        "    model.add(Dense(1, init='uniform', activation='sigmoid'))\n",
        "    model.compile(loss='binary_crossentropy', optimizer='rmsprop', metrics=['accuracy'])\n",
        "#     inputs = Input(name='inputs',shape=[max_len])\n",
        "#     layer = Embedding(max_words,50,input_length=max_len)(inputs)\n",
        "#     layer = GRU(64)(layer)\n",
        "#     layer = Dense(256,name='FC1')(layer)\n",
        "#     layer = Activation('relu')(layer)\n",
        "#     layer = Dropout(0.5)(layer)\n",
        "#     layer = Dense(1,name='out_layer')(layer)\n",
        "#     layer = Activation('sigmoid')(layer)\n",
        "#     model = Model(inputs=inputs,outputs=layer)\n",
        "    return model"
      ],
      "execution_count": 0,
      "outputs": []
    },
    {
      "metadata": {
        "colab_type": "code",
        "outputId": "0c8cb451-dec2-4994-d87a-f8f4acea3f6e",
        "id": "6lEfmDzyseKi",
        "colab": {
          "base_uri": "https://localhost:8080/",
          "height": 326
        }
      },
      "cell_type": "code",
      "source": [
        "modelSimple1 = simpleRNN()\n",
        "modelSimple1.summary()\n",
        "# model1.compile(loss='binary_crossentropy',optimizer=RMSprop(),metrics=['accuracy'])"
      ],
      "execution_count": 0,
      "outputs": [
        {
          "output_type": "stream",
          "text": [
            "/usr/local/lib/python3.6/dist-packages/ipykernel_launcher.py:5: UserWarning: Update your `SimpleRNN` call to the Keras 2 API: `SimpleRNN(64, kernel_initializer=\"uniform\")`\n",
            "  \"\"\"\n",
            "/usr/local/lib/python3.6/dist-packages/ipykernel_launcher.py:6: UserWarning: Update your `Dense` call to the Keras 2 API: `Dense(1, activation=\"sigmoid\", kernel_initializer=\"uniform\")`\n",
            "  \n"
          ],
          "name": "stderr"
        },
        {
          "output_type": "stream",
          "text": [
            "_________________________________________________________________\n",
            "Layer (type)                 Output Shape              Param #   \n",
            "=================================================================\n",
            "embedding_2 (Embedding)      (None, 100, 50)           250000    \n",
            "_________________________________________________________________\n",
            "simple_rnn_2 (SimpleRNN)     (None, 64)                7360      \n",
            "_________________________________________________________________\n",
            "dense_2 (Dense)              (None, 1)                 65        \n",
            "=================================================================\n",
            "Total params: 257,425\n",
            "Trainable params: 257,425\n",
            "Non-trainable params: 0\n",
            "_________________________________________________________________\n"
          ],
          "name": "stdout"
        }
      ]
    },
    {
      "metadata": {
        "colab_type": "code",
        "outputId": "efd8ac42-bdd8-403e-d608-b8097d80cc7b",
        "id": "OX4hRPbvseKv",
        "colab": {
          "base_uri": "https://localhost:8080/",
          "height": 377
        }
      },
      "cell_type": "code",
      "source": [
        "modelSimple2 = simpleRNN()\n",
        "modelSimple2.summary()\n",
        "# model2.compile(loss='binary_crossentropy',optimizer=RMSprop(),metrics=['accuracy'])"
      ],
      "execution_count": 0,
      "outputs": [
        {
          "output_type": "stream",
          "text": [
            "WARNING:tensorflow:From /usr/local/lib/python3.6/dist-packages/tensorflow/python/framework/op_def_library.py:263: colocate_with (from tensorflow.python.framework.ops) is deprecated and will be removed in a future version.\n",
            "Instructions for updating:\n",
            "Colocations handled automatically by placer.\n",
            "_________________________________________________________________\n",
            "Layer (type)                 Output Shape              Param #   \n",
            "=================================================================\n",
            "embedding_1 (Embedding)      (None, 100, 50)           250000    \n",
            "_________________________________________________________________\n",
            "simple_rnn_1 (SimpleRNN)     (None, 64)                7360      \n",
            "_________________________________________________________________\n",
            "dense_1 (Dense)              (None, 1)                 65        \n",
            "=================================================================\n",
            "Total params: 257,425\n",
            "Trainable params: 257,425\n",
            "Non-trainable params: 0\n",
            "_________________________________________________________________\n"
          ],
          "name": "stdout"
        },
        {
          "output_type": "stream",
          "text": [
            "/usr/local/lib/python3.6/dist-packages/ipykernel_launcher.py:5: UserWarning: Update your `SimpleRNN` call to the Keras 2 API: `SimpleRNN(64, kernel_initializer=\"uniform\")`\n",
            "  \"\"\"\n",
            "/usr/local/lib/python3.6/dist-packages/ipykernel_launcher.py:6: UserWarning: Update your `Dense` call to the Keras 2 API: `Dense(1, activation=\"sigmoid\", kernel_initializer=\"uniform\")`\n",
            "  \n"
          ],
          "name": "stderr"
        }
      ]
    },
    {
      "metadata": {
        "colab_type": "code",
        "outputId": "c050af46-bdd6-4e52-8b7e-5d4a8a444c4f",
        "id": "B-S7231mseK5",
        "colab": {
          "base_uri": "https://localhost:8080/",
          "height": 326
        }
      },
      "cell_type": "code",
      "source": [
        "modelSimple3 = simpleRNN()\n",
        "modelSimple3.summary()\n",
        "# model3.compile(loss='binary_crossentropy',optimizer=RMSprop(),metrics=['accuracy'])"
      ],
      "execution_count": 0,
      "outputs": [
        {
          "output_type": "stream",
          "text": [
            "_________________________________________________________________\n",
            "Layer (type)                 Output Shape              Param #   \n",
            "=================================================================\n",
            "embedding_3 (Embedding)      (None, 100, 50)           250000    \n",
            "_________________________________________________________________\n",
            "simple_rnn_3 (SimpleRNN)     (None, 64)                7360      \n",
            "_________________________________________________________________\n",
            "dense_3 (Dense)              (None, 1)                 65        \n",
            "=================================================================\n",
            "Total params: 257,425\n",
            "Trainable params: 257,425\n",
            "Non-trainable params: 0\n",
            "_________________________________________________________________\n"
          ],
          "name": "stdout"
        },
        {
          "output_type": "stream",
          "text": [
            "/usr/local/lib/python3.6/dist-packages/ipykernel_launcher.py:5: UserWarning: Update your `SimpleRNN` call to the Keras 2 API: `SimpleRNN(64, kernel_initializer=\"uniform\")`\n",
            "  \"\"\"\n",
            "/usr/local/lib/python3.6/dist-packages/ipykernel_launcher.py:6: UserWarning: Update your `Dense` call to the Keras 2 API: `Dense(1, activation=\"sigmoid\", kernel_initializer=\"uniform\")`\n",
            "  \n"
          ],
          "name": "stderr"
        }
      ]
    },
    {
      "metadata": {
        "id": "fHyvqK57sE2T",
        "colab_type": "text"
      },
      "cell_type": "markdown",
      "source": [
        "### LSTM RNN"
      ]
    },
    {
      "metadata": {
        "id": "zhxiHKIwazKH",
        "colab_type": "code",
        "colab": {}
      },
      "cell_type": "code",
      "source": [
        "from keras.models import Sequential\n",
        "def lstmRNN():\n",
        "    model = Sequential()\n",
        "    model.add(Embedding(max_words, 50, input_length=max_len))\n",
        "    model.add(LSTM(64, init='uniform'))\n",
        "    model.add(Dense(1, init='uniform', activation='sigmoid'))\n",
        "    model.compile(loss='binary_crossentropy', optimizer='rmsprop', metrics=['accuracy'])\n",
        "#     inputs = Input(name='inputs',shape=[max_len])\n",
        "#     layer = Embedding(max_words,50,input_length=max_len)(inputs)\n",
        "#     layer = GRU(64)(layer)\n",
        "#     layer = Dense(256,name='FC1')(layer)\n",
        "#     layer = Activation('relu')(layer)\n",
        "#     layer = Dropout(0.5)(layer)\n",
        "#     layer = Dense(1,name='out_layer')(layer)\n",
        "#     layer = Activation('sigmoid')(layer)\n",
        "#     model = Model(inputs=inputs,outputs=layer)\n",
        "    return model"
      ],
      "execution_count": 0,
      "outputs": []
    },
    {
      "metadata": {
        "id": "GwmVOb0-a2Nw",
        "colab_type": "code",
        "outputId": "0c8cb451-dec2-4994-d87a-f8f4acea3f6e",
        "colab": {
          "base_uri": "https://localhost:8080/",
          "height": 326
        }
      },
      "cell_type": "code",
      "source": [
        "modelLSTM1 = lstmRNN()\n",
        "modelLSTM1.summary()\n",
        "# model1.compile(loss='binary_crossentropy',optimizer=RMSprop(),metrics=['accuracy'])"
      ],
      "execution_count": 0,
      "outputs": [
        {
          "output_type": "stream",
          "text": [
            "/usr/local/lib/python3.6/dist-packages/ipykernel_launcher.py:5: UserWarning: Update your `SimpleRNN` call to the Keras 2 API: `SimpleRNN(64, kernel_initializer=\"uniform\")`\n",
            "  \"\"\"\n",
            "/usr/local/lib/python3.6/dist-packages/ipykernel_launcher.py:6: UserWarning: Update your `Dense` call to the Keras 2 API: `Dense(1, activation=\"sigmoid\", kernel_initializer=\"uniform\")`\n",
            "  \n"
          ],
          "name": "stderr"
        },
        {
          "output_type": "stream",
          "text": [
            "_________________________________________________________________\n",
            "Layer (type)                 Output Shape              Param #   \n",
            "=================================================================\n",
            "embedding_2 (Embedding)      (None, 100, 50)           250000    \n",
            "_________________________________________________________________\n",
            "simple_rnn_2 (SimpleRNN)     (None, 64)                7360      \n",
            "_________________________________________________________________\n",
            "dense_2 (Dense)              (None, 1)                 65        \n",
            "=================================================================\n",
            "Total params: 257,425\n",
            "Trainable params: 257,425\n",
            "Non-trainable params: 0\n",
            "_________________________________________________________________\n"
          ],
          "name": "stdout"
        }
      ]
    },
    {
      "metadata": {
        "id": "qW4Fwt5S0cav",
        "colab_type": "code",
        "outputId": "efd8ac42-bdd8-403e-d608-b8097d80cc7b",
        "colab": {
          "base_uri": "https://localhost:8080/",
          "height": 377
        }
      },
      "cell_type": "code",
      "source": [
        "modelLSTM2 = lstmRNN()\n",
        "modelLSTM2.summary()\n",
        "# model2.compile(loss='binary_crossentropy',optimizer=RMSprop(),metrics=['accuracy'])"
      ],
      "execution_count": 0,
      "outputs": [
        {
          "output_type": "stream",
          "text": [
            "WARNING:tensorflow:From /usr/local/lib/python3.6/dist-packages/tensorflow/python/framework/op_def_library.py:263: colocate_with (from tensorflow.python.framework.ops) is deprecated and will be removed in a future version.\n",
            "Instructions for updating:\n",
            "Colocations handled automatically by placer.\n",
            "_________________________________________________________________\n",
            "Layer (type)                 Output Shape              Param #   \n",
            "=================================================================\n",
            "embedding_1 (Embedding)      (None, 100, 50)           250000    \n",
            "_________________________________________________________________\n",
            "simple_rnn_1 (SimpleRNN)     (None, 64)                7360      \n",
            "_________________________________________________________________\n",
            "dense_1 (Dense)              (None, 1)                 65        \n",
            "=================================================================\n",
            "Total params: 257,425\n",
            "Trainable params: 257,425\n",
            "Non-trainable params: 0\n",
            "_________________________________________________________________\n"
          ],
          "name": "stdout"
        },
        {
          "output_type": "stream",
          "text": [
            "/usr/local/lib/python3.6/dist-packages/ipykernel_launcher.py:5: UserWarning: Update your `SimpleRNN` call to the Keras 2 API: `SimpleRNN(64, kernel_initializer=\"uniform\")`\n",
            "  \"\"\"\n",
            "/usr/local/lib/python3.6/dist-packages/ipykernel_launcher.py:6: UserWarning: Update your `Dense` call to the Keras 2 API: `Dense(1, activation=\"sigmoid\", kernel_initializer=\"uniform\")`\n",
            "  \n"
          ],
          "name": "stderr"
        }
      ]
    },
    {
      "metadata": {
        "id": "Y7i8OLL40fqm",
        "colab_type": "code",
        "outputId": "c050af46-bdd6-4e52-8b7e-5d4a8a444c4f",
        "colab": {
          "base_uri": "https://localhost:8080/",
          "height": 326
        }
      },
      "cell_type": "code",
      "source": [
        "modelLSTM3 = lstmRNN()\n",
        "modelLSTM3.summary()\n",
        "# model3.compile(loss='binary_crossentropy',optimizer=RMSprop(),metrics=['accuracy'])"
      ],
      "execution_count": 0,
      "outputs": [
        {
          "output_type": "stream",
          "text": [
            "_________________________________________________________________\n",
            "Layer (type)                 Output Shape              Param #   \n",
            "=================================================================\n",
            "embedding_3 (Embedding)      (None, 100, 50)           250000    \n",
            "_________________________________________________________________\n",
            "simple_rnn_3 (SimpleRNN)     (None, 64)                7360      \n",
            "_________________________________________________________________\n",
            "dense_3 (Dense)              (None, 1)                 65        \n",
            "=================================================================\n",
            "Total params: 257,425\n",
            "Trainable params: 257,425\n",
            "Non-trainable params: 0\n",
            "_________________________________________________________________\n"
          ],
          "name": "stdout"
        },
        {
          "output_type": "stream",
          "text": [
            "/usr/local/lib/python3.6/dist-packages/ipykernel_launcher.py:5: UserWarning: Update your `SimpleRNN` call to the Keras 2 API: `SimpleRNN(64, kernel_initializer=\"uniform\")`\n",
            "  \"\"\"\n",
            "/usr/local/lib/python3.6/dist-packages/ipykernel_launcher.py:6: UserWarning: Update your `Dense` call to the Keras 2 API: `Dense(1, activation=\"sigmoid\", kernel_initializer=\"uniform\")`\n",
            "  \n"
          ],
          "name": "stderr"
        }
      ]
    },
    {
      "metadata": {
        "colab_type": "text",
        "id": "eBGtsIZCshtK"
      },
      "cell_type": "markdown",
      "source": [
        "### GRU RNN"
      ]
    },
    {
      "metadata": {
        "colab_type": "code",
        "id": "CxrHeHh4shtQ",
        "colab": {}
      },
      "cell_type": "code",
      "source": [
        "from keras.models import Sequential\n",
        "def gruRNN():\n",
        "    model = Sequential()\n",
        "    model.add(Embedding(max_words, 50, input_length=max_len))\n",
        "    model.add(GRU(64, init='uniform'))\n",
        "    model.add(Dense(1, init='uniform', activation='sigmoid'))\n",
        "    model.compile(loss='binary_crossentropy', optimizer='rmsprop', metrics=['accuracy'])\n",
        "#     inputs = Input(name='inputs',shape=[max_len])\n",
        "#     layer = Embedding(max_words,50,input_length=max_len)(inputs)\n",
        "#     layer = GRU(64)(layer)\n",
        "#     layer = Dense(256,name='FC1')(layer)\n",
        "#     layer = Activation('relu')(layer)\n",
        "#     layer = Dropout(0.5)(layer)\n",
        "#     layer = Dense(1,name='out_layer')(layer)\n",
        "#     layer = Activation('sigmoid')(layer)\n",
        "#     model = Model(inputs=inputs,outputs=layer)\n",
        "    return model"
      ],
      "execution_count": 0,
      "outputs": []
    },
    {
      "metadata": {
        "colab_type": "code",
        "outputId": "0c8cb451-dec2-4994-d87a-f8f4acea3f6e",
        "id": "s3eC3Hw0shtd",
        "colab": {
          "base_uri": "https://localhost:8080/",
          "height": 326
        }
      },
      "cell_type": "code",
      "source": [
        "modelGRU1 = gruRNN()\n",
        "modelGRU1.summary()\n",
        "# model1.compile(loss='binary_crossentropy',optimizer=RMSprop(),metrics=['accuracy'])"
      ],
      "execution_count": 0,
      "outputs": [
        {
          "output_type": "stream",
          "text": [
            "/usr/local/lib/python3.6/dist-packages/ipykernel_launcher.py:5: UserWarning: Update your `SimpleRNN` call to the Keras 2 API: `SimpleRNN(64, kernel_initializer=\"uniform\")`\n",
            "  \"\"\"\n",
            "/usr/local/lib/python3.6/dist-packages/ipykernel_launcher.py:6: UserWarning: Update your `Dense` call to the Keras 2 API: `Dense(1, activation=\"sigmoid\", kernel_initializer=\"uniform\")`\n",
            "  \n"
          ],
          "name": "stderr"
        },
        {
          "output_type": "stream",
          "text": [
            "_________________________________________________________________\n",
            "Layer (type)                 Output Shape              Param #   \n",
            "=================================================================\n",
            "embedding_2 (Embedding)      (None, 100, 50)           250000    \n",
            "_________________________________________________________________\n",
            "simple_rnn_2 (SimpleRNN)     (None, 64)                7360      \n",
            "_________________________________________________________________\n",
            "dense_2 (Dense)              (None, 1)                 65        \n",
            "=================================================================\n",
            "Total params: 257,425\n",
            "Trainable params: 257,425\n",
            "Non-trainable params: 0\n",
            "_________________________________________________________________\n"
          ],
          "name": "stdout"
        }
      ]
    },
    {
      "metadata": {
        "colab_type": "code",
        "outputId": "efd8ac42-bdd8-403e-d608-b8097d80cc7b",
        "id": "yUAGakd4shtw",
        "colab": {
          "base_uri": "https://localhost:8080/",
          "height": 377
        }
      },
      "cell_type": "code",
      "source": [
        "modelGRU2 = gruRNN()\n",
        "modelGRU2.summary()\n",
        "# model2.compile(loss='binary_crossentropy',optimizer=RMSprop(),metrics=['accuracy'])"
      ],
      "execution_count": 0,
      "outputs": [
        {
          "output_type": "stream",
          "text": [
            "WARNING:tensorflow:From /usr/local/lib/python3.6/dist-packages/tensorflow/python/framework/op_def_library.py:263: colocate_with (from tensorflow.python.framework.ops) is deprecated and will be removed in a future version.\n",
            "Instructions for updating:\n",
            "Colocations handled automatically by placer.\n",
            "_________________________________________________________________\n",
            "Layer (type)                 Output Shape              Param #   \n",
            "=================================================================\n",
            "embedding_1 (Embedding)      (None, 100, 50)           250000    \n",
            "_________________________________________________________________\n",
            "simple_rnn_1 (SimpleRNN)     (None, 64)                7360      \n",
            "_________________________________________________________________\n",
            "dense_1 (Dense)              (None, 1)                 65        \n",
            "=================================================================\n",
            "Total params: 257,425\n",
            "Trainable params: 257,425\n",
            "Non-trainable params: 0\n",
            "_________________________________________________________________\n"
          ],
          "name": "stdout"
        },
        {
          "output_type": "stream",
          "text": [
            "/usr/local/lib/python3.6/dist-packages/ipykernel_launcher.py:5: UserWarning: Update your `SimpleRNN` call to the Keras 2 API: `SimpleRNN(64, kernel_initializer=\"uniform\")`\n",
            "  \"\"\"\n",
            "/usr/local/lib/python3.6/dist-packages/ipykernel_launcher.py:6: UserWarning: Update your `Dense` call to the Keras 2 API: `Dense(1, activation=\"sigmoid\", kernel_initializer=\"uniform\")`\n",
            "  \n"
          ],
          "name": "stderr"
        }
      ]
    },
    {
      "metadata": {
        "colab_type": "code",
        "outputId": "c050af46-bdd6-4e52-8b7e-5d4a8a444c4f",
        "id": "K4Y8vwihshuB",
        "colab": {
          "base_uri": "https://localhost:8080/",
          "height": 326
        }
      },
      "cell_type": "code",
      "source": [
        "modelGRU3 = gruRNN()\n",
        "modelGRU3.summary()\n",
        "# model3.compile(loss='binary_crossentropy',optimizer=RMSprop(),metrics=['accuracy'])"
      ],
      "execution_count": 0,
      "outputs": [
        {
          "output_type": "stream",
          "text": [
            "_________________________________________________________________\n",
            "Layer (type)                 Output Shape              Param #   \n",
            "=================================================================\n",
            "embedding_3 (Embedding)      (None, 100, 50)           250000    \n",
            "_________________________________________________________________\n",
            "simple_rnn_3 (SimpleRNN)     (None, 64)                7360      \n",
            "_________________________________________________________________\n",
            "dense_3 (Dense)              (None, 1)                 65        \n",
            "=================================================================\n",
            "Total params: 257,425\n",
            "Trainable params: 257,425\n",
            "Non-trainable params: 0\n",
            "_________________________________________________________________\n"
          ],
          "name": "stdout"
        },
        {
          "output_type": "stream",
          "text": [
            "/usr/local/lib/python3.6/dist-packages/ipykernel_launcher.py:5: UserWarning: Update your `SimpleRNN` call to the Keras 2 API: `SimpleRNN(64, kernel_initializer=\"uniform\")`\n",
            "  \"\"\"\n",
            "/usr/local/lib/python3.6/dist-packages/ipykernel_launcher.py:6: UserWarning: Update your `Dense` call to the Keras 2 API: `Dense(1, activation=\"sigmoid\", kernel_initializer=\"uniform\")`\n",
            "  \n"
          ],
          "name": "stderr"
        }
      ]
    },
    {
      "metadata": {
        "id": "VhL1NLrx1VXB",
        "colab_type": "text"
      },
      "cell_type": "markdown",
      "source": [
        "## Build Model"
      ]
    },
    {
      "metadata": {
        "colab_type": "text",
        "id": "MJIfgIcKvIYh"
      },
      "cell_type": "markdown",
      "source": [
        "### Train the data with Simple RNN"
      ]
    },
    {
      "metadata": {
        "colab_type": "code",
        "outputId": "414203c7-be62-46af-8891-b50becd06973",
        "id": "oZGGV9cqvIYj",
        "colab": {
          "base_uri": "https://localhost:8080/",
          "height": 462
        }
      },
      "cell_type": "code",
      "source": [
        "modelSimple1.fit(sequences_matrix1,Y1_train,batch_size=128,epochs=10,\n",
        "          validation_split=0.2)"
      ],
      "execution_count": 0,
      "outputs": [
        {
          "output_type": "stream",
          "text": [
            "WARNING:tensorflow:From /usr/local/lib/python3.6/dist-packages/tensorflow/python/ops/math_ops.py:3066: to_int32 (from tensorflow.python.ops.math_ops) is deprecated and will be removed in a future version.\n",
            "Instructions for updating:\n",
            "Use tf.cast instead.\n",
            "Train on 680 samples, validate on 171 samples\n",
            "Epoch 1/10\n",
            "680/680 [==============================] - 3s 5ms/step - loss: 0.6872 - acc: 0.6309 - val_loss: 0.6505 - val_acc: 0.8129\n",
            "Epoch 2/10\n",
            "680/680 [==============================] - 0s 709us/step - loss: 0.6997 - acc: 0.4794 - val_loss: 0.6348 - val_acc: 0.7953\n",
            "Epoch 3/10\n",
            "680/680 [==============================] - 1s 839us/step - loss: 0.6106 - acc: 0.7618 - val_loss: 0.5391 - val_acc: 0.8187\n",
            "Epoch 4/10\n",
            "680/680 [==============================] - 1s 821us/step - loss: 0.6272 - acc: 0.6809 - val_loss: 0.5212 - val_acc: 0.8187\n",
            "Epoch 5/10\n",
            "680/680 [==============================] - 1s 850us/step - loss: 0.6142 - acc: 0.6912 - val_loss: 0.5133 - val_acc: 0.8187\n",
            "Epoch 6/10\n",
            "680/680 [==============================] - 1s 854us/step - loss: 0.5390 - acc: 0.7765 - val_loss: 0.9914 - val_acc: 0.2749\n",
            "Epoch 7/10\n",
            "680/680 [==============================] - 1s 830us/step - loss: 0.6352 - acc: 0.6662 - val_loss: 0.5021 - val_acc: 0.8187\n",
            "Epoch 8/10\n",
            "680/680 [==============================] - 1s 826us/step - loss: 0.6053 - acc: 0.6838 - val_loss: 0.5007 - val_acc: 0.8187\n",
            "Epoch 9/10\n",
            "680/680 [==============================] - 1s 813us/step - loss: 0.5314 - acc: 0.7618 - val_loss: 0.5110 - val_acc: 0.8187\n",
            "Epoch 10/10\n",
            "680/680 [==============================] - 1s 830us/step - loss: 0.5094 - acc: 0.7765 - val_loss: 0.4876 - val_acc: 0.8187\n"
          ],
          "name": "stdout"
        },
        {
          "output_type": "execute_result",
          "data": {
            "text/plain": [
              "<keras.callbacks.History at 0x7f447b2a9e80>"
            ]
          },
          "metadata": {
            "tags": []
          },
          "execution_count": 15
        }
      ]
    },
    {
      "metadata": {
        "colab_type": "code",
        "outputId": "fe92b6bf-a2ba-4efe-e20e-8d9b8cdefa04",
        "id": "me3F8MAyvIYr",
        "colab": {
          "base_uri": "https://localhost:8080/",
          "height": 411
        }
      },
      "cell_type": "code",
      "source": [
        "modelSimple2.fit(sequences_matrix2,Y2_train,batch_size=128,epochs=10,\n",
        "          validation_split=0.2)"
      ],
      "execution_count": 0,
      "outputs": [
        {
          "output_type": "stream",
          "text": [
            "Train on 680 samples, validate on 171 samples\n",
            "Epoch 1/10\n",
            "680/680 [==============================] - 1s 1ms/step - loss: 0.6890 - acc: 0.4279 - val_loss: 0.6835 - val_acc: 0.8480\n",
            "Epoch 2/10\n",
            "680/680 [==============================] - 1s 836us/step - loss: 0.6445 - acc: 0.7485 - val_loss: 0.5724 - val_acc: 0.9123\n",
            "Epoch 3/10\n",
            "680/680 [==============================] - 1s 830us/step - loss: 0.5497 - acc: 0.8882 - val_loss: 0.4758 - val_acc: 0.9123\n",
            "Epoch 4/10\n",
            "680/680 [==============================] - 1s 847us/step - loss: 0.4625 - acc: 0.8882 - val_loss: 0.4000 - val_acc: 0.9123\n",
            "Epoch 5/10\n",
            "680/680 [==============================] - 1s 839us/step - loss: 0.4050 - acc: 0.8882 - val_loss: 0.3464 - val_acc: 0.9123\n",
            "Epoch 6/10\n",
            "680/680 [==============================] - 1s 861us/step - loss: 0.3702 - acc: 0.8882 - val_loss: 0.3204 - val_acc: 0.9123\n",
            "Epoch 7/10\n",
            "680/680 [==============================] - 1s 870us/step - loss: 0.3563 - acc: 0.8882 - val_loss: 0.3103 - val_acc: 0.9123\n",
            "Epoch 8/10\n",
            "680/680 [==============================] - 1s 814us/step - loss: 0.3516 - acc: 0.8882 - val_loss: 0.3022 - val_acc: 0.9123\n",
            "Epoch 9/10\n",
            "680/680 [==============================] - 1s 857us/step - loss: 0.3494 - acc: 0.8882 - val_loss: 0.3006 - val_acc: 0.9123\n",
            "Epoch 10/10\n",
            "680/680 [==============================] - 1s 822us/step - loss: 0.3485 - acc: 0.8882 - val_loss: 0.3045 - val_acc: 0.9123\n"
          ],
          "name": "stdout"
        },
        {
          "output_type": "execute_result",
          "data": {
            "text/plain": [
              "<keras.callbacks.History at 0x7f44736153c8>"
            ]
          },
          "metadata": {
            "tags": []
          },
          "execution_count": 16
        }
      ]
    },
    {
      "metadata": {
        "colab_type": "code",
        "outputId": "47bad379-d132-480b-eb29-ea9d1c178312",
        "id": "nB4JOFUivIYy",
        "colab": {
          "base_uri": "https://localhost:8080/",
          "height": 411
        }
      },
      "cell_type": "code",
      "source": [
        "modelSimple3.fit(sequences_matrix3,Y3_train,batch_size=128,epochs=10,\n",
        "          validation_split=0.2)"
      ],
      "execution_count": 0,
      "outputs": [
        {
          "output_type": "stream",
          "text": [
            "Train on 680 samples, validate on 171 samples\n",
            "Epoch 1/10\n",
            "680/680 [==============================] - 1s 1ms/step - loss: 0.7152 - acc: 0.3044 - val_loss: 0.6212 - val_acc: 0.9883\n",
            "Epoch 2/10\n",
            "680/680 [==============================] - 1s 805us/step - loss: 0.6605 - acc: 0.7926 - val_loss: 0.7322 - val_acc: 0.0175\n",
            "Epoch 3/10\n",
            "680/680 [==============================] - 1s 845us/step - loss: 0.7274 - acc: 0.1515 - val_loss: 0.6109 - val_acc: 0.9883\n",
            "Epoch 4/10\n",
            "680/680 [==============================] - 1s 819us/step - loss: 0.6523 - acc: 0.7397 - val_loss: 0.5734 - val_acc: 0.9883\n",
            "Epoch 5/10\n",
            "680/680 [==============================] - 1s 834us/step - loss: 0.6426 - acc: 0.6191 - val_loss: 0.5747 - val_acc: 0.9883\n",
            "Epoch 6/10\n",
            "680/680 [==============================] - 1s 841us/step - loss: 0.5580 - acc: 0.9779 - val_loss: 0.4976 - val_acc: 0.9883\n",
            "Epoch 7/10\n",
            "680/680 [==============================] - 1s 824us/step - loss: 0.4611 - acc: 0.9779 - val_loss: 0.4585 - val_acc: 0.9883\n",
            "Epoch 8/10\n",
            "680/680 [==============================] - 1s 853us/step - loss: 0.3759 - acc: 0.9779 - val_loss: 0.3023 - val_acc: 0.9883\n",
            "Epoch 9/10\n",
            "680/680 [==============================] - 1s 817us/step - loss: 0.2846 - acc: 0.9779 - val_loss: 0.2355 - val_acc: 0.9883\n",
            "Epoch 10/10\n",
            "680/680 [==============================] - 1s 846us/step - loss: 0.2284 - acc: 0.9779 - val_loss: 0.1852 - val_acc: 0.9883\n"
          ],
          "name": "stdout"
        },
        {
          "output_type": "execute_result",
          "data": {
            "text/plain": [
              "<keras.callbacks.History at 0x7f44729c9c88>"
            ]
          },
          "metadata": {
            "tags": []
          },
          "execution_count": 17
        }
      ]
    },
    {
      "metadata": {
        "id": "STnWnNMAz5Ou",
        "colab_type": "text"
      },
      "cell_type": "markdown",
      "source": [
        "### Train the data with LSTM RNN"
      ]
    },
    {
      "metadata": {
        "id": "EniIroPva5UV",
        "colab_type": "code",
        "outputId": "414203c7-be62-46af-8891-b50becd06973",
        "colab": {
          "base_uri": "https://localhost:8080/",
          "height": 462
        }
      },
      "cell_type": "code",
      "source": [
        "modelLSTM1.fit(sequences_matrix1,Y1_train,batch_size=128,epochs=10,\n",
        "          validation_split=0.2)"
      ],
      "execution_count": 0,
      "outputs": [
        {
          "output_type": "stream",
          "text": [
            "WARNING:tensorflow:From /usr/local/lib/python3.6/dist-packages/tensorflow/python/ops/math_ops.py:3066: to_int32 (from tensorflow.python.ops.math_ops) is deprecated and will be removed in a future version.\n",
            "Instructions for updating:\n",
            "Use tf.cast instead.\n",
            "Train on 680 samples, validate on 171 samples\n",
            "Epoch 1/10\n",
            "680/680 [==============================] - 3s 5ms/step - loss: 0.6872 - acc: 0.6309 - val_loss: 0.6505 - val_acc: 0.8129\n",
            "Epoch 2/10\n",
            "680/680 [==============================] - 0s 709us/step - loss: 0.6997 - acc: 0.4794 - val_loss: 0.6348 - val_acc: 0.7953\n",
            "Epoch 3/10\n",
            "680/680 [==============================] - 1s 839us/step - loss: 0.6106 - acc: 0.7618 - val_loss: 0.5391 - val_acc: 0.8187\n",
            "Epoch 4/10\n",
            "680/680 [==============================] - 1s 821us/step - loss: 0.6272 - acc: 0.6809 - val_loss: 0.5212 - val_acc: 0.8187\n",
            "Epoch 5/10\n",
            "680/680 [==============================] - 1s 850us/step - loss: 0.6142 - acc: 0.6912 - val_loss: 0.5133 - val_acc: 0.8187\n",
            "Epoch 6/10\n",
            "680/680 [==============================] - 1s 854us/step - loss: 0.5390 - acc: 0.7765 - val_loss: 0.9914 - val_acc: 0.2749\n",
            "Epoch 7/10\n",
            "680/680 [==============================] - 1s 830us/step - loss: 0.6352 - acc: 0.6662 - val_loss: 0.5021 - val_acc: 0.8187\n",
            "Epoch 8/10\n",
            "680/680 [==============================] - 1s 826us/step - loss: 0.6053 - acc: 0.6838 - val_loss: 0.5007 - val_acc: 0.8187\n",
            "Epoch 9/10\n",
            "680/680 [==============================] - 1s 813us/step - loss: 0.5314 - acc: 0.7618 - val_loss: 0.5110 - val_acc: 0.8187\n",
            "Epoch 10/10\n",
            "680/680 [==============================] - 1s 830us/step - loss: 0.5094 - acc: 0.7765 - val_loss: 0.4876 - val_acc: 0.8187\n"
          ],
          "name": "stdout"
        },
        {
          "output_type": "execute_result",
          "data": {
            "text/plain": [
              "<keras.callbacks.History at 0x7f447b2a9e80>"
            ]
          },
          "metadata": {
            "tags": []
          },
          "execution_count": 15
        }
      ]
    },
    {
      "metadata": {
        "id": "BDwaryPn0_EO",
        "colab_type": "code",
        "outputId": "fe92b6bf-a2ba-4efe-e20e-8d9b8cdefa04",
        "colab": {
          "base_uri": "https://localhost:8080/",
          "height": 411
        }
      },
      "cell_type": "code",
      "source": [
        "modelLSTM2.fit(sequences_matrix2,Y2_train,batch_size=128,epochs=10,\n",
        "          validation_split=0.2)"
      ],
      "execution_count": 0,
      "outputs": [
        {
          "output_type": "stream",
          "text": [
            "Train on 680 samples, validate on 171 samples\n",
            "Epoch 1/10\n",
            "680/680 [==============================] - 1s 1ms/step - loss: 0.6890 - acc: 0.4279 - val_loss: 0.6835 - val_acc: 0.8480\n",
            "Epoch 2/10\n",
            "680/680 [==============================] - 1s 836us/step - loss: 0.6445 - acc: 0.7485 - val_loss: 0.5724 - val_acc: 0.9123\n",
            "Epoch 3/10\n",
            "680/680 [==============================] - 1s 830us/step - loss: 0.5497 - acc: 0.8882 - val_loss: 0.4758 - val_acc: 0.9123\n",
            "Epoch 4/10\n",
            "680/680 [==============================] - 1s 847us/step - loss: 0.4625 - acc: 0.8882 - val_loss: 0.4000 - val_acc: 0.9123\n",
            "Epoch 5/10\n",
            "680/680 [==============================] - 1s 839us/step - loss: 0.4050 - acc: 0.8882 - val_loss: 0.3464 - val_acc: 0.9123\n",
            "Epoch 6/10\n",
            "680/680 [==============================] - 1s 861us/step - loss: 0.3702 - acc: 0.8882 - val_loss: 0.3204 - val_acc: 0.9123\n",
            "Epoch 7/10\n",
            "680/680 [==============================] - 1s 870us/step - loss: 0.3563 - acc: 0.8882 - val_loss: 0.3103 - val_acc: 0.9123\n",
            "Epoch 8/10\n",
            "680/680 [==============================] - 1s 814us/step - loss: 0.3516 - acc: 0.8882 - val_loss: 0.3022 - val_acc: 0.9123\n",
            "Epoch 9/10\n",
            "680/680 [==============================] - 1s 857us/step - loss: 0.3494 - acc: 0.8882 - val_loss: 0.3006 - val_acc: 0.9123\n",
            "Epoch 10/10\n",
            "680/680 [==============================] - 1s 822us/step - loss: 0.3485 - acc: 0.8882 - val_loss: 0.3045 - val_acc: 0.9123\n"
          ],
          "name": "stdout"
        },
        {
          "output_type": "execute_result",
          "data": {
            "text/plain": [
              "<keras.callbacks.History at 0x7f44736153c8>"
            ]
          },
          "metadata": {
            "tags": []
          },
          "execution_count": 16
        }
      ]
    },
    {
      "metadata": {
        "id": "6PPg4-a11KPR",
        "colab_type": "code",
        "outputId": "47bad379-d132-480b-eb29-ea9d1c178312",
        "colab": {
          "base_uri": "https://localhost:8080/",
          "height": 411
        }
      },
      "cell_type": "code",
      "source": [
        "modelLSTM3.fit(sequences_matrix3,Y3_train,batch_size=128,epochs=10,\n",
        "          validation_split=0.2)"
      ],
      "execution_count": 0,
      "outputs": [
        {
          "output_type": "stream",
          "text": [
            "Train on 680 samples, validate on 171 samples\n",
            "Epoch 1/10\n",
            "680/680 [==============================] - 1s 1ms/step - loss: 0.7152 - acc: 0.3044 - val_loss: 0.6212 - val_acc: 0.9883\n",
            "Epoch 2/10\n",
            "680/680 [==============================] - 1s 805us/step - loss: 0.6605 - acc: 0.7926 - val_loss: 0.7322 - val_acc: 0.0175\n",
            "Epoch 3/10\n",
            "680/680 [==============================] - 1s 845us/step - loss: 0.7274 - acc: 0.1515 - val_loss: 0.6109 - val_acc: 0.9883\n",
            "Epoch 4/10\n",
            "680/680 [==============================] - 1s 819us/step - loss: 0.6523 - acc: 0.7397 - val_loss: 0.5734 - val_acc: 0.9883\n",
            "Epoch 5/10\n",
            "680/680 [==============================] - 1s 834us/step - loss: 0.6426 - acc: 0.6191 - val_loss: 0.5747 - val_acc: 0.9883\n",
            "Epoch 6/10\n",
            "680/680 [==============================] - 1s 841us/step - loss: 0.5580 - acc: 0.9779 - val_loss: 0.4976 - val_acc: 0.9883\n",
            "Epoch 7/10\n",
            "680/680 [==============================] - 1s 824us/step - loss: 0.4611 - acc: 0.9779 - val_loss: 0.4585 - val_acc: 0.9883\n",
            "Epoch 8/10\n",
            "680/680 [==============================] - 1s 853us/step - loss: 0.3759 - acc: 0.9779 - val_loss: 0.3023 - val_acc: 0.9883\n",
            "Epoch 9/10\n",
            "680/680 [==============================] - 1s 817us/step - loss: 0.2846 - acc: 0.9779 - val_loss: 0.2355 - val_acc: 0.9883\n",
            "Epoch 10/10\n",
            "680/680 [==============================] - 1s 846us/step - loss: 0.2284 - acc: 0.9779 - val_loss: 0.1852 - val_acc: 0.9883\n"
          ],
          "name": "stdout"
        },
        {
          "output_type": "execute_result",
          "data": {
            "text/plain": [
              "<keras.callbacks.History at 0x7f44729c9c88>"
            ]
          },
          "metadata": {
            "tags": []
          },
          "execution_count": 17
        }
      ]
    },
    {
      "metadata": {
        "colab_type": "text",
        "id": "x-UCczAxvKPF"
      },
      "cell_type": "markdown",
      "source": [
        "### Train the data with GRU RNN"
      ]
    },
    {
      "metadata": {
        "colab_type": "code",
        "outputId": "414203c7-be62-46af-8891-b50becd06973",
        "id": "AK2WDNd_vKPH",
        "colab": {
          "base_uri": "https://localhost:8080/",
          "height": 462
        }
      },
      "cell_type": "code",
      "source": [
        "modelGRU1.fit(sequences_matrix1,Y1_train,batch_size=128,epochs=10,\n",
        "          validation_split=0.2)"
      ],
      "execution_count": 0,
      "outputs": [
        {
          "output_type": "stream",
          "text": [
            "WARNING:tensorflow:From /usr/local/lib/python3.6/dist-packages/tensorflow/python/ops/math_ops.py:3066: to_int32 (from tensorflow.python.ops.math_ops) is deprecated and will be removed in a future version.\n",
            "Instructions for updating:\n",
            "Use tf.cast instead.\n",
            "Train on 680 samples, validate on 171 samples\n",
            "Epoch 1/10\n",
            "680/680 [==============================] - 3s 5ms/step - loss: 0.6872 - acc: 0.6309 - val_loss: 0.6505 - val_acc: 0.8129\n",
            "Epoch 2/10\n",
            "680/680 [==============================] - 0s 709us/step - loss: 0.6997 - acc: 0.4794 - val_loss: 0.6348 - val_acc: 0.7953\n",
            "Epoch 3/10\n",
            "680/680 [==============================] - 1s 839us/step - loss: 0.6106 - acc: 0.7618 - val_loss: 0.5391 - val_acc: 0.8187\n",
            "Epoch 4/10\n",
            "680/680 [==============================] - 1s 821us/step - loss: 0.6272 - acc: 0.6809 - val_loss: 0.5212 - val_acc: 0.8187\n",
            "Epoch 5/10\n",
            "680/680 [==============================] - 1s 850us/step - loss: 0.6142 - acc: 0.6912 - val_loss: 0.5133 - val_acc: 0.8187\n",
            "Epoch 6/10\n",
            "680/680 [==============================] - 1s 854us/step - loss: 0.5390 - acc: 0.7765 - val_loss: 0.9914 - val_acc: 0.2749\n",
            "Epoch 7/10\n",
            "680/680 [==============================] - 1s 830us/step - loss: 0.6352 - acc: 0.6662 - val_loss: 0.5021 - val_acc: 0.8187\n",
            "Epoch 8/10\n",
            "680/680 [==============================] - 1s 826us/step - loss: 0.6053 - acc: 0.6838 - val_loss: 0.5007 - val_acc: 0.8187\n",
            "Epoch 9/10\n",
            "680/680 [==============================] - 1s 813us/step - loss: 0.5314 - acc: 0.7618 - val_loss: 0.5110 - val_acc: 0.8187\n",
            "Epoch 10/10\n",
            "680/680 [==============================] - 1s 830us/step - loss: 0.5094 - acc: 0.7765 - val_loss: 0.4876 - val_acc: 0.8187\n"
          ],
          "name": "stdout"
        },
        {
          "output_type": "execute_result",
          "data": {
            "text/plain": [
              "<keras.callbacks.History at 0x7f447b2a9e80>"
            ]
          },
          "metadata": {
            "tags": []
          },
          "execution_count": 15
        }
      ]
    },
    {
      "metadata": {
        "colab_type": "code",
        "outputId": "fe92b6bf-a2ba-4efe-e20e-8d9b8cdefa04",
        "id": "Y1-sq9uFvKPP",
        "colab": {
          "base_uri": "https://localhost:8080/",
          "height": 411
        }
      },
      "cell_type": "code",
      "source": [
        "modelGRU2.fit(sequences_matrix2,Y2_train,batch_size=128,epochs=10,\n",
        "          validation_split=0.2)"
      ],
      "execution_count": 0,
      "outputs": [
        {
          "output_type": "stream",
          "text": [
            "Train on 680 samples, validate on 171 samples\n",
            "Epoch 1/10\n",
            "680/680 [==============================] - 1s 1ms/step - loss: 0.6890 - acc: 0.4279 - val_loss: 0.6835 - val_acc: 0.8480\n",
            "Epoch 2/10\n",
            "680/680 [==============================] - 1s 836us/step - loss: 0.6445 - acc: 0.7485 - val_loss: 0.5724 - val_acc: 0.9123\n",
            "Epoch 3/10\n",
            "680/680 [==============================] - 1s 830us/step - loss: 0.5497 - acc: 0.8882 - val_loss: 0.4758 - val_acc: 0.9123\n",
            "Epoch 4/10\n",
            "680/680 [==============================] - 1s 847us/step - loss: 0.4625 - acc: 0.8882 - val_loss: 0.4000 - val_acc: 0.9123\n",
            "Epoch 5/10\n",
            "680/680 [==============================] - 1s 839us/step - loss: 0.4050 - acc: 0.8882 - val_loss: 0.3464 - val_acc: 0.9123\n",
            "Epoch 6/10\n",
            "680/680 [==============================] - 1s 861us/step - loss: 0.3702 - acc: 0.8882 - val_loss: 0.3204 - val_acc: 0.9123\n",
            "Epoch 7/10\n",
            "680/680 [==============================] - 1s 870us/step - loss: 0.3563 - acc: 0.8882 - val_loss: 0.3103 - val_acc: 0.9123\n",
            "Epoch 8/10\n",
            "680/680 [==============================] - 1s 814us/step - loss: 0.3516 - acc: 0.8882 - val_loss: 0.3022 - val_acc: 0.9123\n",
            "Epoch 9/10\n",
            "680/680 [==============================] - 1s 857us/step - loss: 0.3494 - acc: 0.8882 - val_loss: 0.3006 - val_acc: 0.9123\n",
            "Epoch 10/10\n",
            "680/680 [==============================] - 1s 822us/step - loss: 0.3485 - acc: 0.8882 - val_loss: 0.3045 - val_acc: 0.9123\n"
          ],
          "name": "stdout"
        },
        {
          "output_type": "execute_result",
          "data": {
            "text/plain": [
              "<keras.callbacks.History at 0x7f44736153c8>"
            ]
          },
          "metadata": {
            "tags": []
          },
          "execution_count": 16
        }
      ]
    },
    {
      "metadata": {
        "colab_type": "code",
        "outputId": "47bad379-d132-480b-eb29-ea9d1c178312",
        "id": "nZm1BtfevKPX",
        "colab": {
          "base_uri": "https://localhost:8080/",
          "height": 411
        }
      },
      "cell_type": "code",
      "source": [
        "modelGRU3.fit(sequences_matrix3,Y3_train,batch_size=128,epochs=10,\n",
        "          validation_split=0.2)"
      ],
      "execution_count": 0,
      "outputs": [
        {
          "output_type": "stream",
          "text": [
            "Train on 680 samples, validate on 171 samples\n",
            "Epoch 1/10\n",
            "680/680 [==============================] - 1s 1ms/step - loss: 0.7152 - acc: 0.3044 - val_loss: 0.6212 - val_acc: 0.9883\n",
            "Epoch 2/10\n",
            "680/680 [==============================] - 1s 805us/step - loss: 0.6605 - acc: 0.7926 - val_loss: 0.7322 - val_acc: 0.0175\n",
            "Epoch 3/10\n",
            "680/680 [==============================] - 1s 845us/step - loss: 0.7274 - acc: 0.1515 - val_loss: 0.6109 - val_acc: 0.9883\n",
            "Epoch 4/10\n",
            "680/680 [==============================] - 1s 819us/step - loss: 0.6523 - acc: 0.7397 - val_loss: 0.5734 - val_acc: 0.9883\n",
            "Epoch 5/10\n",
            "680/680 [==============================] - 1s 834us/step - loss: 0.6426 - acc: 0.6191 - val_loss: 0.5747 - val_acc: 0.9883\n",
            "Epoch 6/10\n",
            "680/680 [==============================] - 1s 841us/step - loss: 0.5580 - acc: 0.9779 - val_loss: 0.4976 - val_acc: 0.9883\n",
            "Epoch 7/10\n",
            "680/680 [==============================] - 1s 824us/step - loss: 0.4611 - acc: 0.9779 - val_loss: 0.4585 - val_acc: 0.9883\n",
            "Epoch 8/10\n",
            "680/680 [==============================] - 1s 853us/step - loss: 0.3759 - acc: 0.9779 - val_loss: 0.3023 - val_acc: 0.9883\n",
            "Epoch 9/10\n",
            "680/680 [==============================] - 1s 817us/step - loss: 0.2846 - acc: 0.9779 - val_loss: 0.2355 - val_acc: 0.9883\n",
            "Epoch 10/10\n",
            "680/680 [==============================] - 1s 846us/step - loss: 0.2284 - acc: 0.9779 - val_loss: 0.1852 - val_acc: 0.9883\n"
          ],
          "name": "stdout"
        },
        {
          "output_type": "execute_result",
          "data": {
            "text/plain": [
              "<keras.callbacks.History at 0x7f44729c9c88>"
            ]
          },
          "metadata": {
            "tags": []
          },
          "execution_count": 17
        }
      ]
    },
    {
      "metadata": {
        "id": "-rzSncte1kE5",
        "colab_type": "text"
      },
      "cell_type": "markdown",
      "source": [
        "## Accuracy Data"
      ]
    },
    {
      "metadata": {
        "id": "aPJRMXuH1pAQ",
        "colab_type": "code",
        "colab": {}
      },
      "cell_type": "code",
      "source": [
        "test_sequences = tok.texts_to_sequences(X1_test)\n",
        "test_sequences_matrix1 = sequence.pad_sequences(test_sequences,maxlen=max_len)"
      ],
      "execution_count": 0,
      "outputs": []
    },
    {
      "metadata": {
        "id": "_JPCgPeOLmRu",
        "colab_type": "code",
        "outputId": "40f7aecd-e7a5-4323-9f06-3c7cc7e8cac7",
        "colab": {
          "base_uri": "https://localhost:8080/",
          "height": 136
        }
      },
      "cell_type": "code",
      "source": [
        "test_sequences_matrix1"
      ],
      "execution_count": 0,
      "outputs": [
        {
          "output_type": "execute_result",
          "data": {
            "text/plain": [
              "array([[   0,    0,    0, ...,  152,  693, 1076],\n",
              "       [   0,    0,    0, ...,   18,    4,  221],\n",
              "       [   0,    0,    0, ...,   23,  141,  151],\n",
              "       ...,\n",
              "       [   0,    0,    0, ...,  485,   10,    4],\n",
              "       [   0,    0,    0, ...,  137,   38,   18],\n",
              "       [   0,    0,    0, ...,  248,  196,  179]], dtype=int32)"
            ]
          },
          "metadata": {
            "tags": []
          },
          "execution_count": 19
        }
      ]
    },
    {
      "metadata": {
        "id": "JVOOEv9N10_d",
        "colab_type": "code",
        "colab": {}
      },
      "cell_type": "code",
      "source": [
        "test_sequences = tok.texts_to_sequences(X2_test)\n",
        "test_sequences_matrix2 = sequence.pad_sequences(test_sequences,maxlen=max_len)"
      ],
      "execution_count": 0,
      "outputs": []
    },
    {
      "metadata": {
        "id": "EjUBcJGL10Oe",
        "colab_type": "code",
        "colab": {}
      },
      "cell_type": "code",
      "source": [
        "test_sequences = tok.texts_to_sequences(X3_test)\n",
        "test_sequences_matrix3 = sequence.pad_sequences(test_sequences,maxlen=max_len)"
      ],
      "execution_count": 0,
      "outputs": []
    },
    {
      "metadata": {
        "id": "jkyb5aAR2Fq-",
        "colab_type": "code",
        "colab": {}
      },
      "cell_type": "code",
      "source": [
        "y1_predict = model1.predict_classes(test_sequences_matrix1)\n",
        "y2_predict = model2.predict_classes(test_sequences_matrix2)\n",
        "y3_predict = model3.predict_classes(test_sequences_matrix3)"
      ],
      "execution_count": 0,
      "outputs": []
    },
    {
      "metadata": {
        "id": "-DUGbe84C1A_",
        "colab_type": "code",
        "outputId": "2edb2df3-e291-4362-e406-bd2bbef19d63",
        "colab": {
          "base_uri": "https://localhost:8080/",
          "height": 34
        }
      },
      "cell_type": "code",
      "source": [
        "y1_predict"
      ],
      "execution_count": 0,
      "outputs": [
        {
          "output_type": "execute_result",
          "data": {
            "text/plain": [
              "array([[0]], dtype=int32)"
            ]
          },
          "metadata": {
            "tags": []
          },
          "execution_count": 52
        }
      ]
    },
    {
      "metadata": {
        "id": "nv3SHnIK7M7-",
        "colab_type": "code",
        "colab": {}
      },
      "cell_type": "code",
      "source": [
        "Y_pred = np.zeros((len(y3_predict),3))\n",
        "for i in range(len(Y_pred)):\n",
        "  for j in range(len(Y_pred[i])):\n",
        "    if j == 0:\n",
        "      Y_pred[i][j] = y1_predict[i]\n",
        "    elif j == 1:\n",
        "      Y_pred[i][j] = y2_predict[i]\n",
        "    elif j == 2:\n",
        "      Y_pred[i][j] = y3_predict[i]"
      ],
      "execution_count": 0,
      "outputs": []
    },
    {
      "metadata": {
        "id": "RLCQ9Spz_yu3",
        "colab_type": "code",
        "outputId": "79ff88fe-90a4-4b8f-a836-1a87d819af5f",
        "colab": {
          "base_uri": "https://localhost:8080/",
          "height": 187
        }
      },
      "cell_type": "code",
      "source": [
        "Y_pred[:10]"
      ],
      "execution_count": 0,
      "outputs": [
        {
          "output_type": "execute_result",
          "data": {
            "text/plain": [
              "array([[0., 0., 1.],\n",
              "       [0., 0., 1.],\n",
              "       [0., 0., 1.],\n",
              "       [0., 0., 1.],\n",
              "       [0., 0., 1.],\n",
              "       [0., 0., 1.],\n",
              "       [0., 0., 1.],\n",
              "       [0., 0., 1.],\n",
              "       [0., 0., 1.],\n",
              "       [0., 0., 1.]])"
            ]
          },
          "metadata": {
            "tags": []
          },
          "execution_count": 37
        }
      ]
    },
    {
      "metadata": {
        "id": "xZN-wJEi_VhV",
        "colab_type": "code",
        "colab": {}
      },
      "cell_type": "code",
      "source": [
        "Y_real = np.zeros((len(y3_predict),3))\n",
        "for i in range(len(Y_real)):\n",
        "  for j in range(len(Y_real[i])):\n",
        "    if j == 0:\n",
        "      Y_real[i][j] = Y1_test[i]\n",
        "    elif j == 1:\n",
        "      Y_real[i][j] = Y2_test[i]\n",
        "    elif j == 2:\n",
        "      Y_real[i][j] = Y3_test[i]"
      ],
      "execution_count": 0,
      "outputs": []
    },
    {
      "metadata": {
        "id": "nJSEouMuAOCp",
        "colab_type": "code",
        "outputId": "d461f4b0-3c1c-498e-8448-df0d117a9731",
        "colab": {
          "base_uri": "https://localhost:8080/",
          "height": 187
        }
      },
      "cell_type": "code",
      "source": [
        "Y_real[:10]"
      ],
      "execution_count": 0,
      "outputs": [
        {
          "output_type": "execute_result",
          "data": {
            "text/plain": [
              "array([[0., 0., 1.],\n",
              "       [0., 0., 1.],\n",
              "       [0., 0., 1.],\n",
              "       [1., 1., 1.],\n",
              "       [0., 1., 1.],\n",
              "       [0., 0., 1.],\n",
              "       [0., 1., 1.],\n",
              "       [0., 0., 1.],\n",
              "       [0., 0., 1.],\n",
              "       [0., 0., 1.]])"
            ]
          },
          "metadata": {
            "tags": []
          },
          "execution_count": 37
        }
      ]
    },
    {
      "metadata": {
        "id": "CM4jyHsW-pWO",
        "colab_type": "code",
        "outputId": "c41d3cf3-c0b1-4f03-86a8-172a0033aeb1",
        "colab": {
          "base_uri": "https://localhost:8080/",
          "height": 34
        }
      },
      "cell_type": "code",
      "source": [
        "from sklearn.metrics import hamming_loss\n",
        "hamming_loss(Y_real, Y_pred)"
      ],
      "execution_count": 0,
      "outputs": [
        {
          "output_type": "execute_result",
          "data": {
            "text/plain": [
              "0.09076682316118936"
            ]
          },
          "metadata": {
            "tags": []
          },
          "execution_count": 36
        }
      ]
    }
  ]
}