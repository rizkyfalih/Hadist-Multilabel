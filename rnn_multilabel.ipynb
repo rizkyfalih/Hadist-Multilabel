{
  "nbformat": 4,
  "nbformat_minor": 0,
  "metadata": {
    "colab": {
      "name": "rnn_multilabel.ipynb",
      "version": "0.3.2",
      "provenance": [],
      "collapsed_sections": [],
      "toc_visible": true
    },
    "kernelspec": {
      "name": "python3",
      "display_name": "Python 3"
    },
    "accelerator": "GPU"
  },
  "cells": [
    {
      "metadata": {
        "id": "9twKZcKWqZmC",
        "colab_type": "text"
      },
      "cell_type": "markdown",
      "source": [
        "# Hadist Multilabel RNN"
      ]
    },
    {
      "metadata": {
        "id": "zcx-vv1yOAah",
        "colab_type": "text"
      },
      "cell_type": "markdown",
      "source": [
        "## Import the libraries"
      ]
    },
    {
      "metadata": {
        "id": "nfpFCE9eLzaz",
        "colab_type": "code",
        "outputId": "77a221d9-1c30-43db-823d-86982835adba",
        "colab": {
          "base_uri": "https://localhost:8080/",
          "height": 34
        }
      },
      "cell_type": "code",
      "source": [
        "import pandas as pd\n",
        "import numpy as np\n",
        "import matplotlib.pyplot as plt\n",
        "import seaborn as sns\n",
        "from sklearn.model_selection import train_test_split\n",
        "from sklearn.preprocessing import LabelEncoder\n",
        "from keras.models import Model\n",
        "from keras.layers import LSTM, Activation, Dense, Dropout, Input, Embedding, GRU,SimpleRNN\n",
        "from keras.optimizers import RMSprop\n",
        "from keras.preprocessing.text import Tokenizer\n",
        "from keras.preprocessing import sequence\n",
        "from keras.utils import to_categorical\n",
        "from keras.callbacks import EarlyStopping\n",
        "%matplotlib inline"
      ],
      "execution_count": 1,
      "outputs": [
        {
          "output_type": "stream",
          "text": [
            "Using TensorFlow backend.\n"
          ],
          "name": "stderr"
        }
      ]
    },
    {
      "metadata": {
        "id": "82qVDgbtsYru",
        "colab_type": "text"
      },
      "cell_type": "markdown",
      "source": [
        "## Processing the data"
      ]
    },
    {
      "metadata": {
        "id": "C32ZQzpcObXE",
        "colab_type": "code",
        "outputId": "3ea35889-1fdd-4dc9-bf42-de2b9c1853cd",
        "colab": {
          "base_uri": "https://localhost:8080/",
          "height": 359
        }
      },
      "cell_type": "code",
      "source": [
        "# reading data\n",
        "df = pd.read_excel('Multilabel.xlsx')\n",
        "df[:10]"
      ],
      "execution_count": 2,
      "outputs": [
        {
          "output_type": "execute_result",
          "data": {
            "text/html": [
              "<div>\n",
              "<style scoped>\n",
              "    .dataframe tbody tr th:only-of-type {\n",
              "        vertical-align: middle;\n",
              "    }\n",
              "\n",
              "    .dataframe tbody tr th {\n",
              "        vertical-align: top;\n",
              "    }\n",
              "\n",
              "    .dataframe thead th {\n",
              "        text-align: right;\n",
              "    }\n",
              "</style>\n",
              "<table border=\"1\" class=\"dataframe\">\n",
              "  <thead>\n",
              "    <tr style=\"text-align: right;\">\n",
              "      <th></th>\n",
              "      <th>Data</th>\n",
              "      <th>Anjuran</th>\n",
              "      <th>Larangan</th>\n",
              "      <th>Informasi</th>\n",
              "      <th>Bab Kitab</th>\n",
              "    </tr>\n",
              "  </thead>\n",
              "  <tbody>\n",
              "    <tr>\n",
              "      <th>0</th>\n",
              "      <td>Semua perbuatan tergantung niatnya, dan (balas...</td>\n",
              "      <td>0</td>\n",
              "      <td>0</td>\n",
              "      <td>1</td>\n",
              "      <td>1</td>\n",
              "    </tr>\n",
              "    <tr>\n",
              "      <th>1</th>\n",
              "      <td>Terkadang datang kepadaku seperti suara gemeri...</td>\n",
              "      <td>0</td>\n",
              "      <td>0</td>\n",
              "      <td>1</td>\n",
              "      <td>1</td>\n",
              "    </tr>\n",
              "    <tr>\n",
              "      <th>2</th>\n",
              "      <td>Bacalah? Beliau menjawab: Aku tidak bisa baca....</td>\n",
              "      <td>0</td>\n",
              "      <td>0</td>\n",
              "      <td>1</td>\n",
              "      <td>1</td>\n",
              "    </tr>\n",
              "    <tr>\n",
              "      <th>3</th>\n",
              "      <td>sangat kuat keinginannya untuk menghafalkan ap...</td>\n",
              "      <td>0</td>\n",
              "      <td>1</td>\n",
              "      <td>1</td>\n",
              "      <td>1</td>\n",
              "    </tr>\n",
              "    <tr>\n",
              "      <th>4</th>\n",
              "      <td>manusia yang paling lembut terutama pada bulan...</td>\n",
              "      <td>0</td>\n",
              "      <td>0</td>\n",
              "      <td>1</td>\n",
              "      <td>1</td>\n",
              "    </tr>\n",
              "    <tr>\n",
              "      <th>5</th>\n",
              "      <td>Dari Muhammad, hamba Allah dan Rasul-Nya untuk...</td>\n",
              "      <td>1</td>\n",
              "      <td>1</td>\n",
              "      <td>1</td>\n",
              "      <td>1</td>\n",
              "    </tr>\n",
              "    <tr>\n",
              "      <th>6</th>\n",
              "      <td>Islam dibangun diatas lima (landasan); persaks...</td>\n",
              "      <td>0</td>\n",
              "      <td>0</td>\n",
              "      <td>1</td>\n",
              "      <td>2</td>\n",
              "    </tr>\n",
              "    <tr>\n",
              "      <th>7</th>\n",
              "      <td>Iman memiliki lebih dari enam puluh cabang, da...</td>\n",
              "      <td>0</td>\n",
              "      <td>0</td>\n",
              "      <td>1</td>\n",
              "      <td>2</td>\n",
              "    </tr>\n",
              "    <tr>\n",
              "      <th>8</th>\n",
              "      <td>Seorang muslim adalah orang yang Kaum Muslimin...</td>\n",
              "      <td>0</td>\n",
              "      <td>1</td>\n",
              "      <td>1</td>\n",
              "      <td>2</td>\n",
              "    </tr>\n",
              "    <tr>\n",
              "      <th>9</th>\n",
              "      <td>Siapa yang Kaum Muslimin selamat dari lisan da...</td>\n",
              "      <td>0</td>\n",
              "      <td>0</td>\n",
              "      <td>1</td>\n",
              "      <td>2</td>\n",
              "    </tr>\n",
              "  </tbody>\n",
              "</table>\n",
              "</div>"
            ],
            "text/plain": [
              "                                                Data  Anjuran  Larangan  \\\n",
              "0  Semua perbuatan tergantung niatnya, dan (balas...        0         0   \n",
              "1  Terkadang datang kepadaku seperti suara gemeri...        0         0   \n",
              "2  Bacalah? Beliau menjawab: Aku tidak bisa baca....        0         0   \n",
              "3  sangat kuat keinginannya untuk menghafalkan ap...        0         1   \n",
              "4  manusia yang paling lembut terutama pada bulan...        0         0   \n",
              "5  Dari Muhammad, hamba Allah dan Rasul-Nya untuk...        1         1   \n",
              "6  Islam dibangun diatas lima (landasan); persaks...        0         0   \n",
              "7  Iman memiliki lebih dari enam puluh cabang, da...        0         0   \n",
              "8  Seorang muslim adalah orang yang Kaum Muslimin...        0         1   \n",
              "9  Siapa yang Kaum Muslimin selamat dari lisan da...        0         0   \n",
              "\n",
              "   Informasi  Bab Kitab  \n",
              "0          1          1  \n",
              "1          1          1  \n",
              "2          1          1  \n",
              "3          1          1  \n",
              "4          1          1  \n",
              "5          1          1  \n",
              "6          1          2  \n",
              "7          1          2  \n",
              "8          1          2  \n",
              "9          1          2  "
            ]
          },
          "metadata": {
            "tags": []
          },
          "execution_count": 2
        }
      ]
    },
    {
      "metadata": {
        "id": "1xmTFY52VOqW",
        "colab_type": "code",
        "outputId": "adef5030-646c-44c1-a0d2-0cf56d188b8a",
        "colab": {
          "base_uri": "https://localhost:8080/",
          "height": 187
        }
      },
      "cell_type": "code",
      "source": [
        "df.info()"
      ],
      "execution_count": 3,
      "outputs": [
        {
          "output_type": "stream",
          "text": [
            "<class 'pandas.core.frame.DataFrame'>\n",
            "RangeIndex: 1064 entries, 0 to 1063\n",
            "Data columns (total 5 columns):\n",
            "Data         1064 non-null object\n",
            "Anjuran      1064 non-null int64\n",
            "Larangan     1064 non-null int64\n",
            "Informasi    1064 non-null int64\n",
            "Bab Kitab    1064 non-null int64\n",
            "dtypes: int64(4), object(1)\n",
            "memory usage: 41.6+ KB\n"
          ],
          "name": "stdout"
        }
      ]
    },
    {
      "metadata": {
        "id": "jMtNxA0wXcTV",
        "colab_type": "code",
        "outputId": "8a028dc9-d2d3-407a-fd4b-cf2af8792240",
        "colab": {
          "base_uri": "https://localhost:8080/",
          "height": 365
        }
      },
      "cell_type": "code",
      "source": [
        "sns.countplot(df.Larangan)\n",
        "plt.xlabel('Label')\n",
        "plt.title('Number of false and true anjuran information')"
      ],
      "execution_count": 4,
      "outputs": [
        {
          "output_type": "stream",
          "text": [
            "/usr/local/lib/python3.6/dist-packages/seaborn/categorical.py:1428: FutureWarning: remove_na is deprecated and is a private function. Do not use.\n",
            "  stat_data = remove_na(group_data)\n"
          ],
          "name": "stderr"
        },
        {
          "output_type": "execute_result",
          "data": {
            "text/plain": [
              "Text(0.5, 1.0, 'Number of false and true anjuran information')"
            ]
          },
          "metadata": {
            "tags": []
          },
          "execution_count": 4
        },
        {
          "output_type": "display_data",
          "data": {
            "image/png": "[encoded data removed]",
            "text/plain": [
              "<Figure size 432x288 with 1 Axes>"
            ]
          },
          "metadata": {
            "tags": []
          }
        }
      ]
    },
    {
      "metadata": {
        "id": "mmuc12QMs2MX",
        "colab_type": "text"
      },
      "cell_type": "markdown",
      "source": [
        "### Initialize the data\n"
      ]
    },
    {
      "metadata": {
        "id": "n-lZJ6pgU5M9",
        "colab_type": "code",
        "colab": {}
      },
      "cell_type": "code",
      "source": [
        "X = df.Data.str.lower()\n",
        "Y1 = df.Anjuran\n",
        "Y2 = df.Larangan\n",
        "Y3 = df.Informasi\n",
        "le = LabelEncoder()\n",
        "\n",
        "# Y1 = le.fit_transform(Y1)\n",
        "# Y1 = Y1.reshape(-1,1)\n",
        "Y1 = Y1.values.reshape([-1,1])\n",
        "\n",
        "# Y2 = le.fit_transform(Y2)\n",
        "# Y2 = Y2.reshape(-1,1)\n",
        "Y2 = Y2.values.reshape([-1,1])\n",
        "\n",
        "# Y3 = le.fit_transform(Y3)\n",
        "# Y3 = Y3.reshape(-1,1)\n",
        "Y3 = Y3.values.reshape([-1,1])"
      ],
      "execution_count": 0,
      "outputs": []
    },
    {
      "metadata": {
        "id": "c78cz19btFvA",
        "colab_type": "text"
      },
      "cell_type": "markdown",
      "source": [
        "### Split the data"
      ]
    },
    {
      "metadata": {
        "id": "O0HMpSV1WK_m",
        "colab_type": "code",
        "colab": {}
      },
      "cell_type": "code",
      "source": [
        "X1_train,X1_test,Y1_train,Y1_test = train_test_split(X,Y1,test_size=0.20,shuffle=False)\n",
        "X2_train,X2_test,Y2_train,Y2_test = train_test_split(X,Y2,test_size=0.20,shuffle=False)\n",
        "X3_train,X3_test,Y3_train,Y3_test = train_test_split(X,Y3,test_size=0.20,shuffle=False)"
      ],
      "execution_count": 0,
      "outputs": []
    },
    {
      "metadata": {
        "id": "Yyg9N4_nwaRO",
        "colab_type": "text"
      },
      "cell_type": "markdown",
      "source": [
        "### Preprocess data"
      ]
    },
    {
      "metadata": {
        "id": "hNi_qeqSz1TO",
        "colab_type": "text"
      },
      "cell_type": "markdown",
      "source": [
        "#### Without preprocess data"
      ]
    },
    {
      "metadata": {
        "id": "3xNUHPOnatMg",
        "colab_type": "code",
        "colab": {}
      },
      "cell_type": "code",
      "source": [
        "# Ajuran\n",
        "max_words = 5000\n",
        "max_len = 100\n",
        "tok = Tokenizer(num_words=max_words)\n",
        "tok.fit_on_texts(X1_train)\n",
        "sequences = tok.texts_to_sequences(X1_train)\n",
        "sequences_matrix1 = sequence.pad_sequences(sequences,maxlen=max_len)"
      ],
      "execution_count": 0,
      "outputs": []
    },
    {
      "metadata": {
        "id": "AitMM9cFza1A",
        "colab_type": "code",
        "colab": {}
      },
      "cell_type": "code",
      "source": [
        "# larangan\n",
        "max_words = 5000\n",
        "max_len = 100\n",
        "tok = Tokenizer(num_words=max_words)\n",
        "tok.fit_on_texts(X2_train)\n",
        "sequences = tok.texts_to_sequences(X2_train)\n",
        "sequences_matrix2 = sequence.pad_sequences(sequences,maxlen=max_len)"
      ],
      "execution_count": 0,
      "outputs": []
    },
    {
      "metadata": {
        "id": "IYJq6_bnzbb5",
        "colab_type": "code",
        "colab": {}
      },
      "cell_type": "code",
      "source": [
        "# Informasi\n",
        "max_words = 5000\n",
        "max_len = 100\n",
        "tok = Tokenizer(num_words=max_words)\n",
        "tok.fit_on_texts(X3_train)\n",
        "sequences = tok.texts_to_sequences(X3_train)\n",
        "sequences_matrix3 = sequence.pad_sequences(sequences,maxlen=max_len)"
      ],
      "execution_count": 0,
      "outputs": []
    },
    {
      "metadata": {
        "id": "a-MWAHZw1K8a",
        "colab_type": "code",
        "outputId": "c49a2c2d-bb5a-4886-f46b-e1582e252f73",
        "colab": {
          "base_uri": "https://localhost:8080/",
          "height": 187
        }
      },
      "cell_type": "code",
      "source": [
        "sequences_matrix3[1]"
      ],
      "execution_count": 10,
      "outputs": [
        {
          "output_type": "execute_result",
          "data": {
            "text/plain": [
              "array([   0,    0,    0,    0,    0,    0,    0,    0,    0,    0,    0,\n",
              "          0,    0,    0,    0,    0,    0,    0,    0,    0,    0,    0,\n",
              "          0,    0,    0,    0,    0,    0,    0,    0,    0,    0,    0,\n",
              "          0,    0,  543,   81,  111,   47,  259, 2424, 2425,    1,  272,\n",
              "         32,    2,  195,  654,  655,   10, 1311,  154,    3,  126,  929,\n",
              "         48,    2,  930,    1,  543,   81,  188, 1700,   40,   59,   59,\n",
              "         10,  498,  111,    7,    3, 1701,   48,    2, 1312,  499,   11,\n",
              "        100,    3,   49,   53, 2426,  597,   17,    5,   25,  120,   68,\n",
              "          2,  260,  598,   10, 1311,    1,    3,  376, 1313,    5, 2427,\n",
              "        931], dtype=int32)"
            ]
          },
          "metadata": {
            "tags": []
          },
          "execution_count": 10
        }
      ]
    },
    {
      "metadata": {
        "id": "7E5ubKI8zQP_",
        "colab_type": "text"
      },
      "cell_type": "markdown",
      "source": [
        "## Build RNN"
      ]
    },
    {
      "metadata": {
        "colab_type": "text",
        "id": "uyuk38AbseKP"
      },
      "cell_type": "markdown",
      "source": [
        "### Simple RNN"
      ]
    },
    {
      "metadata": {
        "colab_type": "code",
        "id": "qIqVrtOMseKU",
        "colab": {}
      },
      "cell_type": "code",
      "source": [
        "from keras.models import Sequential\n",
        "def simpleRNN():\n",
        "    model = Sequential()\n",
        "    model.add(Embedding(max_words, 50, input_length=max_len))\n",
        "    model.add(SimpleRNN(64, init='uniform'))\n",
        "    model.add(Dense(1, init='uniform', activation='sigmoid'))\n",
        "    model.compile(loss='binary_crossentropy', optimizer='rmsprop', metrics=['accuracy'])\n",
        "#     inputs = Input(name='inputs',shape=[max_len])\n",
        "#     layer = Embedding(max_words,50,input_length=max_len)(inputs)\n",
        "#     layer = GRU(64)(layer)\n",
        "#     layer = Dense(256,name='FC1')(layer)\n",
        "#     layer = Activation('relu')(layer)\n",
        "#     layer = Dropout(0.5)(layer)\n",
        "#     layer = Dense(1,name='out_layer')(layer)\n",
        "#     layer = Activation('sigmoid')(layer)\n",
        "#     model = Model(inputs=inputs,outputs=layer)\n",
        "    return model"
      ],
      "execution_count": 0,
      "outputs": []
    },
    {
      "metadata": {
        "colab_type": "code",
        "outputId": "137aa623-9450-4db3-dd00-0ee8009148d9",
        "id": "6lEfmDzyseKi",
        "colab": {
          "base_uri": "https://localhost:8080/",
          "height": 377
        }
      },
      "cell_type": "code",
      "source": [
        "modelSimple1 = simpleRNN()\n",
        "modelSimple1.summary()\n",
        "# model1.compile(loss='binary_crossentropy',optimizer=RMSprop(),metrics=['accuracy'])"
      ],
      "execution_count": 12,
      "outputs": [
        {
          "output_type": "stream",
          "text": [
            "WARNING:tensorflow:From /usr/local/lib/python3.6/dist-packages/tensorflow/python/framework/op_def_library.py:263: colocate_with (from tensorflow.python.framework.ops) is deprecated and will be removed in a future version.\n",
            "Instructions for updating:\n",
            "Colocations handled automatically by placer.\n",
            "_________________________________________________________________\n",
            "Layer (type)                 Output Shape              Param #   \n",
            "=================================================================\n",
            "embedding_1 (Embedding)      (None, 100, 50)           250000    \n",
            "_________________________________________________________________\n",
            "simple_rnn_1 (SimpleRNN)     (None, 64)                7360      \n",
            "_________________________________________________________________\n",
            "dense_1 (Dense)              (None, 1)                 65        \n",
            "=================================================================\n",
            "Total params: 257,425\n",
            "Trainable params: 257,425\n",
            "Non-trainable params: 0\n",
            "_________________________________________________________________\n"
          ],
          "name": "stdout"
        },
        {
          "output_type": "stream",
          "text": [
            "/usr/local/lib/python3.6/dist-packages/ipykernel_launcher.py:5: UserWarning: Update your `SimpleRNN` call to the Keras 2 API: `SimpleRNN(64, kernel_initializer=\"uniform\")`\n",
            "  \"\"\"\n",
            "/usr/local/lib/python3.6/dist-packages/ipykernel_launcher.py:6: UserWarning: Update your `Dense` call to the Keras 2 API: `Dense(1, activation=\"sigmoid\", kernel_initializer=\"uniform\")`\n",
            "  \n"
          ],
          "name": "stderr"
        }
      ]
    },
    {
      "metadata": {
        "colab_type": "code",
        "outputId": "a130660d-d921-445a-be90-0764a98f3e9d",
        "id": "OX4hRPbvseKv",
        "colab": {
          "base_uri": "https://localhost:8080/",
          "height": 326
        }
      },
      "cell_type": "code",
      "source": [
        "modelSimple2 = simpleRNN()\n",
        "modelSimple2.summary()\n",
        "# model2.compile(loss='binary_crossentropy',optimizer=RMSprop(),metrics=['accuracy'])"
      ],
      "execution_count": 13,
      "outputs": [
        {
          "output_type": "stream",
          "text": [
            "/usr/local/lib/python3.6/dist-packages/ipykernel_launcher.py:5: UserWarning: Update your `SimpleRNN` call to the Keras 2 API: `SimpleRNN(64, kernel_initializer=\"uniform\")`\n",
            "  \"\"\"\n",
            "/usr/local/lib/python3.6/dist-packages/ipykernel_launcher.py:6: UserWarning: Update your `Dense` call to the Keras 2 API: `Dense(1, activation=\"sigmoid\", kernel_initializer=\"uniform\")`\n",
            "  \n"
          ],
          "name": "stderr"
        },
        {
          "output_type": "stream",
          "text": [
            "_________________________________________________________________\n",
            "Layer (type)                 Output Shape              Param #   \n",
            "=================================================================\n",
            "embedding_2 (Embedding)      (None, 100, 50)           250000    \n",
            "_________________________________________________________________\n",
            "simple_rnn_2 (SimpleRNN)     (None, 64)                7360      \n",
            "_________________________________________________________________\n",
            "dense_2 (Dense)              (None, 1)                 65        \n",
            "=================================================================\n",
            "Total params: 257,425\n",
            "Trainable params: 257,425\n",
            "Non-trainable params: 0\n",
            "_________________________________________________________________\n"
          ],
          "name": "stdout"
        }
      ]
    },
    {
      "metadata": {
        "colab_type": "code",
        "outputId": "27a0b6e7-cf0f-4956-f8c8-b501042bf2e9",
        "id": "B-S7231mseK5",
        "colab": {
          "base_uri": "https://localhost:8080/",
          "height": 326
        }
      },
      "cell_type": "code",
      "source": [
        "modelSimple3 = simpleRNN()\n",
        "modelSimple3.summary()\n",
        "# model3.compile(loss='binary_crossentropy',optimizer=RMSprop(),metrics=['accuracy'])"
      ],
      "execution_count": 14,
      "outputs": [
        {
          "output_type": "stream",
          "text": [
            "_________________________________________________________________\n",
            "Layer (type)                 Output Shape              Param #   \n",
            "=================================================================\n",
            "embedding_3 (Embedding)      (None, 100, 50)           250000    \n",
            "_________________________________________________________________\n",
            "simple_rnn_3 (SimpleRNN)     (None, 64)                7360      \n",
            "_________________________________________________________________\n",
            "dense_3 (Dense)              (None, 1)                 65        \n",
            "=================================================================\n",
            "Total params: 257,425\n",
            "Trainable params: 257,425\n",
            "Non-trainable params: 0\n",
            "_________________________________________________________________\n"
          ],
          "name": "stdout"
        },
        {
          "output_type": "stream",
          "text": [
            "/usr/local/lib/python3.6/dist-packages/ipykernel_launcher.py:5: UserWarning: Update your `SimpleRNN` call to the Keras 2 API: `SimpleRNN(64, kernel_initializer=\"uniform\")`\n",
            "  \"\"\"\n",
            "/usr/local/lib/python3.6/dist-packages/ipykernel_launcher.py:6: UserWarning: Update your `Dense` call to the Keras 2 API: `Dense(1, activation=\"sigmoid\", kernel_initializer=\"uniform\")`\n",
            "  \n"
          ],
          "name": "stderr"
        }
      ]
    },
    {
      "metadata": {
        "id": "fHyvqK57sE2T",
        "colab_type": "text"
      },
      "cell_type": "markdown",
      "source": [
        "### LSTM RNN"
      ]
    },
    {
      "metadata": {
        "id": "zhxiHKIwazKH",
        "colab_type": "code",
        "colab": {}
      },
      "cell_type": "code",
      "source": [
        "from keras.models import Sequential\n",
        "def lstmRNN():\n",
        "    model = Sequential()\n",
        "    model.add(Embedding(max_words, 50, input_length=max_len))\n",
        "    model.add(LSTM(64, init='uniform'))\n",
        "    model.add(Dense(1, init='uniform', activation='sigmoid'))\n",
        "    model.compile(loss='binary_crossentropy', optimizer='rmsprop', metrics=['accuracy'])\n",
        "#     inputs = Input(name='inputs',shape=[max_len])\n",
        "#     layer = Embedding(max_words,50,input_length=max_len)(inputs)\n",
        "#     layer = GRU(64)(layer)\n",
        "#     layer = Dense(256,name='FC1')(layer)\n",
        "#     layer = Activation('relu')(layer)\n",
        "#     layer = Dropout(0.5)(layer)\n",
        "#     layer = Dense(1,name='out_layer')(layer)\n",
        "#     layer = Activation('sigmoid')(layer)\n",
        "#     model = Model(inputs=inputs,outputs=layer)\n",
        "    return model"
      ],
      "execution_count": 0,
      "outputs": []
    },
    {
      "metadata": {
        "id": "GwmVOb0-a2Nw",
        "colab_type": "code",
        "outputId": "5bf01297-92f6-4244-ec51-0f0c84309b54",
        "colab": {
          "base_uri": "https://localhost:8080/",
          "height": 326
        }
      },
      "cell_type": "code",
      "source": [
        "modelLSTM1 = lstmRNN()\n",
        "modelLSTM1.summary()\n",
        "# model1.compile(loss='binary_crossentropy',optimizer=RMSprop(),metrics=['accuracy'])"
      ],
      "execution_count": 16,
      "outputs": [
        {
          "output_type": "stream",
          "text": [
            "/usr/local/lib/python3.6/dist-packages/ipykernel_launcher.py:5: UserWarning: Update your `LSTM` call to the Keras 2 API: `LSTM(64, kernel_initializer=\"uniform\")`\n",
            "  \"\"\"\n",
            "/usr/local/lib/python3.6/dist-packages/ipykernel_launcher.py:6: UserWarning: Update your `Dense` call to the Keras 2 API: `Dense(1, activation=\"sigmoid\", kernel_initializer=\"uniform\")`\n",
            "  \n"
          ],
          "name": "stderr"
        },
        {
          "output_type": "stream",
          "text": [
            "_________________________________________________________________\n",
            "Layer (type)                 Output Shape              Param #   \n",
            "=================================================================\n",
            "embedding_4 (Embedding)      (None, 100, 50)           250000    \n",
            "_________________________________________________________________\n",
            "lstm_1 (LSTM)                (None, 64)                29440     \n",
            "_________________________________________________________________\n",
            "dense_4 (Dense)              (None, 1)                 65        \n",
            "=================================================================\n",
            "Total params: 279,505\n",
            "Trainable params: 279,505\n",
            "Non-trainable params: 0\n",
            "_________________________________________________________________\n"
          ],
          "name": "stdout"
        }
      ]
    },
    {
      "metadata": {
        "id": "qW4Fwt5S0cav",
        "colab_type": "code",
        "outputId": "3608381e-6324-4c36-94db-77a80731668b",
        "colab": {
          "base_uri": "https://localhost:8080/",
          "height": 326
        }
      },
      "cell_type": "code",
      "source": [
        "modelLSTM2 = lstmRNN()\n",
        "modelLSTM2.summary()\n",
        "# model2.compile(loss='binary_crossentropy',optimizer=RMSprop(),metrics=['accuracy'])"
      ],
      "execution_count": 17,
      "outputs": [
        {
          "output_type": "stream",
          "text": [
            "/usr/local/lib/python3.6/dist-packages/ipykernel_launcher.py:5: UserWarning: Update your `LSTM` call to the Keras 2 API: `LSTM(64, kernel_initializer=\"uniform\")`\n",
            "  \"\"\"\n"
          ],
          "name": "stderr"
        },
        {
          "output_type": "stream",
          "text": [
            "_________________________________________________________________\n",
            "Layer (type)                 Output Shape              Param #   \n",
            "=================================================================\n",
            "embedding_5 (Embedding)      (None, 100, 50)           250000    \n",
            "_________________________________________________________________\n",
            "lstm_2 (LSTM)                (None, 64)                29440     \n",
            "_________________________________________________________________\n",
            "dense_5 (Dense)              (None, 1)                 65        \n",
            "=================================================================\n",
            "Total params: 279,505\n",
            "Trainable params: 279,505\n",
            "Non-trainable params: 0\n",
            "_________________________________________________________________\n"
          ],
          "name": "stdout"
        },
        {
          "output_type": "stream",
          "text": [
            "/usr/local/lib/python3.6/dist-packages/ipykernel_launcher.py:6: UserWarning: Update your `Dense` call to the Keras 2 API: `Dense(1, activation=\"sigmoid\", kernel_initializer=\"uniform\")`\n",
            "  \n"
          ],
          "name": "stderr"
        }
      ]
    },
    {
      "metadata": {
        "id": "Y7i8OLL40fqm",
        "colab_type": "code",
        "outputId": "a0b4e268-0bf1-4a34-fb7f-4d272efe6d53",
        "colab": {
          "base_uri": "https://localhost:8080/",
          "height": 326
        }
      },
      "cell_type": "code",
      "source": [
        "modelLSTM3 = lstmRNN()\n",
        "modelLSTM3.summary()\n",
        "# model3.compile(loss='binary_crossentropy',optimizer=RMSprop(),metrics=['accuracy'])"
      ],
      "execution_count": 18,
      "outputs": [
        {
          "output_type": "stream",
          "text": [
            "/usr/local/lib/python3.6/dist-packages/ipykernel_launcher.py:5: UserWarning: Update your `LSTM` call to the Keras 2 API: `LSTM(64, kernel_initializer=\"uniform\")`\n",
            "  \"\"\"\n"
          ],
          "name": "stderr"
        },
        {
          "output_type": "stream",
          "text": [
            "_________________________________________________________________\n",
            "Layer (type)                 Output Shape              Param #   \n",
            "=================================================================\n",
            "embedding_6 (Embedding)      (None, 100, 50)           250000    \n",
            "_________________________________________________________________\n",
            "lstm_3 (LSTM)                (None, 64)                29440     \n",
            "_________________________________________________________________\n",
            "dense_6 (Dense)              (None, 1)                 65        \n",
            "=================================================================\n",
            "Total params: 279,505\n",
            "Trainable params: 279,505\n",
            "Non-trainable params: 0\n",
            "_________________________________________________________________\n"
          ],
          "name": "stdout"
        },
        {
          "output_type": "stream",
          "text": [
            "/usr/local/lib/python3.6/dist-packages/ipykernel_launcher.py:6: UserWarning: Update your `Dense` call to the Keras 2 API: `Dense(1, activation=\"sigmoid\", kernel_initializer=\"uniform\")`\n",
            "  \n"
          ],
          "name": "stderr"
        }
      ]
    },
    {
      "metadata": {
        "colab_type": "text",
        "id": "eBGtsIZCshtK"
      },
      "cell_type": "markdown",
      "source": [
        "### GRU RNN"
      ]
    },
    {
      "metadata": {
        "colab_type": "code",
        "id": "CxrHeHh4shtQ",
        "colab": {}
      },
      "cell_type": "code",
      "source": [
        "from keras.models import Sequential\n",
        "def gruRNN():\n",
        "    model = Sequential()\n",
        "    model.add(Embedding(max_words, 50, input_length=max_len))\n",
        "    model.add(GRU(64, init='uniform'))\n",
        "    model.add(Dense(1, init='uniform', activation='sigmoid'))\n",
        "    model.compile(loss='binary_crossentropy', optimizer='rmsprop', metrics=['accuracy'])\n",
        "#     inputs = Input(name='inputs',shape=[max_len])\n",
        "#     layer = Embedding(max_words,50,input_length=max_len)(inputs)\n",
        "#     layer = GRU(64)(layer)\n",
        "#     layer = Dense(256,name='FC1')(layer)\n",
        "#     layer = Activation('relu')(layer)\n",
        "#     layer = Dropout(0.5)(layer)\n",
        "#     layer = Dense(1,name='out_layer')(layer)\n",
        "#     layer = Activation('sigmoid')(layer)\n",
        "#     model = Model(inputs=inputs,outputs=layer)\n",
        "    return model"
      ],
      "execution_count": 0,
      "outputs": []
    },
    {
      "metadata": {
        "colab_type": "code",
        "outputId": "bf3e9853-2ded-48a0-cd0b-5aaab5797396",
        "id": "s3eC3Hw0shtd",
        "colab": {
          "base_uri": "https://localhost:8080/",
          "height": 326
        }
      },
      "cell_type": "code",
      "source": [
        "modelGRU1 = gruRNN()\n",
        "modelGRU1.summary()\n",
        "# model1.compile(loss='binary_crossentropy',optimizer=RMSprop(),metrics=['accuracy'])"
      ],
      "execution_count": 20,
      "outputs": [
        {
          "output_type": "stream",
          "text": [
            "/usr/local/lib/python3.6/dist-packages/ipykernel_launcher.py:5: UserWarning: Update your `GRU` call to the Keras 2 API: `GRU(64, kernel_initializer=\"uniform\")`\n",
            "  \"\"\"\n",
            "/usr/local/lib/python3.6/dist-packages/ipykernel_launcher.py:6: UserWarning: Update your `Dense` call to the Keras 2 API: `Dense(1, activation=\"sigmoid\", kernel_initializer=\"uniform\")`\n",
            "  \n"
          ],
          "name": "stderr"
        },
        {
          "output_type": "stream",
          "text": [
            "_________________________________________________________________\n",
            "Layer (type)                 Output Shape              Param #   \n",
            "=================================================================\n",
            "embedding_7 (Embedding)      (None, 100, 50)           250000    \n",
            "_________________________________________________________________\n",
            "gru_1 (GRU)                  (None, 64)                22080     \n",
            "_________________________________________________________________\n",
            "dense_7 (Dense)              (None, 1)                 65        \n",
            "=================================================================\n",
            "Total params: 272,145\n",
            "Trainable params: 272,145\n",
            "Non-trainable params: 0\n",
            "_________________________________________________________________\n"
          ],
          "name": "stdout"
        }
      ]
    },
    {
      "metadata": {
        "colab_type": "code",
        "outputId": "4dc04684-5bfb-44e7-8269-6b0e595aa2bc",
        "id": "yUAGakd4shtw",
        "colab": {
          "base_uri": "https://localhost:8080/",
          "height": 326
        }
      },
      "cell_type": "code",
      "source": [
        "modelGRU2 = gruRNN()\n",
        "modelGRU2.summary()\n",
        "# model2.compile(loss='binary_crossentropy',optimizer=RMSprop(),metrics=['accuracy'])"
      ],
      "execution_count": 21,
      "outputs": [
        {
          "output_type": "stream",
          "text": [
            "/usr/local/lib/python3.6/dist-packages/ipykernel_launcher.py:5: UserWarning: Update your `GRU` call to the Keras 2 API: `GRU(64, kernel_initializer=\"uniform\")`\n",
            "  \"\"\"\n"
          ],
          "name": "stderr"
        },
        {
          "output_type": "stream",
          "text": [
            "_________________________________________________________________\n",
            "Layer (type)                 Output Shape              Param #   \n",
            "=================================================================\n",
            "embedding_8 (Embedding)      (None, 100, 50)           250000    \n",
            "_________________________________________________________________\n",
            "gru_2 (GRU)                  (None, 64)                22080     \n",
            "_________________________________________________________________\n",
            "dense_8 (Dense)              (None, 1)                 65        \n",
            "=================================================================\n",
            "Total params: 272,145\n",
            "Trainable params: 272,145\n",
            "Non-trainable params: 0\n",
            "_________________________________________________________________\n"
          ],
          "name": "stdout"
        },
        {
          "output_type": "stream",
          "text": [
            "/usr/local/lib/python3.6/dist-packages/ipykernel_launcher.py:6: UserWarning: Update your `Dense` call to the Keras 2 API: `Dense(1, activation=\"sigmoid\", kernel_initializer=\"uniform\")`\n",
            "  \n"
          ],
          "name": "stderr"
        }
      ]
    },
    {
      "metadata": {
        "colab_type": "code",
        "outputId": "9c6984e2-85f5-43eb-8d02-65eec5bb894e",
        "id": "K4Y8vwihshuB",
        "colab": {
          "base_uri": "https://localhost:8080/",
          "height": 326
        }
      },
      "cell_type": "code",
      "source": [
        "modelGRU3 = gruRNN()\n",
        "modelGRU3.summary()\n",
        "# model3.compile(loss='binary_crossentropy',optimizer=RMSprop(),metrics=['accuracy'])"
      ],
      "execution_count": 22,
      "outputs": [
        {
          "output_type": "stream",
          "text": [
            "/usr/local/lib/python3.6/dist-packages/ipykernel_launcher.py:5: UserWarning: Update your `GRU` call to the Keras 2 API: `GRU(64, kernel_initializer=\"uniform\")`\n",
            "  \"\"\"\n",
            "/usr/local/lib/python3.6/dist-packages/ipykernel_launcher.py:6: UserWarning: Update your `Dense` call to the Keras 2 API: `Dense(1, activation=\"sigmoid\", kernel_initializer=\"uniform\")`\n",
            "  \n"
          ],
          "name": "stderr"
        },
        {
          "output_type": "stream",
          "text": [
            "_________________________________________________________________\n",
            "Layer (type)                 Output Shape              Param #   \n",
            "=================================================================\n",
            "embedding_9 (Embedding)      (None, 100, 50)           250000    \n",
            "_________________________________________________________________\n",
            "gru_3 (GRU)                  (None, 64)                22080     \n",
            "_________________________________________________________________\n",
            "dense_9 (Dense)              (None, 1)                 65        \n",
            "=================================================================\n",
            "Total params: 272,145\n",
            "Trainable params: 272,145\n",
            "Non-trainable params: 0\n",
            "_________________________________________________________________\n"
          ],
          "name": "stdout"
        }
      ]
    },
    {
      "metadata": {
        "id": "VhL1NLrx1VXB",
        "colab_type": "text"
      },
      "cell_type": "markdown",
      "source": [
        "## Build Model"
      ]
    },
    {
      "metadata": {
        "colab_type": "text",
        "id": "MJIfgIcKvIYh"
      },
      "cell_type": "markdown",
      "source": [
        "### Train the data with Simple RNN"
      ]
    },
    {
      "metadata": {
        "colab_type": "code",
        "outputId": "c68a8348-8385-443d-c7af-49c12672f7e9",
        "id": "oZGGV9cqvIYj",
        "colab": {
          "base_uri": "https://localhost:8080/",
          "height": 462
        }
      },
      "cell_type": "code",
      "source": [
        "modelSimple1.fit(sequences_matrix1,Y1_train,batch_size=128,epochs=10,\n",
        "          validation_split=0.2)"
      ],
      "execution_count": 23,
      "outputs": [
        {
          "output_type": "stream",
          "text": [
            "WARNING:tensorflow:From /usr/local/lib/python3.6/dist-packages/tensorflow/python/ops/math_ops.py:3066: to_int32 (from tensorflow.python.ops.math_ops) is deprecated and will be removed in a future version.\n",
            "Instructions for updating:\n",
            "Use tf.cast instead.\n",
            "Train on 680 samples, validate on 171 samples\n",
            "Epoch 1/10\n",
            "680/680 [==============================] - 4s 5ms/step - loss: 0.6074 - acc: 0.7618 - val_loss: 0.5000 - val_acc: 0.8187\n",
            "Epoch 2/10\n",
            "680/680 [==============================] - 0s 633us/step - loss: 0.5356 - acc: 0.7765 - val_loss: 0.4797 - val_acc: 0.8187\n",
            "Epoch 3/10\n",
            "680/680 [==============================] - 0s 654us/step - loss: 0.5317 - acc: 0.7765 - val_loss: 0.4782 - val_acc: 0.8187\n",
            "Epoch 4/10\n",
            "680/680 [==============================] - 0s 648us/step - loss: 0.5301 - acc: 0.7765 - val_loss: 0.4776 - val_acc: 0.8187\n",
            "Epoch 5/10\n",
            "680/680 [==============================] - 1s 791us/step - loss: 0.5296 - acc: 0.7765 - val_loss: 0.4855 - val_acc: 0.8187\n",
            "Epoch 6/10\n",
            "680/680 [==============================] - 1s 789us/step - loss: 0.5282 - acc: 0.7765 - val_loss: 0.4774 - val_acc: 0.8246\n",
            "Epoch 7/10\n",
            "680/680 [==============================] - 1s 791us/step - loss: 0.5241 - acc: 0.7750 - val_loss: 0.4747 - val_acc: 0.8246\n",
            "Epoch 8/10\n",
            "680/680 [==============================] - 1s 784us/step - loss: 0.5139 - acc: 0.7750 - val_loss: 0.4727 - val_acc: 0.8187\n",
            "Epoch 9/10\n",
            "680/680 [==============================] - 1s 797us/step - loss: 0.4923 - acc: 0.7750 - val_loss: 0.4755 - val_acc: 0.8129\n",
            "Epoch 10/10\n",
            "680/680 [==============================] - 1s 789us/step - loss: 0.4948 - acc: 0.7735 - val_loss: 0.4789 - val_acc: 0.8304\n"
          ],
          "name": "stdout"
        },
        {
          "output_type": "execute_result",
          "data": {
            "text/plain": [
              "<keras.callbacks.History at 0x7fd00d31a6d8>"
            ]
          },
          "metadata": {
            "tags": []
          },
          "execution_count": 23
        }
      ]
    },
    {
      "metadata": {
        "colab_type": "code",
        "outputId": "c2ffdb48-33f2-47f7-b966-7df0f0457f1f",
        "id": "me3F8MAyvIYr",
        "colab": {
          "base_uri": "https://localhost:8080/",
          "height": 411
        }
      },
      "cell_type": "code",
      "source": [
        "modelSimple2.fit(sequences_matrix2,Y2_train,batch_size=128,epochs=10,\n",
        "          validation_split=0.2)"
      ],
      "execution_count": 24,
      "outputs": [
        {
          "output_type": "stream",
          "text": [
            "Train on 680 samples, validate on 171 samples\n",
            "Epoch 1/10\n",
            "680/680 [==============================] - 1s 2ms/step - loss: 0.6948 - acc: 0.6382 - val_loss: 0.6641 - val_acc: 0.9123\n",
            "Epoch 2/10\n",
            "680/680 [==============================] - 1s 781us/step - loss: 0.6045 - acc: 0.8882 - val_loss: 0.5441 - val_acc: 0.9123\n",
            "Epoch 3/10\n",
            "680/680 [==============================] - 1s 763us/step - loss: 0.5192 - acc: 0.8882 - val_loss: 0.4458 - val_acc: 0.9123\n",
            "Epoch 4/10\n",
            "680/680 [==============================] - 1s 807us/step - loss: 0.4409 - acc: 0.8882 - val_loss: 0.3830 - val_acc: 0.9123\n",
            "Epoch 5/10\n",
            "680/680 [==============================] - 1s 785us/step - loss: 0.3958 - acc: 0.8882 - val_loss: 0.3489 - val_acc: 0.9123\n",
            "Epoch 6/10\n",
            "680/680 [==============================] - 1s 788us/step - loss: 0.3724 - acc: 0.8882 - val_loss: 0.3257 - val_acc: 0.9123\n",
            "Epoch 7/10\n",
            "680/680 [==============================] - 1s 804us/step - loss: 0.3589 - acc: 0.8882 - val_loss: 0.3142 - val_acc: 0.9123\n",
            "Epoch 8/10\n",
            "680/680 [==============================] - 1s 800us/step - loss: 0.3521 - acc: 0.8882 - val_loss: 0.3045 - val_acc: 0.9123\n",
            "Epoch 9/10\n",
            "680/680 [==============================] - 1s 773us/step - loss: 0.3485 - acc: 0.8882 - val_loss: 0.3043 - val_acc: 0.9123\n",
            "Epoch 10/10\n",
            "680/680 [==============================] - 1s 775us/step - loss: 0.3472 - acc: 0.8882 - val_loss: 0.3031 - val_acc: 0.9123\n"
          ],
          "name": "stdout"
        },
        {
          "output_type": "execute_result",
          "data": {
            "text/plain": [
              "<keras.callbacks.History at 0x7fd004afcf60>"
            ]
          },
          "metadata": {
            "tags": []
          },
          "execution_count": 24
        }
      ]
    },
    {
      "metadata": {
        "colab_type": "code",
        "outputId": "cda6a291-e583-487c-97ae-f3d36f29f071",
        "id": "nB4JOFUivIYy",
        "colab": {
          "base_uri": "https://localhost:8080/",
          "height": 411
        }
      },
      "cell_type": "code",
      "source": [
        "modelSimple3.fit(sequences_matrix3,Y3_train,batch_size=128,epochs=10,\n",
        "          validation_split=0.2)"
      ],
      "execution_count": 25,
      "outputs": [
        {
          "output_type": "stream",
          "text": [
            "Train on 680 samples, validate on 171 samples\n",
            "Epoch 1/10\n",
            "680/680 [==============================] - 1s 2ms/step - loss: 0.7017 - acc: 0.4324 - val_loss: 0.6914 - val_acc: 0.6023\n",
            "Epoch 2/10\n",
            "680/680 [==============================] - 1s 780us/step - loss: 0.6757 - acc: 0.7824 - val_loss: 0.6142 - val_acc: 0.9883\n",
            "Epoch 3/10\n",
            "680/680 [==============================] - 1s 774us/step - loss: 0.6074 - acc: 0.8471 - val_loss: 0.4959 - val_acc: 0.9883\n",
            "Epoch 4/10\n",
            "680/680 [==============================] - 1s 791us/step - loss: 0.4547 - acc: 0.9779 - val_loss: 0.3771 - val_acc: 0.9883\n",
            "Epoch 5/10\n",
            "680/680 [==============================] - 1s 791us/step - loss: 0.3488 - acc: 0.9779 - val_loss: 0.2814 - val_acc: 0.9883\n",
            "Epoch 6/10\n",
            "680/680 [==============================] - 1s 762us/step - loss: 0.2671 - acc: 0.9779 - val_loss: 0.2138 - val_acc: 0.9883\n",
            "Epoch 7/10\n",
            "680/680 [==============================] - 1s 773us/step - loss: 0.2104 - acc: 0.9779 - val_loss: 0.1635 - val_acc: 0.9883\n",
            "Epoch 8/10\n",
            "680/680 [==============================] - 1s 768us/step - loss: 0.1702 - acc: 0.9779 - val_loss: 0.1294 - val_acc: 0.9883\n",
            "Epoch 9/10\n",
            "680/680 [==============================] - 1s 783us/step - loss: 0.1440 - acc: 0.9779 - val_loss: 0.1066 - val_acc: 0.9883\n",
            "Epoch 10/10\n",
            "680/680 [==============================] - 1s 775us/step - loss: 0.1273 - acc: 0.9779 - val_loss: 0.0914 - val_acc: 0.9883\n"
          ],
          "name": "stdout"
        },
        {
          "output_type": "execute_result",
          "data": {
            "text/plain": [
              "<keras.callbacks.History at 0x7fd004a1d9e8>"
            ]
          },
          "metadata": {
            "tags": []
          },
          "execution_count": 25
        }
      ]
    },
    {
      "metadata": {
        "id": "STnWnNMAz5Ou",
        "colab_type": "text"
      },
      "cell_type": "markdown",
      "source": [
        "### Train the data with LSTM RNN"
      ]
    },
    {
      "metadata": {
        "id": "EniIroPva5UV",
        "colab_type": "code",
        "outputId": "ef1ae4f8-fc57-42ed-bc6e-95fc7bd04417",
        "colab": {
          "base_uri": "https://localhost:8080/",
          "height": 411
        }
      },
      "cell_type": "code",
      "source": [
        "modelLSTM1.fit(sequences_matrix1,Y1_train,batch_size=128,epochs=10,\n",
        "          validation_split=0.2)"
      ],
      "execution_count": 26,
      "outputs": [
        {
          "output_type": "stream",
          "text": [
            "Train on 680 samples, validate on 171 samples\n",
            "Epoch 1/10\n",
            "680/680 [==============================] - 2s 3ms/step - loss: 0.6774 - acc: 0.7279 - val_loss: 0.5095 - val_acc: 0.8187\n",
            "Epoch 2/10\n",
            "680/680 [==============================] - 1s 2ms/step - loss: 0.5343 - acc: 0.7765 - val_loss: 0.4747 - val_acc: 0.8187\n",
            "Epoch 3/10\n",
            "680/680 [==============================] - 1s 2ms/step - loss: 0.5299 - acc: 0.7765 - val_loss: 0.4966 - val_acc: 0.8187\n",
            "Epoch 4/10\n",
            "680/680 [==============================] - 1s 2ms/step - loss: 0.5279 - acc: 0.7765 - val_loss: 0.4733 - val_acc: 0.8187\n",
            "Epoch 5/10\n",
            "680/680 [==============================] - 1s 2ms/step - loss: 0.5183 - acc: 0.7765 - val_loss: 0.4683 - val_acc: 0.8187\n",
            "Epoch 6/10\n",
            "680/680 [==============================] - 1s 2ms/step - loss: 0.4934 - acc: 0.7779 - val_loss: 0.4870 - val_acc: 0.8363\n",
            "Epoch 7/10\n",
            "680/680 [==============================] - 1s 2ms/step - loss: 0.4431 - acc: 0.7882 - val_loss: 0.4619 - val_acc: 0.8363\n",
            "Epoch 8/10\n",
            "680/680 [==============================] - 1s 2ms/step - loss: 0.4038 - acc: 0.8176 - val_loss: 0.4513 - val_acc: 0.8363\n",
            "Epoch 9/10\n",
            "680/680 [==============================] - 1s 2ms/step - loss: 0.3583 - acc: 0.8426 - val_loss: 0.4407 - val_acc: 0.8363\n",
            "Epoch 10/10\n",
            "680/680 [==============================] - 1s 2ms/step - loss: 0.3290 - acc: 0.8676 - val_loss: 0.4775 - val_acc: 0.8129\n"
          ],
          "name": "stdout"
        },
        {
          "output_type": "execute_result",
          "data": {
            "text/plain": [
              "<keras.callbacks.History at 0x7fd0045b5f98>"
            ]
          },
          "metadata": {
            "tags": []
          },
          "execution_count": 26
        }
      ]
    },
    {
      "metadata": {
        "id": "BDwaryPn0_EO",
        "colab_type": "code",
        "outputId": "50ebdc06-077d-48d6-e915-4a19d0d30677",
        "colab": {
          "base_uri": "https://localhost:8080/",
          "height": 411
        }
      },
      "cell_type": "code",
      "source": [
        "modelLSTM2.fit(sequences_matrix2,Y2_train,batch_size=128,epochs=10,\n",
        "          validation_split=0.2)"
      ],
      "execution_count": 27,
      "outputs": [
        {
          "output_type": "stream",
          "text": [
            "Train on 680 samples, validate on 171 samples\n",
            "Epoch 1/10\n",
            "680/680 [==============================] - 2s 4ms/step - loss: 0.6816 - acc: 0.8015 - val_loss: 0.4439 - val_acc: 0.9123\n",
            "Epoch 2/10\n",
            "680/680 [==============================] - 1s 2ms/step - loss: 0.3911 - acc: 0.8882 - val_loss: 0.3182 - val_acc: 0.9123\n",
            "Epoch 3/10\n",
            "680/680 [==============================] - 1s 2ms/step - loss: 0.3532 - acc: 0.8882 - val_loss: 0.3018 - val_acc: 0.9123\n",
            "Epoch 4/10\n",
            "680/680 [==============================] - 1s 2ms/step - loss: 0.3495 - acc: 0.8882 - val_loss: 0.2994 - val_acc: 0.9123\n",
            "Epoch 5/10\n",
            "680/680 [==============================] - 1s 2ms/step - loss: 0.3502 - acc: 0.8882 - val_loss: 0.2984 - val_acc: 0.9123\n",
            "Epoch 6/10\n",
            "680/680 [==============================] - 1s 2ms/step - loss: 0.3497 - acc: 0.8882 - val_loss: 0.3041 - val_acc: 0.9123\n",
            "Epoch 7/10\n",
            "680/680 [==============================] - 1s 2ms/step - loss: 0.3456 - acc: 0.8882 - val_loss: 0.2995 - val_acc: 0.9123\n",
            "Epoch 8/10\n",
            "680/680 [==============================] - 1s 2ms/step - loss: 0.3420 - acc: 0.8882 - val_loss: 0.3261 - val_acc: 0.9123\n",
            "Epoch 9/10\n",
            "680/680 [==============================] - 1s 2ms/step - loss: 0.3338 - acc: 0.8897 - val_loss: 0.2984 - val_acc: 0.9123\n",
            "Epoch 10/10\n",
            "680/680 [==============================] - 1s 2ms/step - loss: 0.3102 - acc: 0.8897 - val_loss: 0.3159 - val_acc: 0.9123\n"
          ],
          "name": "stdout"
        },
        {
          "output_type": "execute_result",
          "data": {
            "text/plain": [
              "<keras.callbacks.History at 0x7fd003ce9828>"
            ]
          },
          "metadata": {
            "tags": []
          },
          "execution_count": 27
        }
      ]
    },
    {
      "metadata": {
        "id": "6PPg4-a11KPR",
        "colab_type": "code",
        "outputId": "c8765ad1-758f-4c32-df1e-f2a3b7fe76ce",
        "colab": {
          "base_uri": "https://localhost:8080/",
          "height": 411
        }
      },
      "cell_type": "code",
      "source": [
        "modelLSTM3.fit(sequences_matrix3,Y3_train,batch_size=128,epochs=10,\n",
        "          validation_split=0.2)"
      ],
      "execution_count": 28,
      "outputs": [
        {
          "output_type": "stream",
          "text": [
            "Train on 680 samples, validate on 171 samples\n",
            "Epoch 1/10\n",
            "680/680 [==============================] - 3s 4ms/step - loss: 0.6689 - acc: 0.9044 - val_loss: 0.3281 - val_acc: 0.9883\n",
            "Epoch 2/10\n",
            "680/680 [==============================] - 1s 2ms/step - loss: 0.2483 - acc: 0.9779 - val_loss: 0.1529 - val_acc: 0.9883\n",
            "Epoch 3/10\n",
            "680/680 [==============================] - 1s 2ms/step - loss: 0.1566 - acc: 0.9779 - val_loss: 0.1099 - val_acc: 0.9883\n",
            "Epoch 4/10\n",
            "680/680 [==============================] - 1s 2ms/step - loss: 0.1276 - acc: 0.9779 - val_loss: 0.0878 - val_acc: 0.9883\n",
            "Epoch 5/10\n",
            "680/680 [==============================] - 1s 2ms/step - loss: 0.1140 - acc: 0.9779 - val_loss: 0.0784 - val_acc: 0.9883\n",
            "Epoch 6/10\n",
            "680/680 [==============================] - 1s 2ms/step - loss: 0.1084 - acc: 0.9779 - val_loss: 0.0697 - val_acc: 0.9883\n",
            "Epoch 7/10\n",
            "680/680 [==============================] - 1s 2ms/step - loss: 0.1055 - acc: 0.9779 - val_loss: 0.0671 - val_acc: 0.9883\n",
            "Epoch 8/10\n",
            "680/680 [==============================] - 1s 2ms/step - loss: 0.1049 - acc: 0.9779 - val_loss: 0.0673 - val_acc: 0.9883\n",
            "Epoch 9/10\n",
            "680/680 [==============================] - 1s 2ms/step - loss: 0.1055 - acc: 0.9779 - val_loss: 0.0660 - val_acc: 0.9883\n",
            "Epoch 10/10\n",
            "680/680 [==============================] - 1s 2ms/step - loss: 0.1041 - acc: 0.9779 - val_loss: 0.0651 - val_acc: 0.9883\n"
          ],
          "name": "stdout"
        },
        {
          "output_type": "execute_result",
          "data": {
            "text/plain": [
              "<keras.callbacks.History at 0x7fd0032d57b8>"
            ]
          },
          "metadata": {
            "tags": []
          },
          "execution_count": 28
        }
      ]
    },
    {
      "metadata": {
        "colab_type": "text",
        "id": "x-UCczAxvKPF"
      },
      "cell_type": "markdown",
      "source": [
        "### Train the data with GRU RNN"
      ]
    },
    {
      "metadata": {
        "colab_type": "code",
        "outputId": "0b5a329a-39ad-42ba-d0e8-9b9b2b25b51c",
        "id": "AK2WDNd_vKPH",
        "colab": {
          "base_uri": "https://localhost:8080/",
          "height": 411
        }
      },
      "cell_type": "code",
      "source": [
        "modelGRU1.fit(sequences_matrix1,Y1_train,batch_size=128,epochs=10,\n",
        "          validation_split=0.2)"
      ],
      "execution_count": 29,
      "outputs": [
        {
          "output_type": "stream",
          "text": [
            "Train on 680 samples, validate on 171 samples\n",
            "Epoch 1/10\n",
            "680/680 [==============================] - 2s 4ms/step - loss: 0.6868 - acc: 0.7309 - val_loss: 0.6641 - val_acc: 0.8187\n",
            "Epoch 2/10\n",
            "680/680 [==============================] - 1s 2ms/step - loss: 0.6042 - acc: 0.7765 - val_loss: 0.4722 - val_acc: 0.8187\n",
            "Epoch 3/10\n",
            "680/680 [==============================] - 1s 2ms/step - loss: 0.5061 - acc: 0.7765 - val_loss: 0.4574 - val_acc: 0.8187\n",
            "Epoch 4/10\n",
            "680/680 [==============================] - 1s 2ms/step - loss: 0.4785 - acc: 0.7765 - val_loss: 0.4819 - val_acc: 0.8187\n",
            "Epoch 5/10\n",
            "680/680 [==============================] - 1s 2ms/step - loss: 0.4336 - acc: 0.7794 - val_loss: 0.4614 - val_acc: 0.8363\n",
            "Epoch 6/10\n",
            "680/680 [==============================] - 1s 2ms/step - loss: 0.3949 - acc: 0.8015 - val_loss: 0.4443 - val_acc: 0.8363\n",
            "Epoch 7/10\n",
            "680/680 [==============================] - 1s 2ms/step - loss: 0.3331 - acc: 0.8279 - val_loss: 0.4279 - val_acc: 0.8363\n",
            "Epoch 8/10\n",
            "680/680 [==============================] - 1s 2ms/step - loss: 0.2824 - acc: 0.8618 - val_loss: 0.4284 - val_acc: 0.8363\n",
            "Epoch 9/10\n",
            "680/680 [==============================] - 1s 2ms/step - loss: 0.2413 - acc: 0.9088 - val_loss: 0.4197 - val_acc: 0.8246\n",
            "Epoch 10/10\n",
            "680/680 [==============================] - 1s 2ms/step - loss: 0.1927 - acc: 0.9426 - val_loss: 0.4240 - val_acc: 0.8304\n"
          ],
          "name": "stdout"
        },
        {
          "output_type": "execute_result",
          "data": {
            "text/plain": [
              "<keras.callbacks.History at 0x7fd002a499b0>"
            ]
          },
          "metadata": {
            "tags": []
          },
          "execution_count": 29
        }
      ]
    },
    {
      "metadata": {
        "colab_type": "code",
        "outputId": "c66fd948-57c5-41bd-e23c-6c92dd300156",
        "id": "Y1-sq9uFvKPP",
        "colab": {
          "base_uri": "https://localhost:8080/",
          "height": 411
        }
      },
      "cell_type": "code",
      "source": [
        "modelGRU2.fit(sequences_matrix2,Y2_train,batch_size=128,epochs=10,\n",
        "          validation_split=0.2)"
      ],
      "execution_count": 30,
      "outputs": [
        {
          "output_type": "stream",
          "text": [
            "Train on 680 samples, validate on 171 samples\n",
            "Epoch 1/10\n",
            "680/680 [==============================] - 3s 4ms/step - loss: 0.6837 - acc: 0.8074 - val_loss: 0.6502 - val_acc: 0.9123\n",
            "Epoch 2/10\n",
            "680/680 [==============================] - 1s 2ms/step - loss: 0.5329 - acc: 0.8882 - val_loss: 0.2970 - val_acc: 0.9123\n",
            "Epoch 3/10\n",
            "680/680 [==============================] - 1s 2ms/step - loss: 0.3448 - acc: 0.8882 - val_loss: 0.2969 - val_acc: 0.9123\n",
            "Epoch 4/10\n",
            "680/680 [==============================] - 1s 2ms/step - loss: 0.3429 - acc: 0.8882 - val_loss: 0.2969 - val_acc: 0.9123\n",
            "Epoch 5/10\n",
            "680/680 [==============================] - 1s 2ms/step - loss: 0.3324 - acc: 0.8882 - val_loss: 0.3062 - val_acc: 0.9123\n",
            "Epoch 6/10\n",
            "680/680 [==============================] - 1s 2ms/step - loss: 0.2906 - acc: 0.8897 - val_loss: 0.3104 - val_acc: 0.9123\n",
            "Epoch 7/10\n",
            "680/680 [==============================] - 1s 2ms/step - loss: 0.2592 - acc: 0.8971 - val_loss: 0.2886 - val_acc: 0.9123\n",
            "Epoch 8/10\n",
            "680/680 [==============================] - 1s 2ms/step - loss: 0.2257 - acc: 0.9000 - val_loss: 0.2874 - val_acc: 0.9123\n",
            "Epoch 9/10\n",
            "680/680 [==============================] - 1s 2ms/step - loss: 0.1709 - acc: 0.9235 - val_loss: 0.2994 - val_acc: 0.9123\n",
            "Epoch 10/10\n",
            "680/680 [==============================] - 1s 2ms/step - loss: 0.1467 - acc: 0.9456 - val_loss: 0.3081 - val_acc: 0.9064\n"
          ],
          "name": "stdout"
        },
        {
          "output_type": "execute_result",
          "data": {
            "text/plain": [
              "<keras.callbacks.History at 0x7fd002298d30>"
            ]
          },
          "metadata": {
            "tags": []
          },
          "execution_count": 30
        }
      ]
    },
    {
      "metadata": {
        "colab_type": "code",
        "outputId": "89fbde94-973d-4674-8614-c98bdf7ad018",
        "id": "nZm1BtfevKPX",
        "colab": {
          "base_uri": "https://localhost:8080/",
          "height": 411
        }
      },
      "cell_type": "code",
      "source": [
        "modelGRU3.fit(sequences_matrix3,Y3_train,batch_size=128,epochs=10,\n",
        "          validation_split=0.2)"
      ],
      "execution_count": 31,
      "outputs": [
        {
          "output_type": "stream",
          "text": [
            "Train on 680 samples, validate on 171 samples\n",
            "Epoch 1/10\n",
            "680/680 [==============================] - 3s 4ms/step - loss: 0.6802 - acc: 0.9059 - val_loss: 0.6332 - val_acc: 0.9883\n",
            "Epoch 2/10\n",
            "680/680 [==============================] - 1s 2ms/step - loss: 0.4331 - acc: 0.9779 - val_loss: 0.1118 - val_acc: 0.9883\n",
            "Epoch 3/10\n",
            "680/680 [==============================] - 1s 2ms/step - loss: 0.1253 - acc: 0.9779 - val_loss: 0.0829 - val_acc: 0.9883\n",
            "Epoch 4/10\n",
            "680/680 [==============================] - 1s 2ms/step - loss: 0.1116 - acc: 0.9779 - val_loss: 0.0751 - val_acc: 0.9883\n",
            "Epoch 5/10\n",
            "680/680 [==============================] - 1s 2ms/step - loss: 0.1079 - acc: 0.9779 - val_loss: 0.0746 - val_acc: 0.9883\n",
            "Epoch 6/10\n",
            "680/680 [==============================] - 1s 2ms/step - loss: 0.1076 - acc: 0.9779 - val_loss: 0.0722 - val_acc: 0.9883\n",
            "Epoch 7/10\n",
            "680/680 [==============================] - 1s 2ms/step - loss: 0.1061 - acc: 0.9779 - val_loss: 0.0684 - val_acc: 0.9883\n",
            "Epoch 8/10\n",
            "680/680 [==============================] - 1s 2ms/step - loss: 0.1052 - acc: 0.9779 - val_loss: 0.0692 - val_acc: 0.9883\n",
            "Epoch 9/10\n",
            "680/680 [==============================] - 1s 2ms/step - loss: 0.1048 - acc: 0.9779 - val_loss: 0.0677 - val_acc: 0.9883\n",
            "Epoch 10/10\n",
            "680/680 [==============================] - 1s 2ms/step - loss: 0.1047 - acc: 0.9779 - val_loss: 0.0716 - val_acc: 0.9883\n"
          ],
          "name": "stdout"
        },
        {
          "output_type": "execute_result",
          "data": {
            "text/plain": [
              "<keras.callbacks.History at 0x7fd001a35828>"
            ]
          },
          "metadata": {
            "tags": []
          },
          "execution_count": 31
        }
      ]
    },
    {
      "metadata": {
        "id": "-rzSncte1kE5",
        "colab_type": "text"
      },
      "cell_type": "markdown",
      "source": [
        "## Accuracy Data"
      ]
    },
    {
      "metadata": {
        "colab_type": "text",
        "id": "HtE6nacc7BKY"
      },
      "cell_type": "markdown",
      "source": [
        "### Accuracy with Simple RNN"
      ]
    },
    {
      "metadata": {
        "colab_type": "code",
        "id": "ua8S53Ne7BKZ",
        "colab": {}
      },
      "cell_type": "code",
      "source": [
        "test_sequences = tok.texts_to_sequences(X1_test)\n",
        "test_sequences_matrix1 = sequence.pad_sequences(test_sequences,maxlen=max_len)"
      ],
      "execution_count": 0,
      "outputs": []
    },
    {
      "metadata": {
        "colab_type": "code",
        "outputId": "2fe85950-331a-4299-8ab2-94ed0924a1ba",
        "id": "lIIM0X8q7BKd",
        "colab": {
          "base_uri": "https://localhost:8080/",
          "height": 136
        }
      },
      "cell_type": "code",
      "source": [
        "test_sequences_matrix1"
      ],
      "execution_count": 33,
      "outputs": [
        {
          "output_type": "execute_result",
          "data": {
            "text/plain": [
              "array([[   0,    0,    0, ...,  152,  693, 1076],\n",
              "       [   0,    0,    0, ...,   18,    4,  221],\n",
              "       [   0,    0,    0, ...,   23,  141,  151],\n",
              "       ...,\n",
              "       [   0,    0,    0, ...,  485,   10,    4],\n",
              "       [   0,    0,    0, ...,  137,   38,   18],\n",
              "       [   0,    0,    0, ...,  248,  196,  179]], dtype=int32)"
            ]
          },
          "metadata": {
            "tags": []
          },
          "execution_count": 33
        }
      ]
    },
    {
      "metadata": {
        "colab_type": "code",
        "id": "AozF45Nc7BKh",
        "colab": {}
      },
      "cell_type": "code",
      "source": [
        "test_sequences = tok.texts_to_sequences(X2_test)\n",
        "test_sequences_matrix2 = sequence.pad_sequences(test_sequences,maxlen=max_len)"
      ],
      "execution_count": 0,
      "outputs": []
    },
    {
      "metadata": {
        "colab_type": "code",
        "id": "sxZjaVWQ7BKk",
        "colab": {}
      },
      "cell_type": "code",
      "source": [
        "test_sequences = tok.texts_to_sequences(X3_test)\n",
        "test_sequences_matrix3 = sequence.pad_sequences(test_sequences,maxlen=max_len)"
      ],
      "execution_count": 0,
      "outputs": []
    },
    {
      "metadata": {
        "colab_type": "code",
        "id": "6oPzRYaZ7BKp",
        "colab": {}
      },
      "cell_type": "code",
      "source": [
        "y1_predict = modelSimple1.predict_classes(test_sequences_matrix1)\n",
        "y2_predict = modelSimple2.predict_classes(test_sequences_matrix2)\n",
        "y3_predict = modelSimple3.predict_classes(test_sequences_matrix3)"
      ],
      "execution_count": 0,
      "outputs": []
    },
    {
      "metadata": {
        "colab_type": "code",
        "outputId": "c51808e4-88e5-40f1-d92a-21251c488f1b",
        "id": "-OaEsop77BKt",
        "colab": {
          "base_uri": "https://localhost:8080/",
          "height": 3638
        }
      },
      "cell_type": "code",
      "source": [
        "y1_predict"
      ],
      "execution_count": 37,
      "outputs": [
        {
          "output_type": "execute_result",
          "data": {
            "text/plain": [
              "array([[0],\n",
              "       [0],\n",
              "       [0],\n",
              "       [1],\n",
              "       [0],\n",
              "       [0],\n",
              "       [0],\n",
              "       [0],\n",
              "       [0],\n",
              "       [0],\n",
              "       [0],\n",
              "       [0],\n",
              "       [0],\n",
              "       [0],\n",
              "       [0],\n",
              "       [0],\n",
              "       [0],\n",
              "       [0],\n",
              "       [0],\n",
              "       [0],\n",
              "       [0],\n",
              "       [0],\n",
              "       [0],\n",
              "       [0],\n",
              "       [0],\n",
              "       [0],\n",
              "       [0],\n",
              "       [0],\n",
              "       [0],\n",
              "       [0],\n",
              "       [0],\n",
              "       [0],\n",
              "       [0],\n",
              "       [0],\n",
              "       [0],\n",
              "       [0],\n",
              "       [0],\n",
              "       [0],\n",
              "       [0],\n",
              "       [0],\n",
              "       [0],\n",
              "       [0],\n",
              "       [0],\n",
              "       [0],\n",
              "       [0],\n",
              "       [0],\n",
              "       [0],\n",
              "       [0],\n",
              "       [0],\n",
              "       [0],\n",
              "       [0],\n",
              "       [0],\n",
              "       [0],\n",
              "       [0],\n",
              "       [0],\n",
              "       [0],\n",
              "       [0],\n",
              "       [0],\n",
              "       [0],\n",
              "       [0],\n",
              "       [0],\n",
              "       [0],\n",
              "       [0],\n",
              "       [0],\n",
              "       [0],\n",
              "       [0],\n",
              "       [0],\n",
              "       [0],\n",
              "       [0],\n",
              "       [0],\n",
              "       [0],\n",
              "       [0],\n",
              "       [0],\n",
              "       [0],\n",
              "       [0],\n",
              "       [0],\n",
              "       [0],\n",
              "       [0],\n",
              "       [0],\n",
              "       [0],\n",
              "       [0],\n",
              "       [0],\n",
              "       [0],\n",
              "       [0],\n",
              "       [0],\n",
              "       [0],\n",
              "       [0],\n",
              "       [0],\n",
              "       [0],\n",
              "       [0],\n",
              "       [0],\n",
              "       [0],\n",
              "       [0],\n",
              "       [0],\n",
              "       [0],\n",
              "       [0],\n",
              "       [0],\n",
              "       [0],\n",
              "       [0],\n",
              "       [0],\n",
              "       [0],\n",
              "       [0],\n",
              "       [0],\n",
              "       [0],\n",
              "       [0],\n",
              "       [0],\n",
              "       [0],\n",
              "       [0],\n",
              "       [0],\n",
              "       [0],\n",
              "       [0],\n",
              "       [0],\n",
              "       [0],\n",
              "       [0],\n",
              "       [0],\n",
              "       [0],\n",
              "       [0],\n",
              "       [0],\n",
              "       [0],\n",
              "       [0],\n",
              "       [0],\n",
              "       [0],\n",
              "       [0],\n",
              "       [0],\n",
              "       [0],\n",
              "       [0],\n",
              "       [0],\n",
              "       [0],\n",
              "       [0],\n",
              "       [0],\n",
              "       [0],\n",
              "       [0],\n",
              "       [0],\n",
              "       [0],\n",
              "       [0],\n",
              "       [0],\n",
              "       [0],\n",
              "       [0],\n",
              "       [0],\n",
              "       [0],\n",
              "       [0],\n",
              "       [0],\n",
              "       [0],\n",
              "       [0],\n",
              "       [0],\n",
              "       [0],\n",
              "       [0],\n",
              "       [0],\n",
              "       [0],\n",
              "       [0],\n",
              "       [0],\n",
              "       [0],\n",
              "       [0],\n",
              "       [0],\n",
              "       [0],\n",
              "       [0],\n",
              "       [0],\n",
              "       [0],\n",
              "       [0],\n",
              "       [0],\n",
              "       [0],\n",
              "       [0],\n",
              "       [0],\n",
              "       [0],\n",
              "       [0],\n",
              "       [0],\n",
              "       [0],\n",
              "       [0],\n",
              "       [0],\n",
              "       [0],\n",
              "       [0],\n",
              "       [0],\n",
              "       [0],\n",
              "       [0],\n",
              "       [0],\n",
              "       [0],\n",
              "       [0],\n",
              "       [0],\n",
              "       [0],\n",
              "       [0],\n",
              "       [0],\n",
              "       [0],\n",
              "       [0],\n",
              "       [0],\n",
              "       [0],\n",
              "       [0],\n",
              "       [0],\n",
              "       [0],\n",
              "       [0],\n",
              "       [0],\n",
              "       [0],\n",
              "       [0],\n",
              "       [0],\n",
              "       [0],\n",
              "       [0],\n",
              "       [0],\n",
              "       [0],\n",
              "       [0],\n",
              "       [0],\n",
              "       [0],\n",
              "       [0],\n",
              "       [0],\n",
              "       [0],\n",
              "       [0],\n",
              "       [0],\n",
              "       [0],\n",
              "       [0],\n",
              "       [0],\n",
              "       [0],\n",
              "       [0],\n",
              "       [0],\n",
              "       [0],\n",
              "       [0]], dtype=int32)"
            ]
          },
          "metadata": {
            "tags": []
          },
          "execution_count": 37
        }
      ]
    },
    {
      "metadata": {
        "colab_type": "code",
        "id": "NK-93Y5E7BKy",
        "colab": {}
      },
      "cell_type": "code",
      "source": [
        "Y_pred = np.zeros((len(y3_predict),3))\n",
        "for i in range(len(Y_pred)):\n",
        "  for j in range(len(Y_pred[i])):\n",
        "    if j == 0:\n",
        "      Y_pred[i][j] = y1_predict[i]\n",
        "    elif j == 1:\n",
        "      Y_pred[i][j] = y2_predict[i]\n",
        "    elif j == 2:\n",
        "      Y_pred[i][j] = y3_predict[i]"
      ],
      "execution_count": 0,
      "outputs": []
    },
    {
      "metadata": {
        "colab_type": "code",
        "outputId": "558e79b7-5a5c-4c2b-cf37-83e37dbc1075",
        "id": "BnlN9ADb7BK2",
        "colab": {
          "base_uri": "https://localhost:8080/",
          "height": 187
        }
      },
      "cell_type": "code",
      "source": [
        "Y_pred[:10]"
      ],
      "execution_count": 39,
      "outputs": [
        {
          "output_type": "execute_result",
          "data": {
            "text/plain": [
              "array([[0., 0., 1.],\n",
              "       [0., 0., 1.],\n",
              "       [0., 0., 1.],\n",
              "       [1., 0., 1.],\n",
              "       [0., 0., 1.],\n",
              "       [0., 0., 1.],\n",
              "       [0., 0., 1.],\n",
              "       [0., 0., 1.],\n",
              "       [0., 0., 1.],\n",
              "       [0., 0., 1.]])"
            ]
          },
          "metadata": {
            "tags": []
          },
          "execution_count": 39
        }
      ]
    },
    {
      "metadata": {
        "colab_type": "code",
        "id": "dr0JruRU7BK_",
        "colab": {}
      },
      "cell_type": "code",
      "source": [
        "Y_real = np.zeros((len(y3_predict),3))\n",
        "for i in range(len(Y_real)):\n",
        "  for j in range(len(Y_real[i])):\n",
        "    if j == 0:\n",
        "      Y_real[i][j] = Y1_test[i]\n",
        "    elif j == 1:\n",
        "      Y_real[i][j] = Y2_test[i]\n",
        "    elif j == 2:\n",
        "      Y_real[i][j] = Y3_test[i]"
      ],
      "execution_count": 0,
      "outputs": []
    },
    {
      "metadata": {
        "colab_type": "code",
        "outputId": "c8e1568e-51ab-4951-f580-ebca3a28623e",
        "id": "_XRHNOB67BLD",
        "colab": {
          "base_uri": "https://localhost:8080/",
          "height": 187
        }
      },
      "cell_type": "code",
      "source": [
        "Y_real[:10]"
      ],
      "execution_count": 43,
      "outputs": [
        {
          "output_type": "execute_result",
          "data": {
            "text/plain": [
              "array([[0., 0., 1.],\n",
              "       [0., 0., 1.],\n",
              "       [0., 0., 1.],\n",
              "       [1., 1., 1.],\n",
              "       [0., 1., 1.],\n",
              "       [0., 0., 1.],\n",
              "       [0., 1., 1.],\n",
              "       [0., 0., 1.],\n",
              "       [0., 0., 1.],\n",
              "       [0., 0., 1.]])"
            ]
          },
          "metadata": {
            "tags": []
          },
          "execution_count": 43
        }
      ]
    },
    {
      "metadata": {
        "colab_type": "code",
        "outputId": "b1710940-09da-42a0-e6f0-778cd1f98a9e",
        "id": "8x8J-EHq7BLI",
        "colab": {
          "base_uri": "https://localhost:8080/",
          "height": 34
        }
      },
      "cell_type": "code",
      "source": [
        "from sklearn.metrics import hamming_loss\n",
        "hamming_loss(Y_real, Y_pred)"
      ],
      "execution_count": 41,
      "outputs": [
        {
          "output_type": "execute_result",
          "data": {
            "text/plain": [
              "0.0892018779342723"
            ]
          },
          "metadata": {
            "tags": []
          },
          "execution_count": 41
        }
      ]
    },
    {
      "metadata": {
        "id": "wmleQm_I6qIW",
        "colab_type": "text"
      },
      "cell_type": "markdown",
      "source": [
        "### Accuracy with LSTM RNN"
      ]
    },
    {
      "metadata": {
        "id": "aPJRMXuH1pAQ",
        "colab_type": "code",
        "colab": {}
      },
      "cell_type": "code",
      "source": [
        "test_sequences = tok.texts_to_sequences(X1_test)\n",
        "test_sequences_matrix1 = sequence.pad_sequences(test_sequences,maxlen=max_len)"
      ],
      "execution_count": 0,
      "outputs": []
    },
    {
      "metadata": {
        "id": "JVOOEv9N10_d",
        "colab_type": "code",
        "colab": {}
      },
      "cell_type": "code",
      "source": [
        "test_sequences = tok.texts_to_sequences(X2_test)\n",
        "test_sequences_matrix2 = sequence.pad_sequences(test_sequences,maxlen=max_len)"
      ],
      "execution_count": 0,
      "outputs": []
    },
    {
      "metadata": {
        "id": "EjUBcJGL10Oe",
        "colab_type": "code",
        "colab": {}
      },
      "cell_type": "code",
      "source": [
        "test_sequences = tok.texts_to_sequences(X3_test)\n",
        "test_sequences_matrix3 = sequence.pad_sequences(test_sequences,maxlen=max_len)"
      ],
      "execution_count": 0,
      "outputs": []
    },
    {
      "metadata": {
        "id": "jkyb5aAR2Fq-",
        "colab_type": "code",
        "colab": {}
      },
      "cell_type": "code",
      "source": [
        "y1_predict = modelLSTM1.predict_classes(test_sequences_matrix1)\n",
        "y2_predict = modelLSTM2.predict_classes(test_sequences_matrix2)\n",
        "y3_predict = modelLSTM3.predict_classes(test_sequences_matrix3)"
      ],
      "execution_count": 0,
      "outputs": []
    },
    {
      "metadata": {
        "id": "nv3SHnIK7M7-",
        "colab_type": "code",
        "colab": {}
      },
      "cell_type": "code",
      "source": [
        "Y_pred = np.zeros((len(y3_predict),3))\n",
        "for i in range(len(Y_pred)):\n",
        "  for j in range(len(Y_pred[i])):\n",
        "    if j == 0:\n",
        "      Y_pred[i][j] = y1_predict[i]\n",
        "    elif j == 1:\n",
        "      Y_pred[i][j] = y2_predict[i]\n",
        "    elif j == 2:\n",
        "      Y_pred[i][j] = y3_predict[i]"
      ],
      "execution_count": 0,
      "outputs": []
    },
    {
      "metadata": {
        "id": "xZN-wJEi_VhV",
        "colab_type": "code",
        "colab": {}
      },
      "cell_type": "code",
      "source": [
        "Y_real = np.zeros((len(y3_predict),3))\n",
        "for i in range(len(Y_real)):\n",
        "  for j in range(len(Y_real[i])):\n",
        "    if j == 0:\n",
        "      Y_real[i][j] = Y1_test[i]\n",
        "    elif j == 1:\n",
        "      Y_real[i][j] = Y2_test[i]\n",
        "    elif j == 2:\n",
        "      Y_real[i][j] = Y3_test[i]"
      ],
      "execution_count": 0,
      "outputs": []
    },
    {
      "metadata": {
        "id": "CM4jyHsW-pWO",
        "colab_type": "code",
        "outputId": "8628238a-7459-4d01-f000-d08f11987041",
        "colab": {
          "base_uri": "https://localhost:8080/",
          "height": 34
        }
      },
      "cell_type": "code",
      "source": [
        "from sklearn.metrics import hamming_loss\n",
        "hamming_loss(Y_real, Y_pred)"
      ],
      "execution_count": 49,
      "outputs": [
        {
          "output_type": "execute_result",
          "data": {
            "text/plain": [
              "0.08294209702660407"
            ]
          },
          "metadata": {
            "tags": []
          },
          "execution_count": 49
        }
      ]
    },
    {
      "metadata": {
        "colab_type": "text",
        "id": "82n7jSe2AfGM"
      },
      "cell_type": "markdown",
      "source": [
        "### Accuracy with GRU RNN"
      ]
    },
    {
      "metadata": {
        "colab_type": "code",
        "id": "pdOz2kKhAfGN",
        "colab": {}
      },
      "cell_type": "code",
      "source": [
        "test_sequences = tok.texts_to_sequences(X1_test)\n",
        "test_sequences_matrix1 = sequence.pad_sequences(test_sequences,maxlen=max_len)"
      ],
      "execution_count": 0,
      "outputs": []
    },
    {
      "metadata": {
        "colab_type": "code",
        "id": "SeCk7tXIAfGR",
        "colab": {}
      },
      "cell_type": "code",
      "source": [
        "test_sequences = tok.texts_to_sequences(X2_test)\n",
        "test_sequences_matrix2 = sequence.pad_sequences(test_sequences,maxlen=max_len)"
      ],
      "execution_count": 0,
      "outputs": []
    },
    {
      "metadata": {
        "colab_type": "code",
        "id": "K1tnGYs8AfGW",
        "colab": {}
      },
      "cell_type": "code",
      "source": [
        "test_sequences = tok.texts_to_sequences(X3_test)\n",
        "test_sequences_matrix3 = sequence.pad_sequences(test_sequences,maxlen=max_len)"
      ],
      "execution_count": 0,
      "outputs": []
    },
    {
      "metadata": {
        "colab_type": "code",
        "id": "2lkUDoIBAfGb",
        "colab": {}
      },
      "cell_type": "code",
      "source": [
        "y1_predict = modelGRU1.predict_classes(test_sequences_matrix1)\n",
        "y2_predict = modelGRU2.predict_classes(test_sequences_matrix2)\n",
        "y3_predict = modelGRU3.predict_classes(test_sequences_matrix3)"
      ],
      "execution_count": 0,
      "outputs": []
    },
    {
      "metadata": {
        "colab_type": "code",
        "id": "ckMGcP8aAfGr",
        "colab": {}
      },
      "cell_type": "code",
      "source": [
        "Y_pred = np.zeros((len(y3_predict),3))\n",
        "for i in range(len(Y_pred)):\n",
        "  for j in range(len(Y_pred[i])):\n",
        "    if j == 0:\n",
        "      Y_pred[i][j] = y1_predict[i]\n",
        "    elif j == 1:\n",
        "      Y_pred[i][j] = y2_predict[i]\n",
        "    elif j == 2:\n",
        "      Y_pred[i][j] = y3_predict[i]"
      ],
      "execution_count": 0,
      "outputs": []
    },
    {
      "metadata": {
        "colab_type": "code",
        "id": "_b2d3gynAfGx",
        "colab": {}
      },
      "cell_type": "code",
      "source": [
        "Y_real = np.zeros((len(y3_predict),3))\n",
        "for i in range(len(Y_real)):\n",
        "  for j in range(len(Y_real[i])):\n",
        "    if j == 0:\n",
        "      Y_real[i][j] = Y1_test[i]\n",
        "    elif j == 1:\n",
        "      Y_real[i][j] = Y2_test[i]\n",
        "    elif j == 2:\n",
        "      Y_real[i][j] = Y3_test[i]"
      ],
      "execution_count": 0,
      "outputs": []
    },
    {
      "metadata": {
        "colab_type": "code",
        "outputId": "935aa8bf-046a-4ee4-95c2-cb3b19d675c3",
        "id": "68oQEnA3AfG5",
        "colab": {
          "base_uri": "https://localhost:8080/",
          "height": 34
        }
      },
      "cell_type": "code",
      "source": [
        "from sklearn.metrics import hamming_loss\n",
        "hamming_loss(Y_real, Y_pred)"
      ],
      "execution_count": 61,
      "outputs": [
        {
          "output_type": "execute_result",
          "data": {
            "text/plain": [
              "0.08450704225352113"
            ]
          },
          "metadata": {
            "tags": []
          },
          "execution_count": 61
        }
      ]
    }
  ]
}